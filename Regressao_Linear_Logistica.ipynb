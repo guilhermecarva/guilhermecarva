{
  "cells": [
    {
      "cell_type": "markdown",
      "metadata": {
        "id": "view-in-github",
        "colab_type": "text"
      },
      "source": [
        "<a href=\"https://colab.research.google.com/github/guilhermecarva/guilhermecarva/blob/main/Regressao_Linear_Logistica.ipynb\" target=\"_parent\"><img src=\"https://colab.research.google.com/assets/colab-badge.svg\" alt=\"Open In Colab\"/></a>"
      ]
    },
    {
      "cell_type": "markdown",
      "metadata": {
        "id": "r-dbNkQcsY72"
      },
      "source": [
        "<br>\n",
        "\n",
        "### Exercício: Regressão Linear:\n",
        "__Parte 1:__\n",
        "\n",
        "1- Usando a função getData(), carregue os dados disponibilizados.\n",
        "\n",
        "2- Separe parte dos dados para o dataset de teste.\n",
        "\n",
        "3- Usando a metodologia de validação cruzada, teste diferentes parâmetros da regLinear - diferentes learning_rates e num_steps - para escolher a melhor combinação de parâmetros.\n",
        "\n",
        "4- Implemente a regressão linear do scikit-learn e compare os resultados obtidos.\n",
        "\n",
        "__Parte 2 (Introdução):__\n",
        "\n",
        "Para cada variável explicativa $X_1, .., X_5$, crie outras variáveis usando o __quadrado__ de cada um delas. Desta forma, o conjunto final será de 10 variáveis, em que:\n",
        "\n",
        "$X_6 = (X_1)^{2}$, $X_7 = (X_2)^{2}$, $X_8 = (X_3)^{2}$, $X_9 = (X_4)^{2}$, $X_{10} = (X_5)^{2}$.\n",
        "\n",
        "Ao treinarmos uma regressão linear com essas 10 variáveis, a predição é da forma:\n",
        "\n",
        "$y_{pred} = \\theta_0 + \\theta_1 \\cdot X_1 + .. + \\theta_5 \\cdot X_5 + \\theta_6 \\cdot (X_1)^{2} + .. + \\theta_{10} \\cdot (X_5)^{2}$\n",
        "\n",
        "Como estamos usando o quadrado das variáveis explicativas, dizemos que temos um __modelo de regressão polinomial de grau 2__. Podemos ter variações deste modelo:\n",
        "\n",
        "-Podemos aumentar o grau: basta mudar a potência que elevamos as variáveis. Por exemplo, podemos incluir o __cubo__ das variáveis e termos um modelo polinomial de ordem 3.\n",
        "\n",
        "-Podemos ter __interações__ entre as variáveis: multiplicações entre as variáveis.\n",
        "\n",
        "Exemplo:\n",
        "\n",
        "$y_{pred} = \\theta_0 + \\theta_1 \\cdot X_1 + .. + \\theta_5 \\cdot X_5 + \\theta_6 \\cdot (X_1)^{2} + .. + \\theta_{10} \\cdot (X_5)^{2} + \\theta_{11} \\cdot (X_1)^{3} + \\theta_{12} \\cdot V1 + \\theta_{13} \\cdot V2$,\n",
        "\n",
        "onde\n",
        "\n",
        "$V_1 = X_1 \\cdot X_2$ e $V_2 = (X_2)^{2} \\cdot X_4$\n",
        "\n",
        "__Parte 2 (Exercício):__\n",
        "\n",
        "1- Estude o link:\n",
        "https://scikit-learn.org/stable/modules/generated/sklearn.preprocessing.PolynomialFeatures.html\n",
        "\n",
        "em que é discutido como criar modelos polinomiais com o scikit-learn de forma detalhada.\n",
        "\n",
        "2- Repita os passos da primeira parte, mas agora considerando polinômios de graus 2 ou mais.\n",
        "\n",
        "3- Inclua regularização Ridge e Lasso nas análises e teste os resultados para diferentes parâmetros $\\alpha$.\n",
        "\n",
        "<br>\n",
        "\n",
        "### Exercício: Regressão Logística:\n",
        "\n",
        "__Parte 1:__\n",
        "\n",
        "Crie uma classe regLogistica para treinar o modelo de regressão logística. Essa classe deve ser usada para problemas de classificação binária, cuja variável target assume os valores: 0 (classe negativa) e 1 (classe positiva).\n",
        "\n",
        "O método construtor dessa classe deve possuir 3 parâmetros: learning_rate, num_steps e limiar.\n",
        "\n",
        "Os outros médotos devem ser:\n",
        "\n",
        "    - médoto fit: para treinar o modelo - usando gradient descent\n",
        "    \n",
        "    - médoto predict_proba: para retornar a probabilidade da classe 1\n",
        "    \n",
        "    - médoto predict: retornar a classe predita: 0 ou 1 - dependente do limiar\n",
        "    \n",
        "__Parte 2:__\n",
        "\n",
        "Usando a função getData2(), carregue o dataset disponibilizado.\n",
        "\n",
        "Use a regLogistica, classe criada na parte 1 do exercício, para treinar modelos nestes dados. Use validação cruzada para seleção dos parâmetros. Considere diferentes métricas de classificação e justifique as escolhas."
      ]
    },
    {
      "cell_type": "code",
      "execution_count": null,
      "metadata": {
        "id": "vwl8o6alsY76"
      },
      "outputs": [],
      "source": [
        "import pandas as pd\n",
        "import numpy as np\n",
        "from sklearn.datasets import make_friedman1, make_classification\n",
        "import matplotlib.pyplot as plt"
      ]
    },
    {
      "cell_type": "code",
      "execution_count": null,
      "metadata": {
        "id": "GvmNyS3AsY77"
      },
      "outputs": [],
      "source": [
        "#função para acessar os dados do exercício 1\n",
        "\n",
        "def getData():\n",
        "    X, y = make_friedman1(n_samples = 10000, n_features = 5, noise = 5.0, random_state = 0)\n",
        "    return X, y"
      ]
    },
    {
      "cell_type": "code",
      "execution_count": null,
      "metadata": {
        "id": "G4HJ7ZU1sY77",
        "outputId": "2f4e0187-a751-4794-ca58-4a93d82f5b8f"
      },
      "outputs": [
        {
          "data": {
            "text/plain": [
              "((10000, 5), (10000,))"
            ]
          },
          "execution_count": 3,
          "metadata": {},
          "output_type": "execute_result"
        }
      ],
      "source": [
        "X, y = getData()\n",
        "X.shape, y.shape"
      ]
    },
    {
      "cell_type": "code",
      "execution_count": null,
      "metadata": {
        "id": "QgttAhszsY78"
      },
      "outputs": [],
      "source": [
        "#classe regLinear para exercício\n",
        "\n",
        "class regLinear():\n",
        "\n",
        "    def __init__(self, learning_rate, num_steps):\n",
        "        self.learning_rate = learning_rate\n",
        "        self.num_steps = num_steps\n",
        "\n",
        "    def fit(self, X, y):\n",
        "        y = y.reshape(-1,1)\n",
        "        m = X.shape[0]\n",
        "        k = X.shape[1]\n",
        "        theta = np.random.randn(k+1,1)\n",
        "        X_b = np.c_[np.ones((m, 1)), X]\n",
        "        for step in range(self.num_steps):\n",
        "            gradients = 2/m * X_b.T.dot(X_b.dot(theta) - y)\n",
        "            theta = theta - self.learning_rate * gradients\n",
        "        self.theta_final = theta\n",
        "        print(\"modelo treinado.\")\n",
        "\n",
        "    def predict(self, X):\n",
        "        m = X.shape[0]\n",
        "        X_b = np.c_[np.ones((m, 1)), X]\n",
        "        preds = X_b.dot(self.theta_final)\n",
        "        return preds.reshape(-1,)"
      ]
    },
    {
      "cell_type": "code",
      "execution_count": null,
      "metadata": {
        "id": "hL5zp3vesY78"
      },
      "outputs": [],
      "source": [
        "rg = regLinear(learning_rate=0.2,num_steps=20)"
      ]
    },
    {
      "cell_type": "code",
      "execution_count": null,
      "metadata": {
        "id": "lknQ_r6fsY79",
        "outputId": "0f5073d7-73bf-4c66-f455-4014aa5a3be5"
      },
      "outputs": [
        {
          "name": "stdout",
          "output_type": "stream",
          "text": [
            "modelo treinado.\n"
          ]
        },
        {
          "data": {
            "text/plain": [
              "array([15.76624218, 17.04274433, 16.34055882, ..., 14.35172636,\n",
              "       17.26256901, 17.49761984])"
            ]
          },
          "execution_count": 6,
          "metadata": {},
          "output_type": "execute_result"
        }
      ],
      "source": [
        "rg.fit(X, y)\n",
        "rg.predict(X)"
      ]
    },
    {
      "cell_type": "code",
      "execution_count": null,
      "metadata": {
        "id": "bF0FmhjQsY79"
      },
      "outputs": [],
      "source": [
        "rg = regLinear(learning_rate=0.4,num_steps=20)"
      ]
    },
    {
      "cell_type": "code",
      "execution_count": null,
      "metadata": {
        "id": "C9iT8KGJsY79",
        "outputId": "fb69c579-6839-4ee0-c76c-1081dc6d20b6"
      },
      "outputs": [
        {
          "name": "stdout",
          "output_type": "stream",
          "text": [
            "modelo treinado.\n"
          ]
        },
        {
          "data": {
            "text/plain": [
              "array([15.49328038, 17.81942122, 17.44955687, ..., 14.93164095,\n",
              "       16.71751083, 18.08417005])"
            ]
          },
          "execution_count": 8,
          "metadata": {},
          "output_type": "execute_result"
        }
      ],
      "source": [
        "rg.fit(X, y)\n",
        "rg.predict(X)"
      ]
    },
    {
      "cell_type": "code",
      "execution_count": null,
      "metadata": {
        "id": "RDpqpH73sY7-"
      },
      "outputs": [],
      "source": [
        "rg = regLinear(learning_rate=0.1,num_steps=200)"
      ]
    },
    {
      "cell_type": "code",
      "execution_count": null,
      "metadata": {
        "id": "LgEp5WIrsY7-",
        "outputId": "2182ac4a-fede-45eb-fe5a-4f377f32b0dc"
      },
      "outputs": [
        {
          "name": "stdout",
          "output_type": "stream",
          "text": [
            "modelo treinado.\n"
          ]
        },
        {
          "data": {
            "text/plain": [
              "array([16.17832573, 18.88665815, 18.60039887, ..., 15.38484777,\n",
              "       17.69072793, 19.39719941])"
            ]
          },
          "execution_count": 10,
          "metadata": {},
          "output_type": "execute_result"
        }
      ],
      "source": [
        "rg.fit(X, y)\n",
        "rg.predict(X)"
      ]
    },
    {
      "cell_type": "code",
      "execution_count": null,
      "metadata": {
        "id": "uD6N8vwRsY7-"
      },
      "outputs": [],
      "source": [
        "rg = regLinear(learning_rate=0.075,num_steps=200)"
      ]
    },
    {
      "cell_type": "code",
      "execution_count": null,
      "metadata": {
        "id": "7bwy48PosY7_",
        "outputId": "a3558b19-22c4-4d3d-eb02-ad895b667b71"
      },
      "outputs": [
        {
          "name": "stdout",
          "output_type": "stream",
          "text": [
            "modelo treinado.\n"
          ]
        },
        {
          "data": {
            "text/plain": [
              "array([16.12542283, 18.69873802, 18.48353534, ..., 15.4103143 ,\n",
              "       17.53505457, 19.22830484])"
            ]
          },
          "execution_count": 12,
          "metadata": {},
          "output_type": "execute_result"
        }
      ],
      "source": [
        "rg.fit(X, y)\n",
        "rg.predict(X)"
      ]
    },
    {
      "cell_type": "code",
      "execution_count": null,
      "metadata": {
        "id": "c2wKLtMVsY7_"
      },
      "outputs": [],
      "source": [
        "rg = regLinear(learning_rate=0.15,num_steps=200)  ## ESTES FORAM OS PARÂMETROS QUE MAIS SE APROXIMARAM DO LR"
      ]
    },
    {
      "cell_type": "code",
      "execution_count": null,
      "metadata": {
        "id": "1Tk9Cc8ssY7_",
        "outputId": "958f4a36-96e4-4f5d-fef8-7acdee611b26"
      },
      "outputs": [
        {
          "name": "stdout",
          "output_type": "stream",
          "text": [
            "modelo treinado.\n"
          ]
        },
        {
          "data": {
            "text/plain": [
              "array([16.23712627, 19.04402336, 18.73914113, ..., 15.37802385,\n",
              "       17.81530414, 19.55852197])"
            ]
          },
          "execution_count": 14,
          "metadata": {},
          "output_type": "execute_result"
        }
      ],
      "source": [
        "rg.fit(X, y)\n",
        "rg.predict(X)"
      ]
    },
    {
      "cell_type": "code",
      "execution_count": null,
      "metadata": {
        "id": "TOI4hgNKsY7_"
      },
      "outputs": [],
      "source": [
        "from sklearn.linear_model import LinearRegression"
      ]
    },
    {
      "cell_type": "code",
      "execution_count": null,
      "metadata": {
        "id": "dZt8oQYpsY7_",
        "outputId": "a1964842-1219-4c82-a873-8b89d770f8ad"
      },
      "outputs": [
        {
          "name": "stdout",
          "output_type": "stream",
          "text": [
            "-0.05568613230242292 [ 6.37661369  7.0025      0.21819147 10.42594526  4.78517778]\n",
            "\n"
          ]
        },
        {
          "data": {
            "text/plain": [
              "array([16.29170271, 19.20364386, 18.8105078 , ..., 15.3053878 ,\n",
              "       17.95296077, 19.63525471])"
            ]
          },
          "execution_count": 16,
          "metadata": {},
          "output_type": "execute_result"
        }
      ],
      "source": [
        "lm = LinearRegression()\n",
        "lm.fit(X, y)\n",
        "print(lm.intercept_, lm.coef_)\n",
        "print()\n",
        "lm.predict(X)"
      ]
    },
    {
      "cell_type": "code",
      "execution_count": null,
      "metadata": {
        "id": "UkUW--1ksY7_"
      },
      "outputs": [],
      "source": [
        "from sklearn.preprocessing import PolynomialFeatures"
      ]
    },
    {
      "cell_type": "code",
      "execution_count": null,
      "metadata": {
        "id": "eISPhQ6csY7_",
        "outputId": "6532c3da-fc19-4ec6-b4a3-0b9188ac4e67"
      },
      "outputs": [
        {
          "data": {
            "text/plain": [
              "(10000, 20)"
            ]
          },
          "execution_count": 18,
          "metadata": {},
          "output_type": "execute_result"
        }
      ],
      "source": [
        "poly_features = PolynomialFeatures(degree = 2, include_bias = False)\n",
        "X_poly = poly_features.fit_transform(X)\n",
        "X_poly.shape"
      ]
    },
    {
      "cell_type": "code",
      "execution_count": null,
      "metadata": {
        "id": "qXAN39fYsY8A"
      },
      "outputs": [],
      "source": [
        "class regLinearPoly():\n",
        "\n",
        "    def __init__(self, learning_rate, num_steps):\n",
        "        self.learning_rate = learning_rate\n",
        "        self.num_steps = num_steps\n",
        "\n",
        "    def fit(self, X_poly, y):\n",
        "        y = y.reshape(-1,1)\n",
        "        m = X_poly.shape[0]\n",
        "        k = X_poly.shape[1]\n",
        "        theta = np.random.randn(k+1,1)\n",
        "        X_b = np.c_[np.ones((m, 1)), X_poly]\n",
        "        for step in range(self.num_steps):\n",
        "            gradients = 2/m * X_b.T.dot(X_b.dot(theta) - y)\n",
        "            theta = theta - self.learning_rate * gradients\n",
        "        self.theta_final = theta\n",
        "        print(\"modelo treinado.\")\n",
        "\n",
        "    def predict(self, X_poly):\n",
        "        m = X_poly.shape[0]\n",
        "        X_b = np.c_[np.ones((m, 1)), X_poly]\n",
        "        preds = X_b.dot(self.theta_final)\n",
        "        return preds.reshape(-1,)"
      ]
    },
    {
      "cell_type": "code",
      "execution_count": null,
      "metadata": {
        "id": "f1b4XSCAsY8A"
      },
      "outputs": [],
      "source": [
        "rg_poly = regLinearPoly(learning_rate=0.15,num_steps=200)"
      ]
    },
    {
      "cell_type": "code",
      "execution_count": null,
      "metadata": {
        "id": "_VpjH1yRsY8A",
        "outputId": "4c43d76e-da2f-41a7-fcfe-f05439ab617e"
      },
      "outputs": [
        {
          "name": "stdout",
          "output_type": "stream",
          "text": [
            "modelo treinado.\n"
          ]
        },
        {
          "data": {
            "text/plain": [
              "array([15.98109034, 19.90938355, 18.51807905, ..., 14.95425638,\n",
              "       17.51160655, 19.7923907 ])"
            ]
          },
          "execution_count": 21,
          "metadata": {},
          "output_type": "execute_result"
        }
      ],
      "source": [
        "rg_poly.fit(X_poly, y)\n",
        "rg_poly.predict(X_poly)"
      ]
    },
    {
      "cell_type": "code",
      "execution_count": null,
      "metadata": {
        "id": "iAlI9iopsY8A",
        "outputId": "82f01444-f5ac-4a03-b6b1-b38d352592d6"
      },
      "outputs": [
        {
          "data": {
            "text/plain": [
              "(0.4504835474190205,\n",
              " array([ 18.06635723,  18.29480455, -22.06837755,   8.34123951,\n",
              "          5.44837505, -12.35980551,   0.46905488,   0.40408001,\n",
              "          1.21913492,  -0.58589089, -12.14159426,   1.04002326,\n",
              "          0.48739516,  -0.37435475,  20.99465285,   1.02029732,\n",
              "         -0.10653987,   0.49017536,   0.50322174,  -0.43200621]))"
            ]
          },
          "execution_count": 22,
          "metadata": {},
          "output_type": "execute_result"
        }
      ],
      "source": [
        "poly_fit = LinearRegression()\n",
        "poly_fit.fit(X_poly, y)\n",
        "\n",
        "poly_fit.intercept_, poly_fit.coef_"
      ]
    },
    {
      "cell_type": "code",
      "execution_count": null,
      "metadata": {
        "id": "SF6-jtfDsY8A"
      },
      "outputs": [],
      "source": [
        "from sklearn.preprocessing import StandardScaler\n",
        "from sklearn.pipeline import Pipeline\n",
        "from sklearn.linear_model import Ridge, Lasso"
      ]
    },
    {
      "cell_type": "code",
      "execution_count": null,
      "metadata": {
        "id": "5fg1SYiCsY8A"
      },
      "outputs": [],
      "source": [
        "def polyFitReg(X, y, grau, base_model, base_model_name):\n",
        "\n",
        "    polybig_features = PolynomialFeatures(degree = grau, include_bias = False, interaction_only=True)\n",
        "    std_scaler = StandardScaler()\n",
        "    basemodel = base_model\n",
        "\n",
        "    #criando um pipeline: sequencia de execução de passos\n",
        "    polynomial_regression = Pipeline([\n",
        "            (\"poly_features\", polybig_features),\n",
        "            (\"std_scaler\", std_scaler),\n",
        "            (base_model_name, base_model),\n",
        "        ])\n",
        "\n",
        "    polynomial_regression.fit(X, y)\n",
        "    return polynomial_regression"
      ]
    },
    {
      "cell_type": "code",
      "execution_count": null,
      "metadata": {
        "id": "0UpmlHoOsY8A",
        "outputId": "a92db6aa-acc7-43ac-980b-919f4a24d183"
      },
      "outputs": [
        {
          "name": "stdout",
          "output_type": "stream",
          "text": [
            "Ridge_ alpha: 0.001\n",
            "RMSE:\n",
            "treino: 5.543185580216105\n",
            "------------------------------------------------\n",
            "\n",
            "\n",
            "Ridge_ alpha: 0.01\n",
            "RMSE:\n",
            "treino: 5.54318558882166\n",
            "------------------------------------------------\n",
            "\n",
            "\n",
            "Ridge_ alpha: 0.1\n",
            "RMSE:\n",
            "treino: 5.543186312637148\n",
            "------------------------------------------------\n",
            "\n",
            "\n",
            "Ridge_ alpha: 1\n",
            "RMSE:\n",
            "treino: 5.543211095501343\n",
            "------------------------------------------------\n",
            "\n",
            "\n",
            "Ridge_ alpha: 5\n",
            "RMSE:\n",
            "treino: 5.54335570290825\n",
            "------------------------------------------------\n",
            "\n",
            "\n",
            "Ridge_ alpha: 10\n",
            "RMSE:\n",
            "treino: 5.5435576238025766\n",
            "------------------------------------------------\n",
            "\n",
            "\n",
            "Ridge_ alpha: 100\n",
            "RMSE:\n",
            "treino: 5.545815040031815\n",
            "------------------------------------------------\n",
            "\n",
            "\n",
            "Ridge_ alpha: 200\n",
            "RMSE:\n",
            "treino: 5.547815130107186\n",
            "------------------------------------------------\n",
            "\n",
            "\n"
          ]
        }
      ],
      "source": [
        "grau = 200\n",
        "\n",
        "for alpha in [0.001, 0.01, 0.1, 1, 5, 10, 100, 200]:\n",
        "\n",
        "    model_name = 'Ridge_ alpha: '+str(alpha)\n",
        "    polyfit = polyFitReg(X,\n",
        "                         y,\n",
        "                         grau,\n",
        "                         base_model = Ridge(alpha = alpha),\n",
        "                         base_model_name = model_name)\n",
        "\n",
        "    print(model_name)\n",
        "    print(\"RMSE:\")\n",
        "    print('treino:', np.sqrt(np.mean(np.square(y - polyfit.predict(X)))))\n",
        "\n",
        "    print(\"------------------------------------------------\\n\\n\")"
      ]
    },
    {
      "cell_type": "code",
      "execution_count": null,
      "metadata": {
        "id": "N9GHGbw0sY8B",
        "outputId": "266425ac-90d8-4f64-bcd5-6e5f35143957"
      },
      "outputs": [
        {
          "name": "stdout",
          "output_type": "stream",
          "text": [
            "Lasso_ alpha: 0.001\n",
            "RMSE:\n",
            "treino: 5.543688054991845\n",
            "------------------------------------------------\n",
            "\n",
            "\n",
            "Lasso_ alpha: 0.01\n",
            "RMSE:\n",
            "treino: 5.545986847100434\n",
            "------------------------------------------------\n",
            "\n",
            "\n",
            "Lasso_ alpha: 0.1\n",
            "RMSE:\n",
            "treino: 5.554445681792339\n",
            "------------------------------------------------\n",
            "\n",
            "\n",
            "Lasso_ alpha: 1\n",
            "RMSE:\n",
            "treino: 5.8293116907315286\n",
            "------------------------------------------------\n",
            "\n",
            "\n",
            "Lasso_ alpha: 5\n",
            "RMSE:\n",
            "treino: 7.013406143619709\n",
            "------------------------------------------------\n",
            "\n",
            "\n",
            "Lasso_ alpha: 10\n",
            "RMSE:\n",
            "treino: 7.013406143619709\n",
            "------------------------------------------------\n",
            "\n",
            "\n",
            "Lasso_ alpha: 100\n",
            "RMSE:\n",
            "treino: 7.013406143619709\n",
            "------------------------------------------------\n",
            "\n",
            "\n",
            "Lasso_ alpha: 200\n",
            "RMSE:\n",
            "treino: 7.013406143619709\n",
            "------------------------------------------------\n",
            "\n",
            "\n"
          ]
        }
      ],
      "source": [
        "grau = 200\n",
        "\n",
        "for alpha in [0.001, 0.01, 0.1, 1, 5, 10, 100, 200]:\n",
        "\n",
        "    model_name = 'Lasso_ alpha: '+str(alpha)\n",
        "    polyfit = polyFitReg(X,\n",
        "                         y,\n",
        "                         grau,\n",
        "                         base_model = Lasso(alpha = alpha, max_iter=10000),\n",
        "                         base_model_name = model_name)\n",
        "\n",
        "    print(model_name)\n",
        "    print(\"RMSE:\")\n",
        "    print('treino:', np.sqrt(np.mean(np.square(y - polyfit.predict(X)))))\n",
        "\n",
        "    print(\"------------------------------------------------\\n\\n\")"
      ]
    },
    {
      "cell_type": "markdown",
      "metadata": {
        "id": "gA8t14MqsY8B"
      },
      "source": [
        "Crie uma classe regLogistica para treinar o modelo de regressão logística. Essa classe deve ser usada para problemas de classificação binária, cuja variável target assume os valores: 0 (classe negativa) e 1 (classe positiva).\n",
        "\n",
        "O método construtor dessa classe deve possuir 3 parâmetros: learning_rate, num_steps e limiar.\n",
        "\n",
        "Os outros médotos devem ser:\n",
        "\n",
        "- médoto fit: para treinar o modelo - usando gradient descent\n",
        "\n",
        "- médoto predict_proba: para retornar a probabilidade da classe 1\n",
        "\n",
        "- médoto predict: retornar a classe predita: 0 ou 1 - dependente do limiar"
      ]
    },
    {
      "cell_type": "code",
      "execution_count": null,
      "metadata": {
        "id": "L9oe7IczsY8B"
      },
      "outputs": [],
      "source": [
        "#função para acessar os dados do exercício 2\n",
        "\n",
        "def getData2():\n",
        "    X, y = make_classification(n_classes=2, n_features=5, n_samples=10000, random_state = 0)\n",
        "    return X, y"
      ]
    },
    {
      "cell_type": "code",
      "execution_count": null,
      "metadata": {
        "id": "eTeDFhvEsY8B",
        "outputId": "c9d6d090-f4e4-4a34-f323-4a4aab395143"
      },
      "outputs": [
        {
          "data": {
            "text/plain": [
              "array([[0.5488135 , 0.71518937, 0.60276338, 0.54488318, 0.4236548 ],\n",
              "       [0.64589411, 0.43758721, 0.891773  , 0.96366276, 0.38344152],\n",
              "       [0.79172504, 0.52889492, 0.56804456, 0.92559664, 0.07103606],\n",
              "       [0.0871293 , 0.0202184 , 0.83261985, 0.77815675, 0.87001215],\n",
              "       [0.97861834, 0.79915856, 0.46147936, 0.78052918, 0.11827443],\n",
              "       [0.63992102, 0.14335329, 0.94466892, 0.52184832, 0.41466194],\n",
              "       [0.26455561, 0.77423369, 0.45615033, 0.56843395, 0.0187898 ],\n",
              "       [0.6176355 , 0.61209572, 0.616934  , 0.94374808, 0.6818203 ],\n",
              "       [0.3595079 , 0.43703195, 0.6976312 , 0.06022547, 0.66676672],\n",
              "       [0.67063787, 0.21038256, 0.1289263 , 0.31542835, 0.36371077]])"
            ]
          },
          "execution_count": 373,
          "metadata": {},
          "output_type": "execute_result"
        }
      ],
      "source": [
        "X[:10]"
      ]
    },
    {
      "cell_type": "code",
      "execution_count": null,
      "metadata": {
        "id": "keKDftUysY8B",
        "outputId": "8d0404bd-63aa-4dcc-a16f-59b8535c0a0c"
      },
      "outputs": [
        {
          "data": {
            "text/plain": [
              "array([15.28814034, 21.53563265, 15.33477388, ..., 13.55427826,\n",
              "       20.05388514, 18.67813117])"
            ]
          },
          "execution_count": 374,
          "metadata": {},
          "output_type": "execute_result"
        }
      ],
      "source": [
        "y"
      ]
    },
    {
      "cell_type": "code",
      "execution_count": null,
      "metadata": {
        "id": "ccxQIrelsY8B"
      },
      "outputs": [],
      "source": [
        "def logLossCost(ytrue, ypred_probs):\n",
        "    return (ytrue * np.log(ypred_probs) + (1 - ytrue) * np.log(1 - ypred_probs)).mean() * -1"
      ]
    },
    {
      "cell_type": "code",
      "execution_count": null,
      "metadata": {
        "id": "_73KSfCTsY8B"
      },
      "outputs": [],
      "source": [
        "def sigmoid(t):\n",
        "    return 1 / (1 + np.exp(-t))"
      ]
    },
    {
      "cell_type": "code",
      "execution_count": null,
      "metadata": {
        "id": "cI1eRex_sY8C"
      },
      "outputs": [],
      "source": [
        "#classe regLogistica para exercício\n",
        "\n",
        "class regLogistica():\n",
        "\n",
        "    def __init__(self, learning_rate, num_steps,limiar):\n",
        "        self.learning_rate = learning_rate\n",
        "        self.num_steps = num_steps\n",
        "        self.limiar = limiar\n",
        "\n",
        "    def fit(self, X, y):\n",
        "        y = y.reshape(-1,1)\n",
        "\n",
        "        self.X_b = np.c_[np.ones(X.shape[0]), X]\n",
        "        theta = np.random.randn(self.X_b.shape[1],1)\n",
        "\n",
        "        for step in range(self.num_steps):\n",
        "            yscores = sigmoid(self.X_b.dot(theta))\n",
        "            gradient = self.X_b.T.dot(yscores - y)\n",
        "            theta = theta - self.learning_rate * gradient\n",
        "            logloss_step = logLossCost(ytrue = y, ypred_probs = yscores)\n",
        "            print('passo:', step)\n",
        "            print('theta:', theta.reshape(-1,))\n",
        "            print(logloss_step)\n",
        "            print('\\n-----------------------------------------------------------\\n')\n",
        "        self.theta_final = theta\n",
        "        print(\"modelo treinado.\")\n",
        "        #return theta_final\n",
        "\n",
        "    def predict_proba(self, X):\n",
        "        self.probs = sigmoid(self.X_b.dot(self.theta_final))\n",
        "        return self.probs\n",
        "\n",
        "    def predict(self, X):\n",
        "        ypred = np.where(self.probs>self.limiar, 1, 0)\n",
        "        return ypred"
      ]
    },
    {
      "cell_type": "code",
      "execution_count": null,
      "metadata": {
        "id": "WtbpkDecsY8C"
      },
      "outputs": [],
      "source": [
        "rl = regLogistica(learning_rate = 0.15, num_steps = 5, limiar = 0.5)"
      ]
    },
    {
      "cell_type": "code",
      "execution_count": null,
      "metadata": {
        "id": "oX1yOd2NsY8C",
        "outputId": "d610a039-3abb-4d95-8f3c-e2639f3f6fc4"
      },
      "outputs": [
        {
          "data": {
            "text/plain": [
              "((7500, 5), (2500, 5), (7500,), (2500,))"
            ]
          },
          "execution_count": 379,
          "metadata": {},
          "output_type": "execute_result"
        }
      ],
      "source": [
        "Xtrain, Xtest, ytrain, ytest = X[:7500], X[7500:], y[:7500], y[7500:]\n",
        "Xtrain.shape, Xtest.shape, ytrain.shape, ytest.shape"
      ]
    },
    {
      "cell_type": "code",
      "execution_count": null,
      "metadata": {
        "id": "yGJxYv1WsY8C",
        "outputId": "d265ad97-5d88-4ac9-84c6-61788e9ac2bc"
      },
      "outputs": [
        {
          "name": "stdout",
          "output_type": "stream",
          "text": [
            "passo: 0\n",
            "theta: [15702.93838008  8447.753136    8417.59693509  7878.36451731\n",
            "  8833.272092    8244.60477228]\n",
            "11.103583054443687\n",
            "\n",
            "-----------------------------------------------------------\n",
            "\n",
            "passo: 1\n",
            "theta: [30665.64058154 16506.49388221 16455.54234858 15375.67084897\n",
            " 17297.80132175 16126.9645517 ]\n",
            "nan\n",
            "\n",
            "-----------------------------------------------------------\n",
            "\n",
            "passo: 2\n",
            "theta: [45628.34278301 24565.23462841 24493.48776207 22872.97718062\n",
            " 25762.3305515  24009.32433112]\n",
            "nan\n",
            "\n",
            "-----------------------------------------------------------\n",
            "\n",
            "passo: 3\n",
            "theta: [60591.04498447 32623.97537461 32531.43317556 30370.28351227\n",
            " 34226.85978125 31891.68411053]\n",
            "nan\n",
            "\n",
            "-----------------------------------------------------------\n",
            "\n",
            "passo: 4\n",
            "theta: [75553.74718593 40682.71612082 40569.37858904 37867.58984392\n",
            " 42691.38901099 39774.04388995]\n",
            "nan\n",
            "\n",
            "-----------------------------------------------------------\n",
            "\n",
            "modelo treinado.\n"
          ]
        },
        {
          "name": "stderr",
          "output_type": "stream",
          "text": [
            "C:\\Users\\guilh\\AppData\\Local\\Temp\\ipykernel_17172\\2968421007.py:2: RuntimeWarning: divide by zero encountered in log\n",
            "  return (ytrue * np.log(ypred_probs) + (1 - ytrue) * np.log(1 - ypred_probs)).mean() * -1\n"
          ]
        }
      ],
      "source": [
        "rl.fit(Xtrain,ytrain)"
      ]
    },
    {
      "cell_type": "code",
      "execution_count": null,
      "metadata": {
        "id": "3GTwrdRjsY8C",
        "outputId": "5e56689f-6557-4ee2-d1e9-0ab6fa3000fc"
      },
      "outputs": [
        {
          "data": {
            "text/plain": [
              "array([[1.],\n",
              "       [1.],\n",
              "       [1.],\n",
              "       ...,\n",
              "       [1.],\n",
              "       [1.],\n",
              "       [1.]])"
            ]
          },
          "execution_count": 381,
          "metadata": {},
          "output_type": "execute_result"
        }
      ],
      "source": [
        "rl.predict_proba(Xtest)"
      ]
    },
    {
      "cell_type": "code",
      "execution_count": null,
      "metadata": {
        "id": "EJoUH4fTsY8C",
        "outputId": "a2e5056d-1364-497a-ab8c-ab66c68545ba"
      },
      "outputs": [
        {
          "data": {
            "text/plain": [
              "array([[1],\n",
              "       [1],\n",
              "       [1],\n",
              "       ...,\n",
              "       [1],\n",
              "       [1],\n",
              "       [1]])"
            ]
          },
          "execution_count": 382,
          "metadata": {},
          "output_type": "execute_result"
        }
      ],
      "source": [
        "rl.predict(Xtest)"
      ]
    },
    {
      "cell_type": "code",
      "execution_count": null,
      "metadata": {
        "id": "gsuoKPb0sY8G"
      },
      "outputs": [],
      "source": [
        "from sklearn.metrics import roc_auc_score\n",
        "from sklearn.model_selection import KFold\n",
        "from sklearn.linear_model import LogisticRegression"
      ]
    },
    {
      "cell_type": "code",
      "execution_count": null,
      "metadata": {
        "id": "1OcX2bElsY8G"
      },
      "outputs": [],
      "source": [
        "def validacao_cruzada(classificador,\n",
        "                      X,\n",
        "                      y,\n",
        "                      metrica,\n",
        "                      num_folds,\n",
        "                      print_info = False,\n",
        "                      nome_metrica = None):\n",
        "\n",
        "    lista_metrica_treino = []\n",
        "    lista_metrica_validacao = []\n",
        "\n",
        "    kf = KFold(n_splits = num_folds)\n",
        "    for train_index, val_index in kf.split(X, y):\n",
        "\n",
        "        Xtrain_folds = X[train_index]\n",
        "        ytrain_folds = y[train_index]\n",
        "        Xval_fold = X[val_index]\n",
        "        yval_fold = y[val_index]\n",
        "\n",
        "        classificador.fit(Xtrain_folds, ytrain_folds)\n",
        "\n",
        "        pred_treino = classificador.predict(Xtrain_folds)\n",
        "        pred_validacao = classificador.predict(Xval_fold)\n",
        "\n",
        "        lista_metrica_treino.append(metrica(y_true = pred_treino, y_score = ytrain_folds))\n",
        "        lista_metrica_validacao.append(metrica(y_true = pred_validacao, y_score = yval_fold))\n",
        "\n",
        "    if print_info:\n",
        "        print(\"Métrica: \" + nome_metrica)\n",
        "        print('média treino:', np.mean(lista_metrica_treino))\n",
        "        print('média validação:', np.mean(lista_metrica_validacao))\n",
        "\n",
        "    return lista_metrica_treino, lista_metrica_validacao"
      ]
    },
    {
      "cell_type": "code",
      "execution_count": null,
      "metadata": {
        "id": "7q1Bde1DsY8H",
        "outputId": "11868e58-5ee2-47c7-b046-819471456395"
      },
      "outputs": [
        {
          "name": "stdout",
          "output_type": "stream",
          "text": [
            "modelo treinado.\n"
          ]
        },
        {
          "ename": "ValueError",
          "evalue": "Only one class present in y_true. ROC AUC score is not defined in that case.",
          "output_type": "error",
          "traceback": [
            "\u001b[1;31m---------------------------------------------------------------------------\u001b[0m",
            "\u001b[1;31mValueError\u001b[0m                                Traceback (most recent call last)",
            "\u001b[1;32m~\\AppData\\Local\\Temp\\ipykernel_17172\\1662112207.py\u001b[0m in \u001b[0;36m<module>\u001b[1;34m\u001b[0m\n\u001b[1;32m----> 1\u001b[1;33m validacao_cruzada(classificador = rl,\n\u001b[0m\u001b[0;32m      2\u001b[0m                  \u001b[0mX\u001b[0m \u001b[1;33m=\u001b[0m \u001b[0mXtrain\u001b[0m\u001b[1;33m,\u001b[0m\u001b[1;33m\u001b[0m\u001b[1;33m\u001b[0m\u001b[0m\n\u001b[0;32m      3\u001b[0m                  \u001b[0my\u001b[0m \u001b[1;33m=\u001b[0m \u001b[0mytrain\u001b[0m\u001b[1;33m,\u001b[0m\u001b[1;33m\u001b[0m\u001b[1;33m\u001b[0m\u001b[0m\n\u001b[0;32m      4\u001b[0m                  \u001b[0mmetrica\u001b[0m \u001b[1;33m=\u001b[0m \u001b[0mroc_auc_score\u001b[0m\u001b[1;33m,\u001b[0m\u001b[1;33m\u001b[0m\u001b[1;33m\u001b[0m\u001b[0m\n\u001b[0;32m      5\u001b[0m                  \u001b[0mnum_folds\u001b[0m \u001b[1;33m=\u001b[0m \u001b[1;36m3\u001b[0m\u001b[1;33m,\u001b[0m\u001b[1;33m\u001b[0m\u001b[1;33m\u001b[0m\u001b[0m\n",
            "\u001b[1;32m~\\AppData\\Local\\Temp\\ipykernel_17172\\2163360592.py\u001b[0m in \u001b[0;36mvalidacao_cruzada\u001b[1;34m(classificador, X, y, metrica, num_folds, print_info, nome_metrica)\u001b[0m\n\u001b[0;32m     23\u001b[0m         \u001b[0mpred_validacao\u001b[0m \u001b[1;33m=\u001b[0m \u001b[0mclassificador\u001b[0m\u001b[1;33m.\u001b[0m\u001b[0mpredict\u001b[0m\u001b[1;33m(\u001b[0m\u001b[0mXval_fold\u001b[0m\u001b[1;33m)\u001b[0m\u001b[1;33m\u001b[0m\u001b[1;33m\u001b[0m\u001b[0m\n\u001b[0;32m     24\u001b[0m \u001b[1;33m\u001b[0m\u001b[0m\n\u001b[1;32m---> 25\u001b[1;33m         \u001b[0mlista_metrica_treino\u001b[0m\u001b[1;33m.\u001b[0m\u001b[0mappend\u001b[0m\u001b[1;33m(\u001b[0m\u001b[0mmetrica\u001b[0m\u001b[1;33m(\u001b[0m\u001b[0my_true\u001b[0m \u001b[1;33m=\u001b[0m \u001b[0mpred_treino\u001b[0m\u001b[1;33m,\u001b[0m \u001b[0my_score\u001b[0m \u001b[1;33m=\u001b[0m \u001b[0mytrain_folds\u001b[0m\u001b[1;33m)\u001b[0m\u001b[1;33m)\u001b[0m\u001b[1;33m\u001b[0m\u001b[1;33m\u001b[0m\u001b[0m\n\u001b[0m\u001b[0;32m     26\u001b[0m         \u001b[0mlista_metrica_validacao\u001b[0m\u001b[1;33m.\u001b[0m\u001b[0mappend\u001b[0m\u001b[1;33m(\u001b[0m\u001b[0mmetrica\u001b[0m\u001b[1;33m(\u001b[0m\u001b[0my_true\u001b[0m \u001b[1;33m=\u001b[0m \u001b[0mpred_validacao\u001b[0m\u001b[1;33m,\u001b[0m \u001b[0my_score\u001b[0m \u001b[1;33m=\u001b[0m \u001b[0myval_fold\u001b[0m\u001b[1;33m)\u001b[0m\u001b[1;33m)\u001b[0m\u001b[1;33m\u001b[0m\u001b[1;33m\u001b[0m\u001b[0m\n\u001b[0;32m     27\u001b[0m \u001b[1;33m\u001b[0m\u001b[0m\n",
            "\u001b[1;32m~\\anaconda3\\lib\\site-packages\\sklearn\\metrics\\_ranking.py\u001b[0m in \u001b[0;36mroc_auc_score\u001b[1;34m(y_true, y_score, average, sample_weight, max_fpr, multi_class, labels)\u001b[0m\n\u001b[0;32m    565\u001b[0m         \u001b[0mlabels\u001b[0m \u001b[1;33m=\u001b[0m \u001b[0mnp\u001b[0m\u001b[1;33m.\u001b[0m\u001b[0munique\u001b[0m\u001b[1;33m(\u001b[0m\u001b[0my_true\u001b[0m\u001b[1;33m)\u001b[0m\u001b[1;33m\u001b[0m\u001b[1;33m\u001b[0m\u001b[0m\n\u001b[0;32m    566\u001b[0m         \u001b[0my_true\u001b[0m \u001b[1;33m=\u001b[0m \u001b[0mlabel_binarize\u001b[0m\u001b[1;33m(\u001b[0m\u001b[0my_true\u001b[0m\u001b[1;33m,\u001b[0m \u001b[0mclasses\u001b[0m\u001b[1;33m=\u001b[0m\u001b[0mlabels\u001b[0m\u001b[1;33m)\u001b[0m\u001b[1;33m[\u001b[0m\u001b[1;33m:\u001b[0m\u001b[1;33m,\u001b[0m \u001b[1;36m0\u001b[0m\u001b[1;33m]\u001b[0m\u001b[1;33m\u001b[0m\u001b[1;33m\u001b[0m\u001b[0m\n\u001b[1;32m--> 567\u001b[1;33m         return _average_binary_score(\n\u001b[0m\u001b[0;32m    568\u001b[0m             \u001b[0mpartial\u001b[0m\u001b[1;33m(\u001b[0m\u001b[0m_binary_roc_auc_score\u001b[0m\u001b[1;33m,\u001b[0m \u001b[0mmax_fpr\u001b[0m\u001b[1;33m=\u001b[0m\u001b[0mmax_fpr\u001b[0m\u001b[1;33m)\u001b[0m\u001b[1;33m,\u001b[0m\u001b[1;33m\u001b[0m\u001b[1;33m\u001b[0m\u001b[0m\n\u001b[0;32m    569\u001b[0m             \u001b[0my_true\u001b[0m\u001b[1;33m,\u001b[0m\u001b[1;33m\u001b[0m\u001b[1;33m\u001b[0m\u001b[0m\n",
            "\u001b[1;32m~\\anaconda3\\lib\\site-packages\\sklearn\\metrics\\_base.py\u001b[0m in \u001b[0;36m_average_binary_score\u001b[1;34m(binary_metric, y_true, y_score, average, sample_weight)\u001b[0m\n\u001b[0;32m     73\u001b[0m \u001b[1;33m\u001b[0m\u001b[0m\n\u001b[0;32m     74\u001b[0m     \u001b[1;32mif\u001b[0m \u001b[0my_type\u001b[0m \u001b[1;33m==\u001b[0m \u001b[1;34m\"binary\"\u001b[0m\u001b[1;33m:\u001b[0m\u001b[1;33m\u001b[0m\u001b[1;33m\u001b[0m\u001b[0m\n\u001b[1;32m---> 75\u001b[1;33m         \u001b[1;32mreturn\u001b[0m \u001b[0mbinary_metric\u001b[0m\u001b[1;33m(\u001b[0m\u001b[0my_true\u001b[0m\u001b[1;33m,\u001b[0m \u001b[0my_score\u001b[0m\u001b[1;33m,\u001b[0m \u001b[0msample_weight\u001b[0m\u001b[1;33m=\u001b[0m\u001b[0msample_weight\u001b[0m\u001b[1;33m)\u001b[0m\u001b[1;33m\u001b[0m\u001b[1;33m\u001b[0m\u001b[0m\n\u001b[0m\u001b[0;32m     76\u001b[0m \u001b[1;33m\u001b[0m\u001b[0m\n\u001b[0;32m     77\u001b[0m     \u001b[0mcheck_consistent_length\u001b[0m\u001b[1;33m(\u001b[0m\u001b[0my_true\u001b[0m\u001b[1;33m,\u001b[0m \u001b[0my_score\u001b[0m\u001b[1;33m,\u001b[0m \u001b[0msample_weight\u001b[0m\u001b[1;33m)\u001b[0m\u001b[1;33m\u001b[0m\u001b[1;33m\u001b[0m\u001b[0m\n",
            "\u001b[1;32m~\\anaconda3\\lib\\site-packages\\sklearn\\metrics\\_ranking.py\u001b[0m in \u001b[0;36m_binary_roc_auc_score\u001b[1;34m(y_true, y_score, sample_weight, max_fpr)\u001b[0m\n\u001b[0;32m    335\u001b[0m     \u001b[1;34m\"\"\"Binary roc auc score.\"\"\"\u001b[0m\u001b[1;33m\u001b[0m\u001b[1;33m\u001b[0m\u001b[0m\n\u001b[0;32m    336\u001b[0m     \u001b[1;32mif\u001b[0m \u001b[0mlen\u001b[0m\u001b[1;33m(\u001b[0m\u001b[0mnp\u001b[0m\u001b[1;33m.\u001b[0m\u001b[0munique\u001b[0m\u001b[1;33m(\u001b[0m\u001b[0my_true\u001b[0m\u001b[1;33m)\u001b[0m\u001b[1;33m)\u001b[0m \u001b[1;33m!=\u001b[0m \u001b[1;36m2\u001b[0m\u001b[1;33m:\u001b[0m\u001b[1;33m\u001b[0m\u001b[1;33m\u001b[0m\u001b[0m\n\u001b[1;32m--> 337\u001b[1;33m         raise ValueError(\n\u001b[0m\u001b[0;32m    338\u001b[0m             \u001b[1;34m\"Only one class present in y_true. ROC AUC score \"\u001b[0m\u001b[1;33m\u001b[0m\u001b[1;33m\u001b[0m\u001b[0m\n\u001b[0;32m    339\u001b[0m             \u001b[1;34m\"is not defined in that case.\"\u001b[0m\u001b[1;33m\u001b[0m\u001b[1;33m\u001b[0m\u001b[0m\n",
            "\u001b[1;31mValueError\u001b[0m: Only one class present in y_true. ROC AUC score is not defined in that case."
          ]
        }
      ],
      "source": [
        "validacao_cruzada(classificador = rl,\n",
        "                 X = Xtrain,\n",
        "                 y = ytrain,\n",
        "                 metrica = roc_auc_score,\n",
        "                 num_folds = 3,\n",
        "                 print_info = True,\n",
        "                 nome_metrica = 'AUC Score')"
      ]
    },
    {
      "cell_type": "code",
      "execution_count": null,
      "metadata": {
        "id": "6EYZJDphsY8H"
      },
      "outputs": [],
      "source": []
    },
    {
      "cell_type": "code",
      "execution_count": null,
      "metadata": {
        "id": "CWvyTmN8sY8H"
      },
      "outputs": [],
      "source": []
    },
    {
      "cell_type": "code",
      "execution_count": null,
      "metadata": {
        "id": "CYMGseSBsY8H"
      },
      "outputs": [],
      "source": []
    },
    {
      "cell_type": "code",
      "execution_count": null,
      "metadata": {
        "id": "ZvFq2xMusY8H"
      },
      "outputs": [],
      "source": []
    }
  ],
  "metadata": {
    "kernelspec": {
      "display_name": "Python 3 (ipykernel)",
      "language": "python",
      "name": "python3"
    },
    "language_info": {
      "codemirror_mode": {
        "name": "ipython",
        "version": 3
      },
      "file_extension": ".py",
      "mimetype": "text/x-python",
      "name": "python",
      "nbconvert_exporter": "python",
      "pygments_lexer": "ipython3",
      "version": "3.9.13"
    },
    "colab": {
      "provenance": [],
      "include_colab_link": true
    }
  },
  "nbformat": 4,
  "nbformat_minor": 0
}