{
  "cells": [
    {
      "cell_type": "markdown",
      "metadata": {
        "id": "view-in-github",
        "colab_type": "text"
      },
      "source": [
        "<a href=\"https://colab.research.google.com/github/guilhermecarva/guilhermecarva/blob/main/Tree_models.ipynb\" target=\"_parent\"><img src=\"https://colab.research.google.com/assets/colab-badge.svg\" alt=\"Open In Colab\"/></a>"
      ]
    },
    {
      "cell_type": "markdown",
      "metadata": {
        "id": "fPuwv4wsrpyj"
      },
      "source": [
        "### Modelos baseados em árvores\n",
        "\n",
        "<br>\n",
        "\n",
        "Ao longo do módulo, discutimos bastante as árvores de decisão, bem como ensemble de árvores, como Random Forest e algoritmos do tipo boosting.\n",
        "\n",
        "Esses __ensembles acabam tendo muitos hiperparâmetros;__ escolhe-los de forma manual acaba sendo muito custoso e tedioso.\n",
        "\n",
        "Neste exercício, vamos discutir a respeito da metolodia __grid-search__, que otimiza essa busca de hiperparâmetros.\n",
        "\n",
        "Considere o dataset abaixo (basta executar as células):"
      ]
    },
    {
      "cell_type": "code",
      "execution_count": null,
      "metadata": {
        "id": "BI1fUOU9rpyn"
      },
      "outputs": [],
      "source": [
        "import pandas as pd\n",
        "import numpy as np\n",
        "import matplotlib.pyplot as plt"
      ]
    },
    {
      "cell_type": "code",
      "execution_count": null,
      "metadata": {
        "id": "AQmP8CZWrpyo"
      },
      "outputs": [],
      "source": [
        "from sklearn.datasets import load_diabetes\n",
        "from sklearn.model_selection import train_test_split"
      ]
    },
    {
      "cell_type": "code",
      "execution_count": null,
      "metadata": {
        "id": "mahZgHBarpyo",
        "outputId": "316348b2-1745-4218-b2fe-27ea3205cdfc"
      },
      "outputs": [
        {
          "name": "stdout",
          "output_type": "stream",
          "text": [
            "(331, 10) (111, 10) (331,) (111,)\n"
          ]
        }
      ],
      "source": [
        "#problema de regressão\n",
        "\n",
        "X, y = load_diabetes().data, load_diabetes().target\n",
        "Xtrain, Xtest, ytrain, ytest = train_test_split(X, y, test_size = 0.25, random_state = 42)\n",
        "print(Xtrain.shape, Xtest.shape, ytrain.shape, ytest.shape)"
      ]
    },
    {
      "cell_type": "markdown",
      "metadata": {
        "id": "zPbivWXNrpyp"
      },
      "source": [
        "Imagine que queremos testar - usando cross-validation - várias instâncias de Random Forests: com 10 árvores, com 100 árvores, com 1000 árvores, com profundidade máxima 1, 5, 10.\n",
        "\n",
        "Como podemos proceder? O código abaixo exemplifica um jeito:"
      ]
    },
    {
      "cell_type": "code",
      "execution_count": null,
      "metadata": {
        "id": "VKAVnAWwrpyp",
        "outputId": "5e9b7cb4-d244-4bbd-9af3-9616872e764f"
      },
      "outputs": [
        {
          "name": "stdout",
          "output_type": "stream",
          "text": [
            "estimators:  10  prof:  1  | R2 mean / std:  0.33071301671575365  /  0.016331523412902806\n",
            "estimators:  10  prof:  5  | R2 mean / std:  0.40509514070321223  /  0.018060549434403612\n",
            "estimators:  10  prof:  10  | R2 mean / std:  0.3505103448869891  /  0.04517698379594533\n",
            "estimators:  100  prof:  1  | R2 mean / std:  0.3383163077435632  /  0.03427873765177229\n",
            "estimators:  100  prof:  5  | R2 mean / std:  0.4225551623014924  /  0.04643089369666596\n",
            "estimators:  100  prof:  10  | R2 mean / std:  0.4161326445040172  /  0.033813371472341675\n",
            "estimators:  100  prof:  1  | R2 mean / std:  0.32819176781854936  /  0.04271920094793037\n",
            "estimators:  100  prof:  5  | R2 mean / std:  0.4230130416784485  /  0.03459543157520171\n",
            "estimators:  100  prof:  10  | R2 mean / std:  0.43114628801978155  /  0.04012120590813385\n"
          ]
        }
      ],
      "source": [
        "from sklearn.ensemble import RandomForestRegressor\n",
        "from sklearn.model_selection import cross_val_score\n",
        "\n",
        "for n_est in [10,100,100]:\n",
        "    for prof in [1,5,10]:\n",
        "        rf = RandomForestRegressor(n_estimators=n_est, max_depth=prof)\n",
        "        cvres = cross_val_score(estimator=rf, X = Xtrain, y = ytrain, cv = 3, scoring='r2')\n",
        "        print(\"estimators: \", n_est, \" prof: \", prof, \" | R2 mean / std: \", cvres.mean(), ' / ', cvres.std())"
      ]
    },
    {
      "cell_type": "markdown",
      "metadata": {
        "id": "Ww7sCzg7rpyq"
      },
      "source": [
        "Podemos, com algum trabalho, escolher o melhor modelo.\n",
        "\n",
        "Se quisermos testar mais parâmetros, podemos aumentar nosso loop... mais isso vai ficando cada vez mais complicado.\n",
        "\n",
        "A proposta do __grid-search__ é justamente fazer isso de forma mais automática!\n",
        "\n",
        "Podemos importar a função GridSearchCV do módulo model_selection do sklearn e usá-la para isso.\n",
        "Na prática, precisamos definir um __estimador base__ para o grid. Além disso, precisamos definir um __dicionário de parâmetros__ a ser testado. Ainda, definiremos a quantidade de folds para cross-validation e qual a métrica de performance que queremos otimizar:"
      ]
    },
    {
      "cell_type": "code",
      "execution_count": null,
      "metadata": {
        "id": "3o9-Ngp1rpyq"
      },
      "outputs": [],
      "source": [
        "#importando a função\n",
        "from sklearn.model_selection import GridSearchCV"
      ]
    },
    {
      "cell_type": "code",
      "execution_count": null,
      "metadata": {
        "id": "HX1BwHlUrpyq"
      },
      "outputs": [],
      "source": [
        "#definindo o estimador base\n",
        "estimador_base = RandomForestRegressor()\n",
        "\n",
        "#definindo o dicionario de parâmetros do modelo\n",
        "params_RF = {\"n_estimators\":[10,1000], \"max_depth\":[2,10]}"
      ]
    },
    {
      "cell_type": "code",
      "execution_count": null,
      "metadata": {
        "id": "_wftpzrKrpyr",
        "outputId": "0df377de-d413-4d8c-cc2d-b9d523f6e4f2"
      },
      "outputs": [
        {
          "data": {
            "text/plain": [
              "GridSearchCV(cv=3, error_score=nan,\n",
              "             estimator=RandomForestRegressor(bootstrap=True, ccp_alpha=0.0,\n",
              "                                             criterion='mse', max_depth=None,\n",
              "                                             max_features='auto',\n",
              "                                             max_leaf_nodes=None,\n",
              "                                             max_samples=None,\n",
              "                                             min_impurity_decrease=0.0,\n",
              "                                             min_impurity_split=None,\n",
              "                                             min_samples_leaf=1,\n",
              "                                             min_samples_split=2,\n",
              "                                             min_weight_fraction_leaf=0.0,\n",
              "                                             n_estimators=100, n_jobs=None,\n",
              "                                             oob_score=False, random_state=None,\n",
              "                                             verbose=0, warm_start=False),\n",
              "             iid='deprecated', n_jobs=None,\n",
              "             param_grid={'max_depth': [2, 10], 'n_estimators': [10, 1000]},\n",
              "             pre_dispatch='2*n_jobs', refit=True, return_train_score=False,\n",
              "             scoring='r2', verbose=0)"
            ]
          },
          "execution_count": 7,
          "metadata": {},
          "output_type": "execute_result"
        }
      ],
      "source": [
        "grid = GridSearchCV(estimator = estimador_base,\n",
        "                    param_grid = params_RF,\n",
        "                    scoring = 'r2',\n",
        "                    cv = 3)\n",
        "\n",
        "grid"
      ]
    },
    {
      "cell_type": "code",
      "execution_count": null,
      "metadata": {
        "id": "1J-XBiTXrpyr",
        "outputId": "5b8693d9-d88c-44fa-c598-85672df73a3e"
      },
      "outputs": [
        {
          "data": {
            "text/plain": [
              "GridSearchCV(cv=3, error_score=nan,\n",
              "             estimator=RandomForestRegressor(bootstrap=True, ccp_alpha=0.0,\n",
              "                                             criterion='mse', max_depth=None,\n",
              "                                             max_features='auto',\n",
              "                                             max_leaf_nodes=None,\n",
              "                                             max_samples=None,\n",
              "                                             min_impurity_decrease=0.0,\n",
              "                                             min_impurity_split=None,\n",
              "                                             min_samples_leaf=1,\n",
              "                                             min_samples_split=2,\n",
              "                                             min_weight_fraction_leaf=0.0,\n",
              "                                             n_estimators=100, n_jobs=None,\n",
              "                                             oob_score=False, random_state=None,\n",
              "                                             verbose=0, warm_start=False),\n",
              "             iid='deprecated', n_jobs=None,\n",
              "             param_grid={'max_depth': [2, 10], 'n_estimators': [10, 1000]},\n",
              "             pre_dispatch='2*n_jobs', refit=True, return_train_score=False,\n",
              "             scoring='r2', verbose=0)"
            ]
          },
          "execution_count": 8,
          "metadata": {},
          "output_type": "execute_result"
        }
      ],
      "source": [
        "#treinando os modelos no grid\n",
        "grid.fit(Xtrain, ytrain)"
      ]
    },
    {
      "cell_type": "markdown",
      "metadata": {
        "id": "aYb1S-sqrpyr"
      },
      "source": [
        "O objeto \"grid\", após o treinamento acima, conterá várias informações muito relevantes.\n",
        "\n",
        "__1- \"best_params_\":__ retorna os melhores parâmetros, de acordo com a métrica de performance avaliada na cross-validation;\n",
        "\n",
        "__1- \"best_score_\":__ retorna o melhor score - métrica de performance - nos dados de validação;\n",
        "\n",
        "__1- \"best_estimator_\":__ retorna o melhor modelo, já treinado;\n",
        "\n",
        "__1- \"cv_results_\":__ retorna uma visão geral dos resultados."
      ]
    },
    {
      "cell_type": "code",
      "execution_count": null,
      "metadata": {
        "id": "2fxAg85irpys",
        "outputId": "5dcc8b49-cadd-4657-c795-fea60f873787"
      },
      "outputs": [
        {
          "data": {
            "text/plain": [
              "{'max_depth': 10, 'n_estimators': 1000}"
            ]
          },
          "execution_count": 9,
          "metadata": {},
          "output_type": "execute_result"
        }
      ],
      "source": [
        "grid.best_params_"
      ]
    },
    {
      "cell_type": "code",
      "execution_count": null,
      "metadata": {
        "id": "swh9rGEQrpys",
        "outputId": "33ee829b-43d1-400e-ce9d-e96035c580b4"
      },
      "outputs": [
        {
          "data": {
            "text/plain": [
              "0.42444658502741595"
            ]
          },
          "execution_count": 10,
          "metadata": {},
          "output_type": "execute_result"
        }
      ],
      "source": [
        "grid.best_score_"
      ]
    },
    {
      "cell_type": "code",
      "execution_count": null,
      "metadata": {
        "id": "GfRHaeA8rpys",
        "outputId": "679cb64b-871d-4d3d-d473-c7206b6e27d9"
      },
      "outputs": [
        {
          "data": {
            "text/plain": [
              "RandomForestRegressor(bootstrap=True, ccp_alpha=0.0, criterion='mse',\n",
              "                      max_depth=10, max_features='auto', max_leaf_nodes=None,\n",
              "                      max_samples=None, min_impurity_decrease=0.0,\n",
              "                      min_impurity_split=None, min_samples_leaf=1,\n",
              "                      min_samples_split=2, min_weight_fraction_leaf=0.0,\n",
              "                      n_estimators=1000, n_jobs=None, oob_score=False,\n",
              "                      random_state=None, verbose=0, warm_start=False)"
            ]
          },
          "execution_count": 11,
          "metadata": {},
          "output_type": "execute_result"
        }
      ],
      "source": [
        "grid.best_estimator_"
      ]
    },
    {
      "cell_type": "code",
      "execution_count": null,
      "metadata": {
        "id": "MklIpieKrpys",
        "outputId": "36f867d0-a3f3-44fe-d3af-398d75643e57"
      },
      "outputs": [
        {
          "data": {
            "text/plain": [
              "{'mean_fit_time': array([0.01412272, 0.90284522, 0.01294303, 1.22760916]),\n",
              " 'std_fit_time': array([2.59640423e-04, 7.94946362e-03, 6.69247364e-05, 1.62409492e-02]),\n",
              " 'mean_score_time': array([0.00116746, 0.03209265, 0.00080196, 0.03886215]),\n",
              " 'std_score_time': array([1.23910753e-04, 5.61650156e-04, 8.15362106e-06, 1.52093834e-03]),\n",
              " 'param_max_depth': masked_array(data=[2, 2, 10, 10],\n",
              "              mask=[False, False, False, False],\n",
              "        fill_value='?',\n",
              "             dtype=object),\n",
              " 'param_n_estimators': masked_array(data=[10, 1000, 10, 1000],\n",
              "              mask=[False, False, False, False],\n",
              "        fill_value='?',\n",
              "             dtype=object),\n",
              " 'params': [{'max_depth': 2, 'n_estimators': 10},\n",
              "  {'max_depth': 2, 'n_estimators': 1000},\n",
              "  {'max_depth': 10, 'n_estimators': 10},\n",
              "  {'max_depth': 10, 'n_estimators': 1000}],\n",
              " 'split0_test_score': array([0.30532442, 0.3511556 , 0.29536921, 0.37863526]),\n",
              " 'split1_test_score': array([0.46541789, 0.44720904, 0.38796397, 0.4491157 ]),\n",
              " 'split2_test_score': array([0.39805402, 0.42840777, 0.41302788, 0.44558879]),\n",
              " 'mean_test_score': array([0.38959878, 0.40892414, 0.36545369, 0.42444659]),\n",
              " 'std_test_score': array([0.06563077, 0.0415634 , 0.05060254, 0.03242548]),\n",
              " 'rank_test_score': array([3, 2, 4, 1], dtype=int32)}"
            ]
          },
          "execution_count": 12,
          "metadata": {},
          "output_type": "execute_result"
        }
      ],
      "source": [
        "grid.cv_results_"
      ]
    },
    {
      "cell_type": "markdown",
      "metadata": {
        "id": "5KblHpKqrpys"
      },
      "source": [
        "__Exercício 1:__ Utilizando o dataset abaixo, faça um grid_search com KNN's, Random Forests e GradientBoostings e retorne o melhor modelo de cada tipo.\n",
        "\n",
        "__Obs.:__ Lembre-se de fazer um pré-processamento nos dados!"
      ]
    },
    {
      "cell_type": "code",
      "execution_count": null,
      "metadata": {
        "id": "hrtpVkDbrpys",
        "outputId": "cbe760d6-c454-4fb0-8517-f61ede51bc08"
      },
      "outputs": [
        {
          "name": "stdout",
          "output_type": "stream",
          "text": [
            "(20640, 10)\n"
          ]
        },
        {
          "data": {
            "text/html": [
              "<div>\n",
              "<style scoped>\n",
              "    .dataframe tbody tr th:only-of-type {\n",
              "        vertical-align: middle;\n",
              "    }\n",
              "\n",
              "    .dataframe tbody tr th {\n",
              "        vertical-align: top;\n",
              "    }\n",
              "\n",
              "    .dataframe thead th {\n",
              "        text-align: right;\n",
              "    }\n",
              "</style>\n",
              "<table border=\"1\" class=\"dataframe\">\n",
              "  <thead>\n",
              "    <tr style=\"text-align: right;\">\n",
              "      <th></th>\n",
              "      <th>longitude</th>\n",
              "      <th>latitude</th>\n",
              "      <th>idade_mediana_das_casas</th>\n",
              "      <th>total_comodos</th>\n",
              "      <th>total_quartos</th>\n",
              "      <th>populacao</th>\n",
              "      <th>familias</th>\n",
              "      <th>salario_mediano</th>\n",
              "      <th>preco_mediano_das_casas</th>\n",
              "      <th>proximidade_ao_mar</th>\n",
              "    </tr>\n",
              "  </thead>\n",
              "  <tbody>\n",
              "    <tr>\n",
              "      <th>0</th>\n",
              "      <td>-122.23</td>\n",
              "      <td>37.88</td>\n",
              "      <td>41.0</td>\n",
              "      <td>880.0</td>\n",
              "      <td>129.0</td>\n",
              "      <td>322.0</td>\n",
              "      <td>126.0</td>\n",
              "      <td>8.3252</td>\n",
              "      <td>452600.0</td>\n",
              "      <td>PERTO DA BAÍA</td>\n",
              "    </tr>\n",
              "    <tr>\n",
              "      <th>1</th>\n",
              "      <td>-122.22</td>\n",
              "      <td>37.86</td>\n",
              "      <td>21.0</td>\n",
              "      <td>7099.0</td>\n",
              "      <td>1106.0</td>\n",
              "      <td>2401.0</td>\n",
              "      <td>1138.0</td>\n",
              "      <td>8.3014</td>\n",
              "      <td>358500.0</td>\n",
              "      <td>PERTO DA BAÍA</td>\n",
              "    </tr>\n",
              "    <tr>\n",
              "      <th>2</th>\n",
              "      <td>-122.24</td>\n",
              "      <td>37.85</td>\n",
              "      <td>52.0</td>\n",
              "      <td>1467.0</td>\n",
              "      <td>190.0</td>\n",
              "      <td>496.0</td>\n",
              "      <td>177.0</td>\n",
              "      <td>7.2574</td>\n",
              "      <td>352100.0</td>\n",
              "      <td>PERTO DA BAÍA</td>\n",
              "    </tr>\n",
              "    <tr>\n",
              "      <th>3</th>\n",
              "      <td>-122.25</td>\n",
              "      <td>37.85</td>\n",
              "      <td>52.0</td>\n",
              "      <td>1274.0</td>\n",
              "      <td>235.0</td>\n",
              "      <td>558.0</td>\n",
              "      <td>219.0</td>\n",
              "      <td>5.6431</td>\n",
              "      <td>341300.0</td>\n",
              "      <td>PERTO DA BAÍA</td>\n",
              "    </tr>\n",
              "    <tr>\n",
              "      <th>4</th>\n",
              "      <td>-122.25</td>\n",
              "      <td>37.85</td>\n",
              "      <td>52.0</td>\n",
              "      <td>1627.0</td>\n",
              "      <td>280.0</td>\n",
              "      <td>565.0</td>\n",
              "      <td>259.0</td>\n",
              "      <td>3.8462</td>\n",
              "      <td>342200.0</td>\n",
              "      <td>PERTO DA BAÍA</td>\n",
              "    </tr>\n",
              "  </tbody>\n",
              "</table>\n",
              "</div>"
            ],
            "text/plain": [
              "   longitude  latitude  idade_mediana_das_casas  total_comodos  total_quartos  \\\n",
              "0    -122.23     37.88                     41.0          880.0          129.0   \n",
              "1    -122.22     37.86                     21.0         7099.0         1106.0   \n",
              "2    -122.24     37.85                     52.0         1467.0          190.0   \n",
              "3    -122.25     37.85                     52.0         1274.0          235.0   \n",
              "4    -122.25     37.85                     52.0         1627.0          280.0   \n",
              "\n",
              "   populacao  familias  salario_mediano  preco_mediano_das_casas  \\\n",
              "0      322.0     126.0           8.3252                 452600.0   \n",
              "1     2401.0    1138.0           8.3014                 358500.0   \n",
              "2      496.0     177.0           7.2574                 352100.0   \n",
              "3      558.0     219.0           5.6431                 341300.0   \n",
              "4      565.0     259.0           3.8462                 342200.0   \n",
              "\n",
              "  proximidade_ao_mar  \n",
              "0      PERTO DA BAÍA  \n",
              "1      PERTO DA BAÍA  \n",
              "2      PERTO DA BAÍA  \n",
              "3      PERTO DA BAÍA  \n",
              "4      PERTO DA BAÍA  "
            ]
          },
          "execution_count": 36,
          "metadata": {},
          "output_type": "execute_result"
        }
      ],
      "source": [
        "#preco_mediano_das_casas é a variável target\n",
        "df = pd.read_csv(\"preco_casas.csv\")\n",
        "print(df.shape)\n",
        "df.head()"
      ]
    },
    {
      "cell_type": "code",
      "execution_count": null,
      "metadata": {
        "id": "HmUODR1Srpyt"
      },
      "outputs": [],
      "source": [
        "from sklearn.preprocessing import OneHotEncoder\n",
        "from sklearn.preprocessing import StandardScaler\n",
        "from sklearn.model_selection import train_test_split\n",
        "from sklearn.model_selection import GridSearchCV\n",
        "from sklearn.neighbors import KNeighborsRegressor\n",
        "from sklearn.ensemble import RandomForestRegressor\n",
        "from sklearn.ensemble import GradientBoostingRegressor"
      ]
    },
    {
      "cell_type": "code",
      "execution_count": null,
      "metadata": {
        "id": "LRB7velRrpyt"
      },
      "outputs": [],
      "source": [
        "enc = OneHotEncoder()"
      ]
    },
    {
      "cell_type": "markdown",
      "metadata": {
        "id": "mDdAvaP-rpyt"
      },
      "source": [
        "Vamos inicar o tratamento dos dados"
      ]
    },
    {
      "cell_type": "code",
      "execution_count": null,
      "metadata": {
        "id": "axjYdN16rpyt",
        "outputId": "34cce313-7e22-40cc-f350-152e4833eadd"
      },
      "outputs": [
        {
          "data": {
            "text/plain": [
              "<1H OCEANO       9136\n",
              "INTERIOR         6551\n",
              "PERTO OCEANO     2658\n",
              "PERTO DA BAÍA    2290\n",
              "ILHA                5\n",
              "Name: proximidade_ao_mar, dtype: int64"
            ]
          },
          "execution_count": 39,
          "metadata": {},
          "output_type": "execute_result"
        }
      ],
      "source": [
        "df['proximidade_ao_mar'].value_counts()"
      ]
    },
    {
      "cell_type": "code",
      "execution_count": null,
      "metadata": {
        "id": "JK_3M0dGrpyt",
        "outputId": "007eab9f-26c9-4a2f-9dff-4e92b2a0b937"
      },
      "outputs": [
        {
          "data": {
            "text/plain": [
              "longitude                    0\n",
              "latitude                     0\n",
              "idade_mediana_das_casas      0\n",
              "total_comodos                0\n",
              "total_quartos              207\n",
              "populacao                    0\n",
              "familias                     0\n",
              "salario_mediano              0\n",
              "preco_mediano_das_casas      0\n",
              "proximidade_ao_mar           0\n",
              "dtype: int64"
            ]
          },
          "execution_count": 40,
          "metadata": {},
          "output_type": "execute_result"
        }
      ],
      "source": [
        "df.isnull().sum()"
      ]
    },
    {
      "cell_type": "code",
      "execution_count": null,
      "metadata": {
        "id": "n99Obcykrpyt",
        "outputId": "9ea422d9-8658-4a31-9571-ff081be0cd27"
      },
      "outputs": [
        {
          "name": "stdout",
          "output_type": "stream",
          "text": [
            "(20433, 10)\n"
          ]
        }
      ],
      "source": [
        "df = df.dropna(axis = 0)\n",
        "print(df.shape)"
      ]
    },
    {
      "cell_type": "code",
      "execution_count": null,
      "metadata": {
        "id": "cVVyx5Ltrpyu"
      },
      "outputs": [],
      "source": [
        "df['proximidade_ao_mar'] = enc.fit_transform(df[['proximidade_ao_mar']]).toarray()"
      ]
    },
    {
      "cell_type": "code",
      "execution_count": null,
      "metadata": {
        "id": "Be4rynlwrpyu",
        "outputId": "bdfbafcc-2ed1-44f9-97bc-8c6317e4f4c2"
      },
      "outputs": [
        {
          "data": {
            "text/html": [
              "<div>\n",
              "<style scoped>\n",
              "    .dataframe tbody tr th:only-of-type {\n",
              "        vertical-align: middle;\n",
              "    }\n",
              "\n",
              "    .dataframe tbody tr th {\n",
              "        vertical-align: top;\n",
              "    }\n",
              "\n",
              "    .dataframe thead th {\n",
              "        text-align: right;\n",
              "    }\n",
              "</style>\n",
              "<table border=\"1\" class=\"dataframe\">\n",
              "  <thead>\n",
              "    <tr style=\"text-align: right;\">\n",
              "      <th></th>\n",
              "      <th>longitude</th>\n",
              "      <th>latitude</th>\n",
              "      <th>idade_mediana_das_casas</th>\n",
              "      <th>total_comodos</th>\n",
              "      <th>total_quartos</th>\n",
              "      <th>populacao</th>\n",
              "      <th>familias</th>\n",
              "      <th>salario_mediano</th>\n",
              "      <th>preco_mediano_das_casas</th>\n",
              "      <th>proximidade_ao_mar</th>\n",
              "    </tr>\n",
              "  </thead>\n",
              "  <tbody>\n",
              "    <tr>\n",
              "      <th>0</th>\n",
              "      <td>-122.23</td>\n",
              "      <td>37.88</td>\n",
              "      <td>41.0</td>\n",
              "      <td>880.0</td>\n",
              "      <td>129.0</td>\n",
              "      <td>322.0</td>\n",
              "      <td>126.0</td>\n",
              "      <td>8.3252</td>\n",
              "      <td>452600.0</td>\n",
              "      <td>0.0</td>\n",
              "    </tr>\n",
              "    <tr>\n",
              "      <th>1</th>\n",
              "      <td>-122.22</td>\n",
              "      <td>37.86</td>\n",
              "      <td>21.0</td>\n",
              "      <td>7099.0</td>\n",
              "      <td>1106.0</td>\n",
              "      <td>2401.0</td>\n",
              "      <td>1138.0</td>\n",
              "      <td>8.3014</td>\n",
              "      <td>358500.0</td>\n",
              "      <td>0.0</td>\n",
              "    </tr>\n",
              "    <tr>\n",
              "      <th>2</th>\n",
              "      <td>-122.24</td>\n",
              "      <td>37.85</td>\n",
              "      <td>52.0</td>\n",
              "      <td>1467.0</td>\n",
              "      <td>190.0</td>\n",
              "      <td>496.0</td>\n",
              "      <td>177.0</td>\n",
              "      <td>7.2574</td>\n",
              "      <td>352100.0</td>\n",
              "      <td>0.0</td>\n",
              "    </tr>\n",
              "    <tr>\n",
              "      <th>3</th>\n",
              "      <td>-122.25</td>\n",
              "      <td>37.85</td>\n",
              "      <td>52.0</td>\n",
              "      <td>1274.0</td>\n",
              "      <td>235.0</td>\n",
              "      <td>558.0</td>\n",
              "      <td>219.0</td>\n",
              "      <td>5.6431</td>\n",
              "      <td>341300.0</td>\n",
              "      <td>0.0</td>\n",
              "    </tr>\n",
              "    <tr>\n",
              "      <th>4</th>\n",
              "      <td>-122.25</td>\n",
              "      <td>37.85</td>\n",
              "      <td>52.0</td>\n",
              "      <td>1627.0</td>\n",
              "      <td>280.0</td>\n",
              "      <td>565.0</td>\n",
              "      <td>259.0</td>\n",
              "      <td>3.8462</td>\n",
              "      <td>342200.0</td>\n",
              "      <td>0.0</td>\n",
              "    </tr>\n",
              "  </tbody>\n",
              "</table>\n",
              "</div>"
            ],
            "text/plain": [
              "   longitude  latitude  idade_mediana_das_casas  total_comodos  total_quartos  \\\n",
              "0    -122.23     37.88                     41.0          880.0          129.0   \n",
              "1    -122.22     37.86                     21.0         7099.0         1106.0   \n",
              "2    -122.24     37.85                     52.0         1467.0          190.0   \n",
              "3    -122.25     37.85                     52.0         1274.0          235.0   \n",
              "4    -122.25     37.85                     52.0         1627.0          280.0   \n",
              "\n",
              "   populacao  familias  salario_mediano  preco_mediano_das_casas  \\\n",
              "0      322.0     126.0           8.3252                 452600.0   \n",
              "1     2401.0    1138.0           8.3014                 358500.0   \n",
              "2      496.0     177.0           7.2574                 352100.0   \n",
              "3      558.0     219.0           5.6431                 341300.0   \n",
              "4      565.0     259.0           3.8462                 342200.0   \n",
              "\n",
              "   proximidade_ao_mar  \n",
              "0                 0.0  \n",
              "1                 0.0  \n",
              "2                 0.0  \n",
              "3                 0.0  \n",
              "4                 0.0  "
            ]
          },
          "execution_count": 44,
          "metadata": {},
          "output_type": "execute_result"
        }
      ],
      "source": [
        "df.head()"
      ]
    },
    {
      "cell_type": "code",
      "execution_count": null,
      "metadata": {
        "id": "oZxUKk_0rpyu",
        "outputId": "8f65ce63-555d-4d59-89bd-a0d64a66a1da"
      },
      "outputs": [
        {
          "data": {
            "text/plain": [
              "0.0    11399\n",
              "1.0     9034\n",
              "Name: proximidade_ao_mar, dtype: int64"
            ]
          },
          "execution_count": 45,
          "metadata": {},
          "output_type": "execute_result"
        }
      ],
      "source": [
        "df['proximidade_ao_mar'].value_counts()"
      ]
    },
    {
      "cell_type": "markdown",
      "metadata": {
        "id": "6Sav_04grpyu"
      },
      "source": [
        "Fazendo o split entre treino e teste para utilização em nossos modelos"
      ]
    },
    {
      "cell_type": "code",
      "execution_count": null,
      "metadata": {
        "id": "ilM8qe0trpyu"
      },
      "outputs": [],
      "source": [
        "X = df.drop(['preco_mediano_das_casas'], axis=1)\n",
        "y = df['preco_mediano_das_casas']"
      ]
    },
    {
      "cell_type": "code",
      "execution_count": null,
      "metadata": {
        "id": "Gya4TvJ5rpyu",
        "outputId": "7b251b46-b6ba-438a-8de7-98c422f9b716"
      },
      "outputs": [
        {
          "name": "stdout",
          "output_type": "stream",
          "text": [
            "(15324, 9) (5109, 9) (15324,) (5109,)\n"
          ]
        }
      ],
      "source": [
        "Xtrain, Xtest, ytrain, ytest = train_test_split(X, y, test_size = 0.25, random_state = 42)\n",
        "print(Xtrain.shape, Xtest.shape, ytrain.shape, ytest.shape)"
      ]
    },
    {
      "cell_type": "markdown",
      "metadata": {
        "id": "pCa_vxVfrpyu"
      },
      "source": [
        "Fazendo o preprocessamento  / normalização dos dados"
      ]
    },
    {
      "cell_type": "code",
      "execution_count": null,
      "metadata": {
        "id": "R0dxX1Y7rpyu"
      },
      "outputs": [],
      "source": [
        "sc = StandardScaler()"
      ]
    },
    {
      "cell_type": "code",
      "execution_count": null,
      "metadata": {
        "id": "IfLwvupLrpyu",
        "outputId": "db33a467-5f0e-4fe1-b60f-4a28e7afa650"
      },
      "outputs": [
        {
          "data": {
            "text/plain": [
              "array([[ 0.28386351, -0.11020303, -1.40115964, ...,  3.7549558 ,\n",
              "        -1.13798902, -0.8943484 ],\n",
              "       [ 1.3076607 , -1.3710388 , -0.84488593, ...,  0.14184181,\n",
              "        -0.74541525,  1.11813249],\n",
              "       [ 0.62845866, -1.071063  , -0.12967689, ..., -0.43921454,\n",
              "        -0.90269742, -0.8943484 ],\n",
              "       ...,\n",
              "       [ 0.57851734, -0.76171296,  1.06233819, ..., -0.35733841,\n",
              "        -0.40732175,  1.11813249],\n",
              "       [-1.22935867,  0.9069024 , -1.32169196, ...,  1.4782714 ,\n",
              "         0.74487015, -0.8943484 ],\n",
              "       [-1.42412984,  0.98189635,  1.85701491, ...,  0.39539367,\n",
              "         0.01083406, -0.8943484 ]])"
            ]
          },
          "execution_count": 53,
          "metadata": {},
          "output_type": "execute_result"
        }
      ],
      "source": [
        "sc.fit_transform(Xtrain)"
      ]
    },
    {
      "cell_type": "code",
      "execution_count": null,
      "metadata": {
        "id": "HUFcMoQYrpyv",
        "outputId": "693648e9-279e-4804-a664-33f51d74ba6d"
      },
      "outputs": [
        {
          "data": {
            "text/plain": [
              "array([[ 1.16782498, -1.33354183, -0.68595059, ..., -0.64258426,\n",
              "        -0.36268478, -0.8943484 ],\n",
              "       [-0.85479872,  1.11313576, -2.11636868, ...,  1.21415488,\n",
              "         0.32334551, -0.8943484 ],\n",
              "       [ 0.71835305, -0.80389706,  0.1881938 , ...,  0.80213311,\n",
              "        -0.34168224,  1.11813249],\n",
              "       ...,\n",
              "       [-0.70996888,  0.9490865 ,  1.14180586, ..., -0.1988685 ,\n",
              "        -0.32089025, -0.8943484 ],\n",
              "       [-1.10450535,  1.42717293, -0.3680799 , ...,  0.96852652,\n",
              "        -0.56112982, -0.8943484 ],\n",
              "       [-0.65503342,  0.89284104,  0.10872613, ..., -1.00970622,\n",
              "        -0.84479568, -0.8943484 ]])"
            ]
          },
          "execution_count": 52,
          "metadata": {},
          "output_type": "execute_result"
        }
      ],
      "source": [
        "sc.transform(Xtest)"
      ]
    },
    {
      "cell_type": "markdown",
      "metadata": {
        "id": "0W1jfBwTrpyv"
      },
      "source": [
        "Instanciando os modelos e definindo os parâmetros para serem utilizados no GridSearch"
      ]
    },
    {
      "cell_type": "code",
      "execution_count": null,
      "metadata": {
        "id": "5az3atqCrpyv"
      },
      "outputs": [],
      "source": [
        "#definindo o estimador base\n",
        "rfr = RandomForestRegressor()\n",
        "knn = KNeighborsRegressor()\n",
        "gbr = GradientBoostingRegressor()\n",
        "\n",
        "#definindo o dicionario de parâmetros do modelo\n",
        "params_rfr = {\"n_estimators\":[10,100,1000], \"max_depth\":[2,5,10]}\n",
        "params_knn = {\"n_neighbors\":[3,5,10]}\n",
        "params_gbr = {\"n_estimators\":[10,100,1000], \"min_samples_split\":[2,5], \"max_depth\":[2,5,10], \"random_state\":[42]}"
      ]
    },
    {
      "cell_type": "code",
      "execution_count": null,
      "metadata": {
        "id": "pAcoRWoCrpyv"
      },
      "outputs": [],
      "source": [
        "gridrfr = GridSearchCV(estimator = rfr,\n",
        "                    param_grid = params_rfr,\n",
        "                    scoring = 'r2',\n",
        "                    cv = 3,\n",
        "                    n_jobs=-1)"
      ]
    },
    {
      "cell_type": "code",
      "execution_count": null,
      "metadata": {
        "id": "3Vmxwq3orpyv"
      },
      "outputs": [],
      "source": [
        "gridknn = GridSearchCV(estimator = knn,\n",
        "                    param_grid = params_knn,\n",
        "                    scoring = 'r2',\n",
        "                    cv = 3,\n",
        "                    n_jobs=-1)"
      ]
    },
    {
      "cell_type": "code",
      "execution_count": null,
      "metadata": {
        "id": "1EmqS8fxrpyv"
      },
      "outputs": [],
      "source": [
        "gridgbr = GridSearchCV(estimator = gbr,\n",
        "                    param_grid = params_gbr,\n",
        "                    scoring = 'r2',\n",
        "                    cv = 3,\n",
        "                    n_jobs=-1)"
      ]
    },
    {
      "cell_type": "code",
      "execution_count": null,
      "metadata": {
        "id": "DHm30DrMrpyz",
        "outputId": "ab957142-d85e-4035-8cb2-c28e78682781"
      },
      "outputs": [
        {
          "data": {
            "text/plain": [
              "(GridSearchCV(cv=3, estimator=RandomForestRegressor(), n_jobs=-1,\n",
              "              param_grid={'max_depth': [2, 5, 10],\n",
              "                          'n_estimators': [10, 100, 1000]},\n",
              "              scoring='r2'),\n",
              " GridSearchCV(cv=3, estimator=KNeighborsRegressor(), n_jobs=-1,\n",
              "              param_grid={'n_neighbors': [3, 5, 10]}, scoring='r2'),\n",
              " GridSearchCV(cv=3, estimator=GradientBoostingRegressor(), n_jobs=-1,\n",
              "              param_grid={'max_depth': [2, 5, 10], 'min_samples_split': [2, 5],\n",
              "                          'n_estimators': [10, 100, 1000],\n",
              "                          'random_state': [42]},\n",
              "              scoring='r2'))"
            ]
          },
          "execution_count": 63,
          "metadata": {},
          "output_type": "execute_result"
        }
      ],
      "source": [
        "gridrfr, gridknn, gridgbr"
      ]
    },
    {
      "cell_type": "code",
      "execution_count": null,
      "metadata": {
        "id": "WmcOi6Pdrpy0",
        "outputId": "ee52afee-6cb9-4b03-8b5b-c9faeafb8ff3"
      },
      "outputs": [
        {
          "data": {
            "text/plain": [
              "(GridSearchCV(cv=3, estimator=RandomForestRegressor(), n_jobs=-1,\n",
              "              param_grid={'max_depth': [2, 5, 10],\n",
              "                          'n_estimators': [10, 100, 1000]},\n",
              "              scoring='r2'),\n",
              " GridSearchCV(cv=3, estimator=KNeighborsRegressor(), n_jobs=-1,\n",
              "              param_grid={'n_neighbors': [3, 5, 10]}, scoring='r2'),\n",
              " GridSearchCV(cv=3, estimator=GradientBoostingRegressor(), n_jobs=-1,\n",
              "              param_grid={'max_depth': [2, 5, 10], 'min_samples_split': [2, 5],\n",
              "                          'n_estimators': [10, 100, 1000],\n",
              "                          'random_state': [42]},\n",
              "              scoring='r2'))"
            ]
          },
          "execution_count": 64,
          "metadata": {},
          "output_type": "execute_result"
        }
      ],
      "source": [
        "#treinando os modelos no grid\n",
        "gridrfr.fit(Xtrain, ytrain), gridknn.fit(Xtrain, ytrain), gridgbr.fit(Xtrain, ytrain)"
      ]
    },
    {
      "cell_type": "code",
      "execution_count": null,
      "metadata": {
        "id": "VRgkLkOWrpy0",
        "outputId": "6daad0e8-d3f9-4a11-dc2d-fbc642a06a4d"
      },
      "outputs": [
        {
          "data": {
            "text/plain": [
              "({'max_depth': 10, 'n_estimators': 1000},\n",
              " {'n_neighbors': 10},\n",
              " {'max_depth': 5,\n",
              "  'min_samples_split': 5,\n",
              "  'n_estimators': 1000,\n",
              "  'random_state': 42})"
            ]
          },
          "execution_count": 65,
          "metadata": {},
          "output_type": "execute_result"
        }
      ],
      "source": [
        "gridrfr.best_params_ , gridknn.best_params_, gridgbr.best_params_"
      ]
    },
    {
      "cell_type": "code",
      "execution_count": null,
      "metadata": {
        "id": "1ppGiCPlrpy0",
        "outputId": "b099a162-c702-4a99-9078-dcb7cedc0d69"
      },
      "outputs": [
        {
          "data": {
            "text/plain": [
              "(0.7817882100950194, 0.28980330464739007, 0.8248911482483173)"
            ]
          },
          "execution_count": 66,
          "metadata": {},
          "output_type": "execute_result"
        }
      ],
      "source": [
        "gridrfr.best_score_ , gridknn.best_score_ , gridgbr.best_score_"
      ]
    },
    {
      "cell_type": "code",
      "execution_count": null,
      "metadata": {
        "id": "dW4iWPTZrpy0",
        "outputId": "e44a607e-12cb-4d33-e4c4-15b42a0a0242"
      },
      "outputs": [
        {
          "data": {
            "text/plain": [
              "(RandomForestRegressor(max_depth=10, n_estimators=1000),\n",
              " KNeighborsRegressor(n_neighbors=10),\n",
              " GradientBoostingRegressor(max_depth=5, min_samples_split=5, n_estimators=1000,\n",
              "                           random_state=42))"
            ]
          },
          "execution_count": 67,
          "metadata": {},
          "output_type": "execute_result"
        }
      ],
      "source": [
        "gridrfr.best_estimator_ , gridknn.best_estimator_ , gridgbr.best_estimator_"
      ]
    },
    {
      "cell_type": "markdown",
      "metadata": {
        "id": "FN-744F0rpy0"
      },
      "source": [
        "__Observando os scores ( a métrica utilizada foi o r2 ), podemos concluir que o modelo GradientBooster obteve o maior score e seus melhores parâmetros foram: 'max_depth': 5, 'min_samples_split': 5, 'n_estimators': 1000__"
      ]
    },
    {
      "cell_type": "code",
      "execution_count": null,
      "metadata": {
        "id": "OJ6mVEb0rpy0"
      },
      "outputs": [],
      "source": []
    },
    {
      "cell_type": "markdown",
      "metadata": {
        "id": "JXTo2VKDrpy1"
      },
      "source": [
        "__Exercício 2:__ Crie uma classe para comparar o grid_search dentre vários modelos distintos.\n",
        "    \n",
        "    \n",
        "Essa classe, gridSearchAll(), já está pré-desenvolvida no código abaixo. O exercício consiste de __completar essa classe.__ Para isso, crie o métodos fit_all, que irá treinar, usando grid_search, todos os grids que tenham sido pré-construídos e inseridos na classe.\n",
        "Ainda, a quantidade de folds para a validação cruzada no grid_search deve ser implementada no método construtor da classe, bem como qual a métrica de performance a ser avaliada.\n",
        "Finalmente, salve o melhor modelo de cada grid e tenha um método best_all_grid_models que retorna o melhor modelo dentre todos os grids."
      ]
    },
    {
      "cell_type": "code",
      "execution_count": null,
      "metadata": {
        "id": "DUrMzGS9rpy1"
      },
      "outputs": [],
      "source": [
        "class gridSearchAll():\n",
        "\n",
        "    def __init__(self, grid_models, scoring, cv):\n",
        "        self.grid_models = []\n",
        "        self.scoring = scoring\n",
        "        self.cv = cv\n",
        "        self.grids = []\n",
        "        self.score = {}\n",
        "\n",
        "\n",
        "    def insert_model(self, estimator_base, param_grid):\n",
        "        self.grid_models.append([estimator_base, param_grid])\n",
        "\n",
        "    def fit_all(self, X, y):\n",
        "        for estimator_base, param_grid in self.grid_models:\n",
        "            grid = GridSearchCV(estimator = estimator_base,\n",
        "                   param_grid = param_grid,\n",
        "                   scoring = self.scoring,\n",
        "                   cv = self.cv,\n",
        "                   n_jobs=-1)\n",
        "            grid.fit(X,y)\n",
        "            self.grids.append(grid)\n",
        "            self.score[estimator_base] = grid.best_score_\n",
        "            print(\"Os melhores parâmetros foram :\")\n",
        "            print(estimator_base)\n",
        "            print(grid.best_params_)\n",
        "\n",
        "    def best_all_grid_models(self):\n",
        "        print(\"Os scores dos modelos foram :\")\n",
        "        print(self.score)\n",
        "        print(\"\")\n",
        "        print(\"Sendo o melhor modelo : \")\n",
        "        melhor = max(self.score, key=self.score.get)\n",
        "        return melhor"
      ]
    },
    {
      "cell_type": "code",
      "execution_count": null,
      "metadata": {
        "id": "htFhl6Amrpy1"
      },
      "outputs": [],
      "source": [
        "gd = gridSearchAll(2, 'r2', 3)"
      ]
    },
    {
      "cell_type": "code",
      "execution_count": null,
      "metadata": {
        "id": "pacBW9anrpy1",
        "outputId": "1a6648e8-a67d-4ab4-ddce-7d5832f422cf"
      },
      "outputs": [
        {
          "data": {
            "text/plain": [
              "[]"
            ]
          },
          "execution_count": 378,
          "metadata": {},
          "output_type": "execute_result"
        }
      ],
      "source": [
        "gd.grid_models"
      ]
    },
    {
      "cell_type": "code",
      "execution_count": null,
      "metadata": {
        "id": "7xVdm53nrpy1"
      },
      "outputs": [],
      "source": [
        "params_RF = {'n_estimators': [10, 1000], 'max_depth': [2, 10]}"
      ]
    },
    {
      "cell_type": "code",
      "execution_count": null,
      "metadata": {
        "id": "w9IN-pB2rpy1"
      },
      "outputs": [],
      "source": [
        "gd.insert_model(estimator_base = RandomForestRegressor(), param_grid = params_RF)"
      ]
    },
    {
      "cell_type": "code",
      "execution_count": null,
      "metadata": {
        "id": "JXv9BQJorpy1",
        "outputId": "194f190b-717e-4bdb-da35-14229eaee20e"
      },
      "outputs": [
        {
          "data": {
            "text/plain": [
              "[[RandomForestRegressor(), {'n_estimators': [10, 1000], 'max_depth': [2, 10]}]]"
            ]
          },
          "execution_count": 381,
          "metadata": {},
          "output_type": "execute_result"
        }
      ],
      "source": [
        "gd.grid_models"
      ]
    },
    {
      "cell_type": "code",
      "execution_count": null,
      "metadata": {
        "id": "fwsWd6xNrpy2"
      },
      "outputs": [],
      "source": [
        "from sklearn.neighbors import KNeighborsRegressor"
      ]
    },
    {
      "cell_type": "code",
      "execution_count": null,
      "metadata": {
        "id": "b6Dffj26rpy2"
      },
      "outputs": [],
      "source": [
        "gd.insert_model(estimator_base = KNeighborsRegressor(), param_grid = {\"n_neighbors\":[1,2,10]})"
      ]
    },
    {
      "cell_type": "code",
      "execution_count": null,
      "metadata": {
        "id": "ebYrKuO6rpy2",
        "outputId": "4e996f95-7c69-4fbe-95cb-4f6ca0c7ad2f"
      },
      "outputs": [
        {
          "data": {
            "text/plain": [
              "[[RandomForestRegressor(), {'n_estimators': [10, 1000], 'max_depth': [2, 10]}],\n",
              " [KNeighborsRegressor(), {'n_neighbors': [1, 2, 10]}]]"
            ]
          },
          "execution_count": 384,
          "metadata": {},
          "output_type": "execute_result"
        }
      ],
      "source": [
        "gd.grid_models"
      ]
    },
    {
      "cell_type": "code",
      "execution_count": null,
      "metadata": {
        "id": "SHuxI8awrpy2",
        "outputId": "d341302a-5ab7-43af-e06f-bd279880b9b5"
      },
      "outputs": [
        {
          "name": "stdout",
          "output_type": "stream",
          "text": [
            "Os melhores parâmetros foram :\n",
            "RandomForestRegressor()\n",
            "{'max_depth': 10, 'n_estimators': 1000}\n",
            "Os melhores parâmetros foram :\n",
            "KNeighborsRegressor()\n",
            "{'n_neighbors': 10}\n"
          ]
        }
      ],
      "source": [
        "gd.fit_all(X,y)"
      ]
    },
    {
      "cell_type": "code",
      "execution_count": null,
      "metadata": {
        "id": "qVV1FJ8mrpy2",
        "outputId": "127ae622-d4ad-4fed-99e6-016db74997eb"
      },
      "outputs": [
        {
          "name": "stdout",
          "output_type": "stream",
          "text": [
            "Os scores dos modelos foram :\n",
            "{RandomForestRegressor(): 0.568078104356985, KNeighborsRegressor(): 0.2762393249417914}\n",
            "\n",
            "Sendo o melhor modelo : \n"
          ]
        },
        {
          "data": {
            "text/plain": [
              "RandomForestRegressor()"
            ]
          },
          "execution_count": 386,
          "metadata": {},
          "output_type": "execute_result"
        }
      ],
      "source": [
        "gd.best_all_grid_models()"
      ]
    },
    {
      "cell_type": "markdown",
      "metadata": {
        "id": "txzCt8pkrpy2"
      },
      "source": [
        "__Exercício 3:__ Usando a classe criada, analise novamente os modelos criados no exercício 1."
      ]
    },
    {
      "cell_type": "code",
      "execution_count": null,
      "metadata": {
        "id": "0zdOMUAjrpy3"
      },
      "outputs": [],
      "source": [
        "gd3 = gridSearchAll(3, 'r2', 3)"
      ]
    },
    {
      "cell_type": "code",
      "execution_count": null,
      "metadata": {
        "id": "zmaOPooirpy3"
      },
      "outputs": [],
      "source": [
        "gd3.insert_model(estimator_base = rfr, param_grid = params_rfr)\n",
        "gd3.insert_model(estimator_base = knn, param_grid = params_knn)\n",
        "gd3.insert_model(estimator_base = gbr, param_grid = params_gbr)"
      ]
    },
    {
      "cell_type": "code",
      "execution_count": null,
      "metadata": {
        "id": "NmKNXb7Arpy3",
        "outputId": "c96dc353-40c0-4374-ab16-cb181a15fa6a"
      },
      "outputs": [
        {
          "data": {
            "text/plain": [
              "[[RandomForestRegressor(),\n",
              "  {'n_estimators': [10, 100, 1000], 'max_depth': [2, 5, 10]}],\n",
              " [KNeighborsRegressor(), {'n_neighbors': [3, 5, 10]}],\n",
              " [GradientBoostingRegressor(),\n",
              "  {'n_estimators': [10, 100, 1000],\n",
              "   'min_samples_split': [2, 5],\n",
              "   'max_depth': [2, 5, 10],\n",
              "   'random_state': [42]}]]"
            ]
          },
          "execution_count": 389,
          "metadata": {},
          "output_type": "execute_result"
        }
      ],
      "source": [
        "gd3.grid_models"
      ]
    },
    {
      "cell_type": "code",
      "execution_count": null,
      "metadata": {
        "id": "3P3uYBUzrpy3",
        "outputId": "2a785278-fcf5-4e77-e16f-0735f2f6d942"
      },
      "outputs": [
        {
          "name": "stdout",
          "output_type": "stream",
          "text": [
            "Os melhores parâmetros foram :\n",
            "RandomForestRegressor()\n",
            "{'max_depth': 10, 'n_estimators': 1000}\n",
            "Os melhores parâmetros foram :\n",
            "KNeighborsRegressor()\n",
            "{'n_neighbors': 10}\n",
            "Os melhores parâmetros foram :\n",
            "GradientBoostingRegressor()\n",
            "{'max_depth': 5, 'min_samples_split': 2, 'n_estimators': 100, 'random_state': 42}\n"
          ]
        }
      ],
      "source": [
        "gd3.fit_all(X,y)"
      ]
    },
    {
      "cell_type": "code",
      "execution_count": null,
      "metadata": {
        "id": "G92O_rZlrpy3",
        "outputId": "d01b3382-44a6-4ef9-b070-c72b421db87f"
      },
      "outputs": [
        {
          "name": "stdout",
          "output_type": "stream",
          "text": [
            "Os scores dos modelos foram :\n",
            "{RandomForestRegressor(): 0.5680757898027905, KNeighborsRegressor(): 0.2762393249417914, GradientBoostingRegressor(): 0.6514718800438686}\n",
            "\n",
            "Sendo o melhor modelo : \n"
          ]
        },
        {
          "data": {
            "text/plain": [
              "GradientBoostingRegressor()"
            ]
          },
          "execution_count": 391,
          "metadata": {},
          "output_type": "execute_result"
        }
      ],
      "source": [
        "gd3.best_all_grid_models()"
      ]
    },
    {
      "cell_type": "code",
      "execution_count": null,
      "metadata": {
        "id": "MUmoEDQPrpy3"
      },
      "outputs": [],
      "source": []
    },
    {
      "cell_type": "code",
      "execution_count": null,
      "metadata": {
        "id": "vAmuyLIxrpy3"
      },
      "outputs": [],
      "source": []
    }
  ],
  "metadata": {
    "kernelspec": {
      "display_name": "Python 3 (ipykernel)",
      "language": "python",
      "name": "python3"
    },
    "language_info": {
      "codemirror_mode": {
        "name": "ipython",
        "version": 3
      },
      "file_extension": ".py",
      "mimetype": "text/x-python",
      "name": "python",
      "nbconvert_exporter": "python",
      "pygments_lexer": "ipython3",
      "version": "3.9.13"
    },
    "colab": {
      "provenance": [],
      "include_colab_link": true
    }
  },
  "nbformat": 4,
  "nbformat_minor": 0
}