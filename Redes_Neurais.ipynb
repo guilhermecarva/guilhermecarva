{
  "cells": [
    {
      "cell_type": "markdown",
      "metadata": {
        "id": "view-in-github",
        "colab_type": "text"
      },
      "source": [
        "<a href=\"https://colab.research.google.com/github/guilhermecarva/guilhermecarva/blob/main/Redes_Neurais.ipynb\" target=\"_parent\"><img src=\"https://colab.research.google.com/assets/colab-badge.svg\" alt=\"Open In Colab\"/></a>"
      ]
    },
    {
      "cell_type": "markdown",
      "id": "f65d6c7b",
      "metadata": {
        "id": "f65d6c7b"
      },
      "source": [
        "## \"JUNTANDO TUDO\" <br> Vamos praticar todo o aprendizado deste módulo. Para tanto, vamos utilizar o dataset MNIST"
      ]
    },
    {
      "cell_type": "code",
      "execution_count": null,
      "id": "33db1c8e",
      "metadata": {
        "id": "33db1c8e"
      },
      "outputs": [],
      "source": [
        "import tensorflow as tf\n",
        "from tensorflow import keras\n",
        "from tensorflow.keras import layers\n",
        "from tensorflow.keras.datasets import mnist\n",
        "import numpy as np\n",
        "import matplotlib.pyplot as plt\n",
        "import datetime"
      ]
    },
    {
      "cell_type": "code",
      "execution_count": null,
      "id": "d03e61e7",
      "metadata": {
        "colab": {
          "base_uri": "https://localhost:8080/"
        },
        "id": "d03e61e7",
        "outputId": "44b721bd-74cc-435e-b87c-e521939b562e"
      },
      "outputs": [
        {
          "output_type": "stream",
          "name": "stdout",
          "text": [
            "Downloading data from https://storage.googleapis.com/tensorflow/tf-keras-datasets/mnist.npz\n",
            "11490434/11490434 [==============================] - 0s 0us/step\n"
          ]
        }
      ],
      "source": [
        "(x_train, y_train), (x_test, y_test) = tf.keras.datasets.mnist.load_data()"
      ]
    },
    {
      "cell_type": "code",
      "execution_count": null,
      "id": "c34c9631",
      "metadata": {
        "id": "c34c9631"
      },
      "outputs": [],
      "source": [
        "amostra_treino = np.random.choice(range(len(x_train)), size=60000, replace=False)\n",
        "amostra_teste = np.random.choice(range(len(x_test)), size=10000, replace=False)"
      ]
    },
    {
      "cell_type": "code",
      "execution_count": null,
      "id": "976f931a",
      "metadata": {
        "id": "976f931a"
      },
      "outputs": [],
      "source": [
        "x_train = x_train[amostra_treino,:]\n",
        "y_train = y_train[amostra_treino]\n",
        "\n",
        "x_test = x_test[amostra_teste,:]\n",
        "y_test = y_test[amostra_teste]"
      ]
    },
    {
      "cell_type": "code",
      "execution_count": null,
      "id": "f59f1109",
      "metadata": {
        "colab": {
          "base_uri": "https://localhost:8080/"
        },
        "id": "f59f1109",
        "outputId": "7071b8c7-d330-4be7-8b1d-dcaf8cf771c2"
      },
      "outputs": [
        {
          "output_type": "stream",
          "name": "stdout",
          "text": [
            "(60000,) (10000,)\n"
          ]
        }
      ],
      "source": [
        "print(amostra_treino.shape, amostra_teste.shape)"
      ]
    },
    {
      "cell_type": "code",
      "execution_count": null,
      "id": "c3e4d3a0",
      "metadata": {
        "colab": {
          "base_uri": "https://localhost:8080/"
        },
        "id": "c3e4d3a0",
        "outputId": "8a00573d-32ba-45ce-ae8f-a61d44c59eeb"
      },
      "outputs": [
        {
          "output_type": "stream",
          "name": "stdout",
          "text": [
            "(60000, 28, 28) (10000, 28, 28)\n"
          ]
        }
      ],
      "source": [
        "print(x_train.shape, x_test.shape)"
      ]
    },
    {
      "cell_type": "code",
      "source": [
        "x_train[0]"
      ],
      "metadata": {
        "id": "I_6uB4o1l9iN"
      },
      "id": "I_6uB4o1l9iN",
      "execution_count": null,
      "outputs": []
    },
    {
      "cell_type": "code",
      "execution_count": null,
      "id": "9862fc2c",
      "metadata": {
        "colab": {
          "base_uri": "https://localhost:8080/",
          "height": 499
        },
        "id": "9862fc2c",
        "outputId": "4e03c332-603b-4d28-dc24-8f54deb22c64"
      },
      "outputs": [
        {
          "output_type": "execute_result",
          "data": {
            "text/plain": [
              "(array([ 980., 1135., 1032., 1010.,  982.,  892.,  958., 1028.,  974.,\n",
              "        1009.]),\n",
              " array([0. , 0.9, 1.8, 2.7, 3.6, 4.5, 5.4, 6.3, 7.2, 8.1, 9. ]),\n",
              " <BarContainer object of 10 artists>)"
            ]
          },
          "metadata": {},
          "execution_count": 7
        },
        {
          "output_type": "display_data",
          "data": {
            "text/plain": [
              "<Figure size 640x480 with 1 Axes>"
            ],
            "image/png": "[encoded data removed]"
          },
          "metadata": {}
        }
      ],
      "source": [
        "plt.hist(y_test, rwidth = 0.1)"
      ]
    },
    {
      "cell_type": "code",
      "execution_count": null,
      "id": "adcd49b0",
      "metadata": {
        "id": "adcd49b0"
      },
      "outputs": [],
      "source": [
        "# one hot encoding nos y\n",
        "y_train = keras.utils.to_categorical(y_train)\n",
        "y_test = keras.utils.to_categorical(y_test)"
      ]
    },
    {
      "cell_type": "code",
      "execution_count": null,
      "id": "fc71c4f8",
      "metadata": {
        "colab": {
          "base_uri": "https://localhost:8080/",
          "height": 447
        },
        "id": "fc71c4f8",
        "outputId": "4c057c09-4bec-4ae9-9148-56b50ae18aea"
      },
      "outputs": [
        {
          "output_type": "stream",
          "name": "stdout",
          "text": [
            "[0. 0. 0. 0. 0. 0. 0. 1. 0. 0.]\n"
          ]
        },
        {
          "output_type": "display_data",
          "data": {
            "text/plain": [
              "<Figure size 640x480 with 1 Axes>"
            ],
            "image/png": "[encoded data removed]"
          },
          "metadata": {}
        }
      ],
      "source": [
        "i = np.random.randint(low=0, high=10000)\n",
        "y_test[i]\n",
        "plt.imshow(x_test[i])\n",
        "print(y_test[i])"
      ]
    },
    {
      "cell_type": "code",
      "execution_count": null,
      "id": "a6959da2",
      "metadata": {
        "colab": {
          "base_uri": "https://localhost:8080/",
          "height": 447
        },
        "id": "a6959da2",
        "outputId": "e37ca58c-5a41-4121-b16c-3eb06b97da01"
      },
      "outputs": [
        {
          "output_type": "execute_result",
          "data": {
            "text/plain": [
              "<matplotlib.image.AxesImage at 0x7d00e14608b0>"
            ]
          },
          "metadata": {},
          "execution_count": 10
        },
        {
          "output_type": "display_data",
          "data": {
            "text/plain": [
              "<Figure size 640x480 with 1 Axes>"
            ],
            "image/png": "[encoded data removed]"
          },
          "metadata": {}
        }
      ],
      "source": [
        "plt.imshow(x_train[561])"
      ]
    },
    {
      "cell_type": "markdown",
      "id": "95fe9528",
      "metadata": {
        "id": "95fe9528"
      },
      "source": [
        "## Vamos transferir o aprendizado do modelo VG16"
      ]
    },
    {
      "cell_type": "markdown",
      "id": "2295d35b",
      "metadata": {
        "id": "2295d35b"
      },
      "source": [
        "### Tornar todos seus parâmetros traináveis em não treináveis e adicionar nossas camadas ao final. Para treinar somente nossa parte do modelo. <br> O tamanho das imagens do VGG16 é 224x224, e do nosso dataset 28x28. Na documentação do modelo vemos que o menor tamanho aceito é 32x32, portanto deveremos alterar o shape de entrada para o mínimo aceito."
      ]
    },
    {
      "cell_type": "code",
      "execution_count": null,
      "id": "62de89c8",
      "metadata": {
        "scrolled": true,
        "colab": {
          "base_uri": "https://localhost:8080/"
        },
        "id": "62de89c8",
        "outputId": "8970c822-8e9d-4d74-a303-836b6a385a73"
      },
      "outputs": [
        {
          "output_type": "stream",
          "name": "stdout",
          "text": [
            "(60000, 32, 32)\n"
          ]
        }
      ],
      "source": [
        "imgt = x_train.transpose(1,2,0)  #inverter a ordem do batch levando o canal para posição final (28,28,60000)\n",
        "imgs_resize = tf.image.resize(imgt, (32,32)).numpy() #aplicar o resize (32,32,60000)\n",
        "x_train = imgs_resize.transpose(2,0,1) #voltar a ordem original (60000,32,32)\n",
        "print(x_train.shape)"
      ]
    },
    {
      "cell_type": "code",
      "execution_count": null,
      "id": "1fe0a325",
      "metadata": {
        "colab": {
          "base_uri": "https://localhost:8080/"
        },
        "id": "1fe0a325",
        "outputId": "608e703f-1d9b-444b-f4d1-534067406e86"
      },
      "outputs": [
        {
          "output_type": "stream",
          "name": "stdout",
          "text": [
            "(60000, 32, 32, 1)\n"
          ]
        }
      ],
      "source": [
        "x_train = np.expand_dims(x_train, axis=-1) #vamos adicionar uma dimensão na última posição\n",
        "print(x_train.shape)"
      ]
    },
    {
      "cell_type": "code",
      "execution_count": null,
      "id": "530625d2",
      "metadata": {
        "colab": {
          "base_uri": "https://localhost:8080/"
        },
        "id": "530625d2",
        "outputId": "9d346c44-645e-4ab6-cc42-0878a55e3361"
      },
      "outputs": [
        {
          "output_type": "stream",
          "name": "stdout",
          "text": [
            "(60000, 32, 32, 3)\n"
          ]
        }
      ],
      "source": [
        "x_train = np.repeat(x_train, 3, axis=-1) #vamos repetir cada elemento do array 3 vezes para obter a dimensão 32,32,3\n",
        "print(x_train.shape)"
      ]
    },
    {
      "cell_type": "code",
      "execution_count": null,
      "id": "4a1d4e53",
      "metadata": {
        "colab": {
          "base_uri": "https://localhost:8080/"
        },
        "id": "4a1d4e53",
        "outputId": "0c953dd1-f4ac-400a-f437-bbd2a9e1f7c7"
      },
      "outputs": [
        {
          "output_type": "stream",
          "name": "stdout",
          "text": [
            "(10000, 32, 32, 3)\n"
          ]
        }
      ],
      "source": [
        "# aplicando o mesmo shape para o x_test\n",
        "imgt = x_test.transpose(1,2,0)\n",
        "imgs_resize = tf.image.resize(imgt, (32,32)).numpy()\n",
        "x_test = imgs_resize.transpose(2,0,1)\n",
        "x_test = np.expand_dims(x_test, axis=-1)\n",
        "x_test = np.repeat(x_test, 3, axis=-1)\n",
        "print(x_test.shape)"
      ]
    },
    {
      "cell_type": "code",
      "execution_count": null,
      "id": "d5951e53",
      "metadata": {
        "colab": {
          "base_uri": "https://localhost:8080/"
        },
        "id": "d5951e53",
        "outputId": "b6fae5bb-995d-41e7-d821-d7368515baf7"
      },
      "outputs": [
        {
          "output_type": "stream",
          "name": "stdout",
          "text": [
            "Downloading data from https://storage.googleapis.com/tensorflow/keras-applications/vgg16/vgg16_weights_tf_dim_ordering_tf_kernels_notop.h5\n",
            "58889256/58889256 [==============================] - 0s 0us/step\n"
          ]
        }
      ],
      "source": [
        "#importando a aplicação vgg16 do imagenet. Como o include_top será False, devemos especificar o input_shape\n",
        "from keras.applications.vgg16 import VGG16\n",
        "\n",
        "eff_model = VGG16(weights='imagenet', include_top = False, input_shape=(32, 32, 3))"
      ]
    },
    {
      "cell_type": "code",
      "execution_count": null,
      "id": "42d90a19",
      "metadata": {
        "id": "42d90a19"
      },
      "outputs": [],
      "source": [
        "#vamos instanciar o modelo apenas para poder alterar os parâmetros treináveis\n",
        "model2 = keras.Sequential()\n",
        "for layer in eff_model.layers:\n",
        "    model2.add(layer)"
      ]
    },
    {
      "cell_type": "code",
      "execution_count": null,
      "id": "25858ee3",
      "metadata": {
        "colab": {
          "base_uri": "https://localhost:8080/"
        },
        "id": "25858ee3",
        "outputId": "3efffa66-2f74-4dbe-ebed-85655c809121"
      },
      "outputs": [
        {
          "output_type": "stream",
          "name": "stdout",
          "text": [
            "Model: \"sequential\"\n",
            "_________________________________________________________________\n",
            " Layer (type)                Output Shape              Param #   \n",
            "=================================================================\n",
            " block1_conv1 (Conv2D)       (None, 32, 32, 64)        1792      \n",
            "                                                                 \n",
            " block1_conv2 (Conv2D)       (None, 32, 32, 64)        36928     \n",
            "                                                                 \n",
            " block1_pool (MaxPooling2D)  (None, 16, 16, 64)        0         \n",
            "                                                                 \n",
            " block2_conv1 (Conv2D)       (None, 16, 16, 128)       73856     \n",
            "                                                                 \n",
            " block2_conv2 (Conv2D)       (None, 16, 16, 128)       147584    \n",
            "                                                                 \n",
            " block2_pool (MaxPooling2D)  (None, 8, 8, 128)         0         \n",
            "                                                                 \n",
            " block3_conv1 (Conv2D)       (None, 8, 8, 256)         295168    \n",
            "                                                                 \n",
            " block3_conv2 (Conv2D)       (None, 8, 8, 256)         590080    \n",
            "                                                                 \n",
            " block3_conv3 (Conv2D)       (None, 8, 8, 256)         590080    \n",
            "                                                                 \n",
            " block3_pool (MaxPooling2D)  (None, 4, 4, 256)         0         \n",
            "                                                                 \n",
            " block4_conv1 (Conv2D)       (None, 4, 4, 512)         1180160   \n",
            "                                                                 \n",
            " block4_conv2 (Conv2D)       (None, 4, 4, 512)         2359808   \n",
            "                                                                 \n",
            " block4_conv3 (Conv2D)       (None, 4, 4, 512)         2359808   \n",
            "                                                                 \n",
            " block4_pool (MaxPooling2D)  (None, 2, 2, 512)         0         \n",
            "                                                                 \n",
            " block5_conv1 (Conv2D)       (None, 2, 2, 512)         2359808   \n",
            "                                                                 \n",
            " block5_conv2 (Conv2D)       (None, 2, 2, 512)         2359808   \n",
            "                                                                 \n",
            " block5_conv3 (Conv2D)       (None, 2, 2, 512)         2359808   \n",
            "                                                                 \n",
            " block5_pool (MaxPooling2D)  (None, 1, 1, 512)         0         \n",
            "                                                                 \n",
            "=================================================================\n",
            "Total params: 14714688 (56.13 MB)\n",
            "Trainable params: 14714688 (56.13 MB)\n",
            "Non-trainable params: 0 (0.00 Byte)\n",
            "_________________________________________________________________\n"
          ]
        }
      ],
      "source": [
        "model2.summary()"
      ]
    },
    {
      "cell_type": "code",
      "execution_count": null,
      "id": "0cdeda8b",
      "metadata": {
        "id": "0cdeda8b"
      },
      "outputs": [],
      "source": [
        "for layer in model2.layers:\n",
        "    layer.trainable = False"
      ]
    },
    {
      "cell_type": "code",
      "execution_count": null,
      "id": "72705dd9",
      "metadata": {
        "id": "72705dd9"
      },
      "outputs": [],
      "source": [
        "#tf.keras.backend.clear_session()"
      ]
    },
    {
      "cell_type": "code",
      "execution_count": null,
      "id": "bff1f19c",
      "metadata": {
        "colab": {
          "base_uri": "https://localhost:8080/"
        },
        "id": "bff1f19c",
        "outputId": "1d894cd1-c097-4e95-8f65-3fc712f48f8f"
      },
      "outputs": [
        {
          "output_type": "stream",
          "name": "stdout",
          "text": [
            "Model: \"sequential\"\n",
            "_________________________________________________________________\n",
            " Layer (type)                Output Shape              Param #   \n",
            "=================================================================\n",
            " block1_conv1 (Conv2D)       (None, 32, 32, 64)        1792      \n",
            "                                                                 \n",
            " block1_conv2 (Conv2D)       (None, 32, 32, 64)        36928     \n",
            "                                                                 \n",
            " block1_pool (MaxPooling2D)  (None, 16, 16, 64)        0         \n",
            "                                                                 \n",
            " block2_conv1 (Conv2D)       (None, 16, 16, 128)       73856     \n",
            "                                                                 \n",
            " block2_conv2 (Conv2D)       (None, 16, 16, 128)       147584    \n",
            "                                                                 \n",
            " block2_pool (MaxPooling2D)  (None, 8, 8, 128)         0         \n",
            "                                                                 \n",
            " block3_conv1 (Conv2D)       (None, 8, 8, 256)         295168    \n",
            "                                                                 \n",
            " block3_conv2 (Conv2D)       (None, 8, 8, 256)         590080    \n",
            "                                                                 \n",
            " block3_conv3 (Conv2D)       (None, 8, 8, 256)         590080    \n",
            "                                                                 \n",
            " block3_pool (MaxPooling2D)  (None, 4, 4, 256)         0         \n",
            "                                                                 \n",
            " block4_conv1 (Conv2D)       (None, 4, 4, 512)         1180160   \n",
            "                                                                 \n",
            " block4_conv2 (Conv2D)       (None, 4, 4, 512)         2359808   \n",
            "                                                                 \n",
            " block4_conv3 (Conv2D)       (None, 4, 4, 512)         2359808   \n",
            "                                                                 \n",
            " block4_pool (MaxPooling2D)  (None, 2, 2, 512)         0         \n",
            "                                                                 \n",
            " block5_conv1 (Conv2D)       (None, 2, 2, 512)         2359808   \n",
            "                                                                 \n",
            " block5_conv2 (Conv2D)       (None, 2, 2, 512)         2359808   \n",
            "                                                                 \n",
            " block5_conv3 (Conv2D)       (None, 2, 2, 512)         2359808   \n",
            "                                                                 \n",
            " block5_pool (MaxPooling2D)  (None, 1, 1, 512)         0         \n",
            "                                                                 \n",
            "=================================================================\n",
            "Total params: 14714688 (56.13 MB)\n",
            "Trainable params: 0 (0.00 Byte)\n",
            "Non-trainable params: 14714688 (56.13 MB)\n",
            "_________________________________________________________________\n"
          ]
        }
      ],
      "source": [
        "model2.summary()"
      ]
    },
    {
      "cell_type": "code",
      "execution_count": null,
      "id": "2c456bdb",
      "metadata": {
        "id": "2c456bdb"
      },
      "outputs": [],
      "source": [
        "# Adicionando layers no final. Nosso dataset MNIST possui 10 classes portanto nossa saída tem que ser com 10 classes\n",
        "model2.add(layers.Flatten())\n",
        "model2.add(layers.Dense(100, activation='relu'))\n",
        "model2.add(layers.Dense(10, activation='softmax'))"
      ]
    },
    {
      "cell_type": "code",
      "execution_count": null,
      "id": "97c10bec",
      "metadata": {
        "colab": {
          "base_uri": "https://localhost:8080/"
        },
        "id": "97c10bec",
        "outputId": "1783cf46-dc46-4818-96e5-6cd5cec461e4"
      },
      "outputs": [
        {
          "output_type": "stream",
          "name": "stdout",
          "text": [
            "Model: \"sequential\"\n",
            "_________________________________________________________________\n",
            " Layer (type)                Output Shape              Param #   \n",
            "=================================================================\n",
            " block1_conv1 (Conv2D)       (None, 32, 32, 64)        1792      \n",
            "                                                                 \n",
            " block1_conv2 (Conv2D)       (None, 32, 32, 64)        36928     \n",
            "                                                                 \n",
            " block1_pool (MaxPooling2D)  (None, 16, 16, 64)        0         \n",
            "                                                                 \n",
            " block2_conv1 (Conv2D)       (None, 16, 16, 128)       73856     \n",
            "                                                                 \n",
            " block2_conv2 (Conv2D)       (None, 16, 16, 128)       147584    \n",
            "                                                                 \n",
            " block2_pool (MaxPooling2D)  (None, 8, 8, 128)         0         \n",
            "                                                                 \n",
            " block3_conv1 (Conv2D)       (None, 8, 8, 256)         295168    \n",
            "                                                                 \n",
            " block3_conv2 (Conv2D)       (None, 8, 8, 256)         590080    \n",
            "                                                                 \n",
            " block3_conv3 (Conv2D)       (None, 8, 8, 256)         590080    \n",
            "                                                                 \n",
            " block3_pool (MaxPooling2D)  (None, 4, 4, 256)         0         \n",
            "                                                                 \n",
            " block4_conv1 (Conv2D)       (None, 4, 4, 512)         1180160   \n",
            "                                                                 \n",
            " block4_conv2 (Conv2D)       (None, 4, 4, 512)         2359808   \n",
            "                                                                 \n",
            " block4_conv3 (Conv2D)       (None, 4, 4, 512)         2359808   \n",
            "                                                                 \n",
            " block4_pool (MaxPooling2D)  (None, 2, 2, 512)         0         \n",
            "                                                                 \n",
            " block5_conv1 (Conv2D)       (None, 2, 2, 512)         2359808   \n",
            "                                                                 \n",
            " block5_conv2 (Conv2D)       (None, 2, 2, 512)         2359808   \n",
            "                                                                 \n",
            " block5_conv3 (Conv2D)       (None, 2, 2, 512)         2359808   \n",
            "                                                                 \n",
            " block5_pool (MaxPooling2D)  (None, 1, 1, 512)         0         \n",
            "                                                                 \n",
            " flatten (Flatten)           (None, 512)               0         \n",
            "                                                                 \n",
            " dense (Dense)               (None, 100)               51300     \n",
            "                                                                 \n",
            " dense_1 (Dense)             (None, 10)                1010      \n",
            "                                                                 \n",
            "=================================================================\n",
            "Total params: 14766998 (56.33 MB)\n",
            "Trainable params: 52310 (204.34 KB)\n",
            "Non-trainable params: 14714688 (56.13 MB)\n",
            "_________________________________________________________________\n"
          ]
        }
      ],
      "source": [
        "model2.summary()"
      ]
    },
    {
      "cell_type": "code",
      "execution_count": null,
      "id": "ccdf4102",
      "metadata": {
        "colab": {
          "base_uri": "https://localhost:8080/"
        },
        "id": "ccdf4102",
        "outputId": "e59616de-5b75-4cd6-aedd-9f077cda25b3"
      },
      "outputs": [
        {
          "output_type": "execute_result",
          "data": {
            "text/plain": [
              "<KerasTensor: shape=(None, 10) dtype=float32 (created by layer 'dense_1')>"
            ]
          },
          "metadata": {},
          "execution_count": 23
        }
      ],
      "source": [
        "model2.output"
      ]
    },
    {
      "cell_type": "code",
      "execution_count": null,
      "id": "06480d55",
      "metadata": {
        "id": "06480d55"
      },
      "outputs": [],
      "source": [
        "# callbacks: early stopping\n",
        "stopper = tf.keras.callbacks.EarlyStopping(\n",
        "    monitor=\"val_loss\", patience=10, verbose=2\n",
        ")"
      ]
    },
    {
      "cell_type": "code",
      "execution_count": null,
      "id": "e37da1a2",
      "metadata": {
        "id": "e37da1a2"
      },
      "outputs": [],
      "source": [
        "# compilando o modelo com otimizador SGD e acurácia como métrica.\n",
        "opt = keras.optimizers.SGD()\n",
        "model2.compile(optimizer=opt, loss='categorical_crossentropy', metrics=['accuracy'])"
      ]
    },
    {
      "cell_type": "markdown",
      "id": "c529cec7",
      "metadata": {
        "id": "c529cec7"
      },
      "source": [
        "### Conforme nota da documentação, a aplicação requer um pré processamento antes de passar para o modelo\n",
        "Note: each Keras Application expects a specific kind of input preprocessing. For VGG16, call tf.keras.applications.vgg16.preprocess_input on your inputs before passing them to the model. vgg16.preprocess_input will convert the input images from RGB to BGR, then will zero-center each color channel with respect to the ImageNet dataset, without scaling."
      ]
    },
    {
      "cell_type": "code",
      "execution_count": null,
      "id": "052297db",
      "metadata": {
        "id": "052297db"
      },
      "outputs": [],
      "source": [
        "input_test = tf.keras.applications.vgg16.preprocess_input(x_test)\n",
        "input_train = tf.keras.applications.vgg16.preprocess_input(x_train)"
      ]
    },
    {
      "cell_type": "code",
      "execution_count": null,
      "id": "3ec5f350",
      "metadata": {
        "colab": {
          "base_uri": "https://localhost:8080/"
        },
        "id": "3ec5f350",
        "outputId": "f5d2ecf8-dbcf-43d5-a23f-6efc85d40cf1"
      },
      "outputs": [
        {
          "output_type": "stream",
          "name": "stdout",
          "text": [
            "(60000, 32, 32, 3)\n"
          ]
        }
      ],
      "source": [
        "print(input_train.shape)"
      ]
    },
    {
      "cell_type": "code",
      "execution_count": null,
      "id": "5870bbaf",
      "metadata": {
        "colab": {
          "base_uri": "https://localhost:8080/"
        },
        "id": "5870bbaf",
        "outputId": "15ca5887-02c0-4bd2-f8d5-eaea92073432"
      },
      "outputs": [
        {
          "output_type": "stream",
          "name": "stdout",
          "text": [
            "(10000, 32, 32, 3)\n"
          ]
        }
      ],
      "source": [
        "print(input_test.shape)"
      ]
    },
    {
      "cell_type": "code",
      "execution_count": null,
      "id": "89ac168a",
      "metadata": {
        "colab": {
          "base_uri": "https://localhost:8080/"
        },
        "id": "89ac168a",
        "outputId": "f32a618f-a024-40ea-a001-f9e416a8d190"
      },
      "outputs": [
        {
          "output_type": "stream",
          "name": "stdout",
          "text": [
            "Epoch 1/500\n",
            "1875/1875 [==============================] - 27s 10ms/step - loss: 0.9956 - accuracy: 0.7093 - val_loss: 0.3813 - val_accuracy: 0.8786\n",
            "Epoch 2/500\n",
            "1875/1875 [==============================] - 18s 10ms/step - loss: 0.4145 - accuracy: 0.8653 - val_loss: 0.3598 - val_accuracy: 0.8766\n",
            "Epoch 3/500\n",
            "1875/1875 [==============================] - 17s 9ms/step - loss: 0.3384 - accuracy: 0.8901 - val_loss: 0.2642 - val_accuracy: 0.9147\n",
            "Epoch 4/500\n",
            "1875/1875 [==============================] - 18s 9ms/step - loss: 0.3037 - accuracy: 0.9013 - val_loss: 0.2369 - val_accuracy: 0.9221\n",
            "Epoch 5/500\n",
            "1875/1875 [==============================] - 17s 9ms/step - loss: 0.2842 - accuracy: 0.9089 - val_loss: 0.2261 - val_accuracy: 0.9262\n",
            "Epoch 6/500\n",
            "1875/1875 [==============================] - 18s 9ms/step - loss: 0.2694 - accuracy: 0.9133 - val_loss: 0.2403 - val_accuracy: 0.9228\n",
            "Epoch 7/500\n",
            "1875/1875 [==============================] - 18s 9ms/step - loss: 0.2623 - accuracy: 0.9155 - val_loss: 0.2457 - val_accuracy: 0.9211\n",
            "Epoch 8/500\n",
            "1875/1875 [==============================] - 18s 9ms/step - loss: 0.2496 - accuracy: 0.9192 - val_loss: 0.2064 - val_accuracy: 0.9370\n",
            "Epoch 9/500\n",
            "1875/1875 [==============================] - 17s 9ms/step - loss: 0.2420 - accuracy: 0.9224 - val_loss: 0.2118 - val_accuracy: 0.9334\n",
            "Epoch 10/500\n",
            "1875/1875 [==============================] - 18s 9ms/step - loss: 0.2400 - accuracy: 0.9230 - val_loss: 0.2363 - val_accuracy: 0.9235\n",
            "Epoch 11/500\n",
            "1875/1875 [==============================] - 18s 9ms/step - loss: 0.2333 - accuracy: 0.9254 - val_loss: 0.2256 - val_accuracy: 0.9262\n",
            "Epoch 12/500\n",
            "1875/1875 [==============================] - 18s 9ms/step - loss: 0.2288 - accuracy: 0.9272 - val_loss: 0.2102 - val_accuracy: 0.9380\n",
            "Epoch 13/500\n",
            "1875/1875 [==============================] - 18s 10ms/step - loss: 0.2277 - accuracy: 0.9271 - val_loss: 0.2027 - val_accuracy: 0.9366\n",
            "Epoch 14/500\n",
            "1875/1875 [==============================] - 18s 9ms/step - loss: 0.2207 - accuracy: 0.9294 - val_loss: 0.2324 - val_accuracy: 0.9259\n",
            "Epoch 15/500\n",
            "1875/1875 [==============================] - 18s 9ms/step - loss: 0.2177 - accuracy: 0.9298 - val_loss: 0.2016 - val_accuracy: 0.9366\n",
            "Epoch 16/500\n",
            "1875/1875 [==============================] - 18s 9ms/step - loss: 0.2135 - accuracy: 0.9315 - val_loss: 0.2259 - val_accuracy: 0.9285\n",
            "Epoch 17/500\n",
            "1875/1875 [==============================] - 18s 9ms/step - loss: 0.2119 - accuracy: 0.9329 - val_loss: 0.2196 - val_accuracy: 0.9309\n",
            "Epoch 18/500\n",
            "1875/1875 [==============================] - 18s 9ms/step - loss: 0.2110 - accuracy: 0.9321 - val_loss: 0.2945 - val_accuracy: 0.9078\n",
            "Epoch 19/500\n",
            "1875/1875 [==============================] - 18s 9ms/step - loss: 0.2065 - accuracy: 0.9340 - val_loss: 0.2313 - val_accuracy: 0.9277\n",
            "Epoch 20/500\n",
            "1875/1875 [==============================] - 18s 10ms/step - loss: 0.2063 - accuracy: 0.9337 - val_loss: 0.2001 - val_accuracy: 0.9392\n",
            "Epoch 21/500\n",
            "1875/1875 [==============================] - 18s 9ms/step - loss: 0.2023 - accuracy: 0.9366 - val_loss: 0.2769 - val_accuracy: 0.9102\n",
            "Epoch 22/500\n",
            "1875/1875 [==============================] - 18s 9ms/step - loss: 0.1987 - accuracy: 0.9367 - val_loss: 0.1939 - val_accuracy: 0.9401\n",
            "Epoch 23/500\n",
            "1875/1875 [==============================] - 18s 9ms/step - loss: 0.1986 - accuracy: 0.9366 - val_loss: 0.1890 - val_accuracy: 0.9416\n",
            "Epoch 24/500\n",
            "1875/1875 [==============================] - 18s 9ms/step - loss: 0.1966 - accuracy: 0.9376 - val_loss: 0.2162 - val_accuracy: 0.9329\n",
            "Epoch 25/500\n",
            "1875/1875 [==============================] - 18s 10ms/step - loss: 0.1934 - accuracy: 0.9383 - val_loss: 0.2160 - val_accuracy: 0.9309\n",
            "Epoch 26/500\n",
            "1875/1875 [==============================] - 18s 9ms/step - loss: 0.1943 - accuracy: 0.9379 - val_loss: 0.1873 - val_accuracy: 0.9427\n",
            "Epoch 27/500\n",
            "1875/1875 [==============================] - 18s 9ms/step - loss: 0.1918 - accuracy: 0.9399 - val_loss: 0.2362 - val_accuracy: 0.9249\n",
            "Epoch 28/500\n",
            "1875/1875 [==============================] - 18s 9ms/step - loss: 0.1917 - accuracy: 0.9378 - val_loss: 0.2340 - val_accuracy: 0.9278\n",
            "Epoch 29/500\n",
            "1875/1875 [==============================] - 18s 9ms/step - loss: 0.1886 - accuracy: 0.9394 - val_loss: 0.2361 - val_accuracy: 0.9280\n",
            "Epoch 30/500\n",
            "1875/1875 [==============================] - 18s 9ms/step - loss: 0.1850 - accuracy: 0.9413 - val_loss: 0.1907 - val_accuracy: 0.9407\n",
            "Epoch 31/500\n",
            "1875/1875 [==============================] - 18s 9ms/step - loss: 0.1844 - accuracy: 0.9415 - val_loss: 0.2374 - val_accuracy: 0.9279\n",
            "Epoch 32/500\n",
            "1875/1875 [==============================] - 17s 9ms/step - loss: 0.1824 - accuracy: 0.9417 - val_loss: 0.2037 - val_accuracy: 0.9373\n",
            "Epoch 33/500\n",
            "1875/1875 [==============================] - 18s 9ms/step - loss: 0.1849 - accuracy: 0.9401 - val_loss: 0.1766 - val_accuracy: 0.9446\n",
            "Epoch 34/500\n",
            "1875/1875 [==============================] - 17s 9ms/step - loss: 0.1829 - accuracy: 0.9423 - val_loss: 0.1895 - val_accuracy: 0.9405\n",
            "Epoch 35/500\n",
            "1875/1875 [==============================] - 18s 9ms/step - loss: 0.1785 - accuracy: 0.9428 - val_loss: 0.1748 - val_accuracy: 0.9460\n",
            "Epoch 36/500\n",
            "1875/1875 [==============================] - 18s 9ms/step - loss: 0.1780 - accuracy: 0.9432 - val_loss: 0.1833 - val_accuracy: 0.9418\n",
            "Epoch 37/500\n",
            "1875/1875 [==============================] - 18s 9ms/step - loss: 0.1769 - accuracy: 0.9433 - val_loss: 0.1966 - val_accuracy: 0.9378\n",
            "Epoch 38/500\n",
            "1875/1875 [==============================] - 20s 11ms/step - loss: 0.1758 - accuracy: 0.9441 - val_loss: 0.2258 - val_accuracy: 0.9341\n",
            "Epoch 39/500\n",
            "1875/1875 [==============================] - 19s 10ms/step - loss: 0.1761 - accuracy: 0.9443 - val_loss: 0.1917 - val_accuracy: 0.9391\n",
            "Epoch 40/500\n",
            "1875/1875 [==============================] - 19s 10ms/step - loss: 0.1756 - accuracy: 0.9442 - val_loss: 0.1966 - val_accuracy: 0.9403\n",
            "Epoch 41/500\n",
            "1875/1875 [==============================] - 18s 10ms/step - loss: 0.1741 - accuracy: 0.9448 - val_loss: 0.2133 - val_accuracy: 0.9333\n",
            "Epoch 42/500\n",
            "1875/1875 [==============================] - 18s 9ms/step - loss: 0.1726 - accuracy: 0.9450 - val_loss: 0.2069 - val_accuracy: 0.9372\n",
            "Epoch 43/500\n",
            "1875/1875 [==============================] - 17s 9ms/step - loss: 0.1721 - accuracy: 0.9456 - val_loss: 0.1883 - val_accuracy: 0.9415\n",
            "Epoch 44/500\n",
            "1875/1875 [==============================] - 18s 10ms/step - loss: 0.1694 - accuracy: 0.9456 - val_loss: 0.2120 - val_accuracy: 0.9374\n",
            "Epoch 45/500\n",
            "1875/1875 [==============================] - 19s 10ms/step - loss: 0.1699 - accuracy: 0.9462 - val_loss: 0.1973 - val_accuracy: 0.9394\n",
            "Epoch 45: early stopping\n"
          ]
        },
        {
          "output_type": "execute_result",
          "data": {
            "text/plain": [
              "<keras.src.callbacks.History at 0x7d00e0808730>"
            ]
          },
          "metadata": {},
          "execution_count": 30
        }
      ],
      "source": [
        "model2.fit(input_train,\n",
        "           y_train,\n",
        "           epochs=500,\n",
        "           batch_size=32,\n",
        "           validation_data=(input_test, y_test),\n",
        "           callbacks=[stopper])"
      ]
    },
    {
      "cell_type": "markdown",
      "source": [
        " Como utilizamos o EarlyStopping em nosso callback, mesmo tento fitado o modelo com 500 epochs, só precisamos de 44 para atingir um resultado satisfatório. Onde a curva do erro se estabiliza"
      ],
      "metadata": {
        "id": "Q3CIreNbHBnb"
      },
      "id": "Q3CIreNbHBnb"
    },
    {
      "cell_type": "markdown",
      "source": [
        "Vamos salvar o modelo"
      ],
      "metadata": {
        "id": "O5X6lqioHbS8"
      },
      "id": "O5X6lqioHbS8"
    },
    {
      "cell_type": "code",
      "execution_count": null,
      "id": "473e26ec",
      "metadata": {
        "id": "473e26ec"
      },
      "outputs": [],
      "source": [
        "model2.save('vgg16_modificada.keras') #.h5 está obsoleto"
      ]
    },
    {
      "cell_type": "code",
      "execution_count": null,
      "id": "52befeac",
      "metadata": {
        "colab": {
          "base_uri": "https://localhost:8080/",
          "height": 482
        },
        "id": "52befeac",
        "outputId": "7bcb2696-9145-4f8a-b363-beac49e74ae6"
      },
      "outputs": [
        {
          "output_type": "stream",
          "name": "stdout",
          "text": [
            "1/1 [==============================] - 0s 33ms/step\n"
          ]
        },
        {
          "output_type": "stream",
          "name": "stderr",
          "text": [
            "WARNING:matplotlib.image:Clipping input data to the valid range for imshow with RGB data ([0..1] for floats or [0..255] for integers).\n"
          ]
        },
        {
          "output_type": "stream",
          "name": "stdout",
          "text": [
            "5974 [0. 0. 1. 0. 0. 0. 0. 0. 0. 0.]\n"
          ]
        },
        {
          "output_type": "display_data",
          "data": {
            "text/plain": [
              "<Figure size 640x480 with 1 Axes>"
            ],
            "image/png": "[encoded data removed]"
          },
          "metadata": {}
        }
      ],
      "source": [
        "i = np.random.randint(0, len(x_test))\n",
        "pred = model2.predict(\n",
        "    tf.expand_dims(\n",
        "        tf.keras.applications.vgg16.preprocess_input(x_test[i]), 0\n",
        "        )\n",
        "    )\n",
        "\n",
        "plt.imshow(x_test[i])\n",
        "print(i, y_test[i])"
      ]
    },
    {
      "cell_type": "markdown",
      "source": [
        "Como podemos observar, a predição está correta."
      ],
      "metadata": {
        "id": "5L9wRsMbINf5"
      },
      "id": "5L9wRsMbINf5"
    },
    {
      "cell_type": "code",
      "execution_count": null,
      "id": "f5afeefe",
      "metadata": {
        "id": "f5afeefe"
      },
      "outputs": [],
      "source": []
    },
    {
      "cell_type": "code",
      "execution_count": null,
      "id": "4a773dd9",
      "metadata": {
        "id": "4a773dd9"
      },
      "outputs": [],
      "source": []
    }
  ],
  "metadata": {
    "kernelspec": {
      "display_name": "Python 3",
      "name": "python3"
    },
    "language_info": {
      "codemirror_mode": {
        "name": "ipython",
        "version": 3
      },
      "file_extension": ".py",
      "mimetype": "text/x-python",
      "name": "python",
      "nbconvert_exporter": "python",
      "pygments_lexer": "ipython3",
      "version": "3.9.13"
    },
    "colab": {
      "provenance": [],
      "gpuType": "T4",
      "include_colab_link": true
    },
    "accelerator": "GPU"
  },
  "nbformat": 4,
  "nbformat_minor": 5
}