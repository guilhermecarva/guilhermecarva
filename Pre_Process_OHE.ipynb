{
  "cells": [
    {
      "cell_type": "markdown",
      "metadata": {
        "id": "view-in-github",
        "colab_type": "text"
      },
      "source": [
        "<a href=\"https://colab.research.google.com/github/guilhermecarva/guilhermecarva/blob/main/Pre_Process_OHE.ipynb\" target=\"_parent\"><img src=\"https://colab.research.google.com/assets/colab-badge.svg\" alt=\"Open In Colab\"/></a>"
      ]
    },
    {
      "cell_type": "code",
      "execution_count": null,
      "metadata": {
        "id": "wJ9M7AU-ugJY"
      },
      "outputs": [],
      "source": [
        "import pandas as pd\n",
        "import numpy as np"
      ]
    },
    {
      "cell_type": "markdown",
      "metadata": {
        "id": "PZFvDZcGugJb"
      },
      "source": [
        "# Exercícios:\n",
        "\n",
        "<br>\n",
        "\n",
        "1 - Importe o arquivo \"dataframe_exercicio_modulo_7.csv\" em um dataframe - df - do Pandas.\n",
        "\n",
        "<br>\n",
        "\n",
        "2 - Quais as dimensões do dataframe?\n",
        "\n",
        "<br>\n",
        "\n",
        "3 - Qual o tipo das variáveis?\n",
        "\n",
        "<br>\n",
        "\n",
        "4 - Existem variáveis faltantes no dataset? Quais?\n",
        "\n",
        "<br>\n",
        "\n",
        "\n",
        "5 - Exiba todas as categorias das variáveis 'estado_civil', 'cor' e 'sexo'. Você consegue detectar algum problema?\n",
        "\n",
        "<br>\n",
        "\n",
        "6 - Faça um tratamento nas variáveis faltantes.\n",
        "\n",
        "<br>\n",
        "\n",
        "7 - Aplique uma transformação \"MinMax\" na variável  'tempo_educacao'e uma transformação \"StandardScaler\" na variável 'horas_por_semana'.\n",
        "\n",
        "<br>\n",
        "\n",
        "8 - Aplique ohe-hot-encoding nas variáveis 'estado_civil', 'cor' e 'sexo'.\n",
        "\n",
        "<br>\n",
        "\n",
        "9 - Detecte e elimine os outliers da variável 'idade'.\n",
        "\n",
        "<br>\n",
        "\n",
        "\n",
        "10 - Escreva uma função que receba o dataframe em sua forma original e retorne o dataframe modificado, após todas as transformações dos itens acima."
      ]
    },
    {
      "cell_type": "code",
      "execution_count": null,
      "metadata": {
        "id": "0mlSNsAWugJd",
        "outputId": "31ba2c05-45cb-4f2a-9b1f-623df40019d2"
      },
      "outputs": [
        {
          "data": {
            "text/html": [
              "<div>\n",
              "<style scoped>\n",
              "    .dataframe tbody tr th:only-of-type {\n",
              "        vertical-align: middle;\n",
              "    }\n",
              "\n",
              "    .dataframe tbody tr th {\n",
              "        vertical-align: top;\n",
              "    }\n",
              "\n",
              "    .dataframe thead th {\n",
              "        text-align: right;\n",
              "    }\n",
              "</style>\n",
              "<table border=\"1\" class=\"dataframe\">\n",
              "  <thead>\n",
              "    <tr style=\"text-align: right;\">\n",
              "      <th></th>\n",
              "      <th>idade</th>\n",
              "      <th>tempo_educacao</th>\n",
              "      <th>estado_civil</th>\n",
              "      <th>cor</th>\n",
              "      <th>sexo</th>\n",
              "      <th>horas_por_semana</th>\n",
              "      <th>salario_anual</th>\n",
              "      <th>nome</th>\n",
              "      <th>dívida</th>\n",
              "    </tr>\n",
              "  </thead>\n",
              "  <tbody>\n",
              "    <tr>\n",
              "      <th>0</th>\n",
              "      <td>39.0</td>\n",
              "      <td>13</td>\n",
              "      <td>Never-married</td>\n",
              "      <td>White</td>\n",
              "      <td>Male</td>\n",
              "      <td>40</td>\n",
              "      <td>&lt;=50K</td>\n",
              "      <td>NaN</td>\n",
              "      <td>NaN</td>\n",
              "    </tr>\n",
              "    <tr>\n",
              "      <th>1</th>\n",
              "      <td>50.0</td>\n",
              "      <td>13</td>\n",
              "      <td>Married-civ-spouse</td>\n",
              "      <td>White</td>\n",
              "      <td>Male</td>\n",
              "      <td>13</td>\n",
              "      <td>&lt;=50K</td>\n",
              "      <td>NaN</td>\n",
              "      <td>NaN</td>\n",
              "    </tr>\n",
              "    <tr>\n",
              "      <th>2</th>\n",
              "      <td>38.0</td>\n",
              "      <td>9</td>\n",
              "      <td>Divorced</td>\n",
              "      <td>White</td>\n",
              "      <td>Male</td>\n",
              "      <td>40</td>\n",
              "      <td>&lt;=50K</td>\n",
              "      <td>NaN</td>\n",
              "      <td>NaN</td>\n",
              "    </tr>\n",
              "    <tr>\n",
              "      <th>3</th>\n",
              "      <td>53.0</td>\n",
              "      <td>7</td>\n",
              "      <td>Married-civ-spouse</td>\n",
              "      <td>Black</td>\n",
              "      <td>Male</td>\n",
              "      <td>40</td>\n",
              "      <td>&lt;=50K</td>\n",
              "      <td>NaN</td>\n",
              "      <td>NaN</td>\n",
              "    </tr>\n",
              "    <tr>\n",
              "      <th>4</th>\n",
              "      <td>37.0</td>\n",
              "      <td>14</td>\n",
              "      <td>Married-civ-spouse</td>\n",
              "      <td>White</td>\n",
              "      <td>Female</td>\n",
              "      <td>40</td>\n",
              "      <td>&lt;=50K</td>\n",
              "      <td>NaN</td>\n",
              "      <td>NaN</td>\n",
              "    </tr>\n",
              "  </tbody>\n",
              "</table>\n",
              "</div>"
            ],
            "text/plain": [
              "   idade  tempo_educacao        estado_civil    cor    sexo  horas_por_semana  \\\n",
              "0   39.0              13       Never-married  White    Male                40   \n",
              "1   50.0              13  Married-civ-spouse  White    Male                13   \n",
              "2   38.0               9            Divorced  White    Male                40   \n",
              "3   53.0               7  Married-civ-spouse  Black    Male                40   \n",
              "4   37.0              14  Married-civ-spouse  White  Female                40   \n",
              "\n",
              "  salario_anual  nome  dívida  \n",
              "0         <=50K   NaN     NaN  \n",
              "1         <=50K   NaN     NaN  \n",
              "2         <=50K   NaN     NaN  \n",
              "3         <=50K   NaN     NaN  \n",
              "4         <=50K   NaN     NaN  "
            ]
          },
          "execution_count": 2,
          "metadata": {},
          "output_type": "execute_result"
        }
      ],
      "source": [
        "#1\n",
        "df = pd.read_csv(\"dataframe_exercicio_modulo_7.csv\")\n",
        "df.head()"
      ]
    },
    {
      "cell_type": "code",
      "execution_count": null,
      "metadata": {
        "id": "Ut0S-eIsugJe",
        "outputId": "507b0fba-9c4d-4317-b9f7-119d24687f80"
      },
      "outputs": [
        {
          "name": "stdout",
          "output_type": "stream",
          "text": [
            "O dataframe contem :  29170  linhas e 9  colunas\n"
          ]
        }
      ],
      "source": [
        "#2\n",
        "print('O dataframe contem : ',df.shape[0],' linhas e',df.shape[1],' colunas')"
      ]
    },
    {
      "cell_type": "code",
      "execution_count": null,
      "metadata": {
        "id": "pSbz9vPBugJe",
        "outputId": "cf47b117-2812-4396-d9f0-2ada1f04f5e5"
      },
      "outputs": [
        {
          "name": "stdout",
          "output_type": "stream",
          "text": [
            "idade               float64\n",
            "tempo_educacao        int64\n",
            "estado_civil         object\n",
            "cor                  object\n",
            "sexo                 object\n",
            "horas_por_semana      int64\n",
            "salario_anual        object\n",
            "nome                float64\n",
            "dívida              float64\n",
            "dtype: object\n"
          ]
        },
        {
          "data": {
            "text/html": [
              "<div>\n",
              "<style scoped>\n",
              "    .dataframe tbody tr th:only-of-type {\n",
              "        vertical-align: middle;\n",
              "    }\n",
              "\n",
              "    .dataframe tbody tr th {\n",
              "        vertical-align: top;\n",
              "    }\n",
              "\n",
              "    .dataframe thead th {\n",
              "        text-align: right;\n",
              "    }\n",
              "</style>\n",
              "<table border=\"1\" class=\"dataframe\">\n",
              "  <thead>\n",
              "    <tr style=\"text-align: right;\">\n",
              "      <th></th>\n",
              "      <th>idade</th>\n",
              "      <th>tempo_educacao</th>\n",
              "      <th>horas_por_semana</th>\n",
              "      <th>nome</th>\n",
              "      <th>dívida</th>\n",
              "    </tr>\n",
              "  </thead>\n",
              "  <tbody>\n",
              "    <tr>\n",
              "      <th>count</th>\n",
              "      <td>29071.000000</td>\n",
              "      <td>29170.000000</td>\n",
              "      <td>29170.000000</td>\n",
              "      <td>0.0</td>\n",
              "      <td>0.0</td>\n",
              "    </tr>\n",
              "    <tr>\n",
              "      <th>mean</th>\n",
              "      <td>38.654088</td>\n",
              "      <td>10.169455</td>\n",
              "      <td>40.447755</td>\n",
              "      <td>NaN</td>\n",
              "      <td>NaN</td>\n",
              "    </tr>\n",
              "    <tr>\n",
              "      <th>std</th>\n",
              "      <td>13.720345</td>\n",
              "      <td>2.394966</td>\n",
              "      <td>12.417203</td>\n",
              "      <td>NaN</td>\n",
              "      <td>NaN</td>\n",
              "    </tr>\n",
              "    <tr>\n",
              "      <th>min</th>\n",
              "      <td>17.000000</td>\n",
              "      <td>1.000000</td>\n",
              "      <td>1.000000</td>\n",
              "      <td>NaN</td>\n",
              "      <td>NaN</td>\n",
              "    </tr>\n",
              "    <tr>\n",
              "      <th>25%</th>\n",
              "      <td>28.000000</td>\n",
              "      <td>9.000000</td>\n",
              "      <td>40.000000</td>\n",
              "      <td>NaN</td>\n",
              "      <td>NaN</td>\n",
              "    </tr>\n",
              "    <tr>\n",
              "      <th>50%</th>\n",
              "      <td>37.000000</td>\n",
              "      <td>10.000000</td>\n",
              "      <td>40.000000</td>\n",
              "      <td>NaN</td>\n",
              "      <td>NaN</td>\n",
              "    </tr>\n",
              "    <tr>\n",
              "      <th>75%</th>\n",
              "      <td>48.000000</td>\n",
              "      <td>12.000000</td>\n",
              "      <td>45.000000</td>\n",
              "      <td>NaN</td>\n",
              "      <td>NaN</td>\n",
              "    </tr>\n",
              "    <tr>\n",
              "      <th>max</th>\n",
              "      <td>90.000000</td>\n",
              "      <td>16.000000</td>\n",
              "      <td>99.000000</td>\n",
              "      <td>NaN</td>\n",
              "      <td>NaN</td>\n",
              "    </tr>\n",
              "  </tbody>\n",
              "</table>\n",
              "</div>"
            ],
            "text/plain": [
              "              idade  tempo_educacao  horas_por_semana  nome  dívida\n",
              "count  29071.000000    29170.000000      29170.000000   0.0     0.0\n",
              "mean      38.654088       10.169455         40.447755   NaN     NaN\n",
              "std       13.720345        2.394966         12.417203   NaN     NaN\n",
              "min       17.000000        1.000000          1.000000   NaN     NaN\n",
              "25%       28.000000        9.000000         40.000000   NaN     NaN\n",
              "50%       37.000000       10.000000         40.000000   NaN     NaN\n",
              "75%       48.000000       12.000000         45.000000   NaN     NaN\n",
              "max       90.000000       16.000000         99.000000   NaN     NaN"
            ]
          },
          "execution_count": 4,
          "metadata": {},
          "output_type": "execute_result"
        }
      ],
      "source": [
        "#3\n",
        "print(df.dtypes)\n",
        "df.describe()"
      ]
    },
    {
      "cell_type": "code",
      "execution_count": null,
      "metadata": {
        "id": "92bPBqWjugJf",
        "outputId": "f2b6e860-c0d4-4851-bf5a-4d9f89efd6aa"
      },
      "outputs": [
        {
          "data": {
            "text/plain": [
              "idade                  99\n",
              "tempo_educacao          0\n",
              "estado_civil            0\n",
              "cor                     0\n",
              "sexo                    0\n",
              "horas_por_semana        0\n",
              "salario_anual           0\n",
              "nome                29170\n",
              "dívida              29170\n",
              "dtype: int64"
            ]
          },
          "execution_count": 5,
          "metadata": {},
          "output_type": "execute_result"
        }
      ],
      "source": [
        "#4\n",
        "df.isnull().sum()"
      ]
    },
    {
      "cell_type": "code",
      "execution_count": null,
      "metadata": {
        "id": "tqH1YF-VugJf"
      },
      "outputs": [],
      "source": [
        "# temos dados faltantes nas colunas 'idade','nome' e 'dívida'"
      ]
    },
    {
      "cell_type": "code",
      "execution_count": null,
      "metadata": {
        "id": "feMkvCvsugJg",
        "outputId": "2c9fb2da-62db-410f-f94a-05d12fdfc3e7"
      },
      "outputs": [
        {
          "data": {
            "text/plain": [
              "Married-civ-spouse       13368\n",
              "Never-married             9579\n",
              "Divorced                  4162\n",
              "Widowed                    902\n",
              "Separated                  883\n",
              "Married-spouse-absent      253\n",
              "Married-AF-spouse           23\n",
              "Name: estado_civil, dtype: int64"
            ]
          },
          "execution_count": 7,
          "metadata": {},
          "output_type": "execute_result"
        }
      ],
      "source": [
        "#5\n",
        "df.estado_civil.value_counts()"
      ]
    },
    {
      "cell_type": "code",
      "execution_count": null,
      "metadata": {
        "id": "FwznLML7ugJg",
        "outputId": "abec6147-aad0-45ed-fe77-c65eb2b68d56"
      },
      "outputs": [
        {
          "data": {
            "text/plain": [
              "White                 25621\n",
              "Black                  2832\n",
              "Amer-Indian-Eskimo      296\n",
              "Asian-Pac-Islander      292\n",
              "Other                   129\n",
              "Name: cor, dtype: int64"
            ]
          },
          "execution_count": 8,
          "metadata": {},
          "output_type": "execute_result"
        }
      ],
      "source": [
        "df.cor.value_counts()"
      ]
    },
    {
      "cell_type": "code",
      "execution_count": null,
      "metadata": {
        "id": "93UmwSRHugJg",
        "outputId": "81156f82-ba36-4584-97f1-87150a82515f"
      },
      "outputs": [
        {
          "data": {
            "text/plain": [
              "Male      18181\n",
              "Female     9052\n",
              "?          1937\n",
              "Name: sexo, dtype: int64"
            ]
          },
          "execution_count": 9,
          "metadata": {},
          "output_type": "execute_result"
        }
      ],
      "source": [
        "df.sexo.value_counts()"
      ]
    },
    {
      "cell_type": "code",
      "execution_count": null,
      "metadata": {
        "id": "aMJuv46tugJh"
      },
      "outputs": [],
      "source": [
        "# na variável sexo, temos 1937 registros  com ?. Ou seja, sem a informação do sexo."
      ]
    },
    {
      "cell_type": "code",
      "execution_count": null,
      "metadata": {
        "id": "s6xx43pbugJh"
      },
      "outputs": [],
      "source": [
        "#6\n",
        "media_idade = df.idade.mean()\n",
        "df.idade.fillna(media_idade, inplace=True)"
      ]
    },
    {
      "cell_type": "code",
      "execution_count": null,
      "metadata": {
        "id": "un9bLSVRugJh",
        "outputId": "820fc1b2-fc46-4f7e-a522-fcfff4c7b4ba"
      },
      "outputs": [
        {
          "data": {
            "text/plain": [
              "'Male'"
            ]
          },
          "execution_count": 12,
          "metadata": {},
          "output_type": "execute_result"
        }
      ],
      "source": [
        "moda_variavel_sexo = df.sexo.value_counts().idxmax()\n",
        "moda_variavel_sexo"
      ]
    },
    {
      "cell_type": "code",
      "execution_count": null,
      "metadata": {
        "id": "rlnq78nIugJh",
        "outputId": "4c3dfa32-c1f7-462c-e54a-6d7b7cef7f08"
      },
      "outputs": [
        {
          "name": "stderr",
          "output_type": "stream",
          "text": [
            "C:\\Users\\guilh\\AppData\\Local\\Temp\\ipykernel_6640\\867686803.py:1: FutureWarning: The default value of regex will change from True to False in a future version. In addition, single character regular expressions will *not* be treated as literal strings when regex=True.\n",
            "  df['sexo'] = df['sexo'].str.replace('?',moda_variavel_sexo)\n"
          ]
        }
      ],
      "source": [
        "df['sexo'] = df['sexo'].str.replace('?',moda_variavel_sexo)"
      ]
    },
    {
      "cell_type": "code",
      "execution_count": null,
      "metadata": {
        "id": "2-F4o8SKugJh",
        "outputId": "4f717586-4afa-4a70-aa0b-e9427dcc010e"
      },
      "outputs": [
        {
          "data": {
            "text/plain": [
              "Male      20118\n",
              "Female     9052\n",
              "Name: sexo, dtype: int64"
            ]
          },
          "execution_count": 14,
          "metadata": {},
          "output_type": "execute_result"
        }
      ],
      "source": [
        "df.sexo.value_counts()"
      ]
    },
    {
      "cell_type": "code",
      "execution_count": null,
      "metadata": {
        "id": "n3kOE95KugJi"
      },
      "outputs": [],
      "source": [
        "#como as colunas 'nome' e 'dívida' não possuem nenhum registro a ser considerado, vamos dropar as duas colunas"
      ]
    },
    {
      "cell_type": "code",
      "execution_count": null,
      "metadata": {
        "id": "WxJis0W2ugJi"
      },
      "outputs": [],
      "source": [
        "df.drop(['nome','dívida'], axis=1, inplace=True)"
      ]
    },
    {
      "cell_type": "code",
      "execution_count": null,
      "metadata": {
        "id": "LHLeckrGugJi",
        "outputId": "5c7cff91-abeb-41d5-9913-499c31c4c01a"
      },
      "outputs": [
        {
          "data": {
            "text/plain": [
              "idade               0\n",
              "tempo_educacao      0\n",
              "estado_civil        0\n",
              "cor                 0\n",
              "sexo                0\n",
              "horas_por_semana    0\n",
              "salario_anual       0\n",
              "dtype: int64"
            ]
          },
          "execution_count": 17,
          "metadata": {},
          "output_type": "execute_result"
        }
      ],
      "source": [
        "df.isnull().sum()"
      ]
    },
    {
      "cell_type": "code",
      "execution_count": null,
      "metadata": {
        "id": "bdlvrbBuugJi"
      },
      "outputs": [],
      "source": [
        "#7 Aplique uma transformação \"MinMax\" na variável 'tempo_educacao'e uma transformação \"StandardScaler\" na variável 'horas_por_semana'.\n",
        "\n",
        "from sklearn.preprocessing import MinMaxScaler, StandardScaler"
      ]
    },
    {
      "cell_type": "code",
      "execution_count": null,
      "metadata": {
        "id": "_Z9vSS_VugJi"
      },
      "outputs": [],
      "source": [
        "mm_scaler = MinMaxScaler()\n",
        "ss_scaler = StandardScaler()"
      ]
    },
    {
      "cell_type": "code",
      "execution_count": null,
      "metadata": {
        "id": "4KMXspEMugJi",
        "outputId": "561cfb42-e473-426a-9024-9a488f82a197"
      },
      "outputs": [
        {
          "data": {
            "text/plain": [
              "StandardScaler()"
            ]
          },
          "execution_count": 20,
          "metadata": {},
          "output_type": "execute_result"
        }
      ],
      "source": [
        "X = df.tempo_educacao.values.reshape(-1,1)\n",
        "W = df.horas_por_semana.values.reshape(-1,1)\n",
        "mm_scaler.fit(X)\n",
        "ss_scaler.fit(W)"
      ]
    },
    {
      "cell_type": "code",
      "execution_count": null,
      "metadata": {
        "id": "wW3QDAUyugJi",
        "outputId": "56c8fc2a-15ee-4112-d70d-98103fa36ec6"
      },
      "outputs": [
        {
          "data": {
            "text/plain": [
              "array([[0.8       ],\n",
              "       [0.8       ],\n",
              "       [0.53333333],\n",
              "       ...,\n",
              "       [0.53333333],\n",
              "       [0.53333333],\n",
              "       [0.53333333]])"
            ]
          },
          "execution_count": 21,
          "metadata": {},
          "output_type": "execute_result"
        }
      ],
      "source": [
        "mm_scaler.transform(X)"
      ]
    },
    {
      "cell_type": "code",
      "execution_count": null,
      "metadata": {
        "id": "Rn-QIDjSugJi",
        "outputId": "8a823b6e-c3d4-44eb-e658-c1b4116dd9c0"
      },
      "outputs": [
        {
          "data": {
            "text/plain": [
              "array([[-0.03605983],\n",
              "       [-2.21049975],\n",
              "       [-0.03605983],\n",
              "       ...,\n",
              "       [-0.03605983],\n",
              "       [-1.64675606],\n",
              "       [-0.03605983]])"
            ]
          },
          "execution_count": 22,
          "metadata": {},
          "output_type": "execute_result"
        }
      ],
      "source": [
        "ss_scaler.transform(W)"
      ]
    },
    {
      "cell_type": "code",
      "execution_count": null,
      "metadata": {
        "id": "7qJmzmnqugJj"
      },
      "outputs": [],
      "source": [
        "#8 Aplique ohe-hot-encoding nas variáveis 'estado_civil', 'cor' e 'sexo'.\n",
        "from sklearn.preprocessing import OneHotEncoder\n",
        "ohe1 = OneHotEncoder()\n",
        "ohe2 = OneHotEncoder()\n",
        "ohe3 = OneHotEncoder()"
      ]
    },
    {
      "cell_type": "code",
      "execution_count": null,
      "metadata": {
        "id": "ocjFEx9lugJj",
        "outputId": "59c40e87-45db-43f8-fa84-c3aa385345f7"
      },
      "outputs": [
        {
          "data": {
            "text/plain": [
              "OneHotEncoder()"
            ]
          },
          "execution_count": 24,
          "metadata": {},
          "output_type": "execute_result"
        }
      ],
      "source": [
        "estado_civil_ohe = df.estado_civil.values.reshape(-1,1)\n",
        "ohe1.fit(estado_civil_ohe)"
      ]
    },
    {
      "cell_type": "code",
      "execution_count": null,
      "metadata": {
        "id": "Mee6fmQFugJj",
        "outputId": "9e75f7b9-aa44-4976-84a4-1f5dbc56ba3a"
      },
      "outputs": [
        {
          "data": {
            "text/plain": [
              "OneHotEncoder()"
            ]
          },
          "execution_count": 25,
          "metadata": {},
          "output_type": "execute_result"
        }
      ],
      "source": [
        "cor_ohe = df.cor.values.reshape(-1,1)\n",
        "ohe2.fit(cor_ohe)"
      ]
    },
    {
      "cell_type": "code",
      "execution_count": null,
      "metadata": {
        "id": "nveSsaG9ugJj",
        "outputId": "c60d1b81-ab38-4609-ca98-d9e8cc233189"
      },
      "outputs": [
        {
          "data": {
            "text/plain": [
              "OneHotEncoder()"
            ]
          },
          "execution_count": 26,
          "metadata": {},
          "output_type": "execute_result"
        }
      ],
      "source": [
        "sexo_ohe = df.sexo.values.reshape(-1,1)\n",
        "ohe3.fit(sexo_ohe)"
      ]
    },
    {
      "cell_type": "code",
      "execution_count": null,
      "metadata": {
        "id": "PQKrZPl6ugJj",
        "outputId": "310f6037-22f7-46e6-b683-112bdc64fe48"
      },
      "outputs": [
        {
          "data": {
            "text/plain": [
              "array([[0., 0., 0., ..., 1., 0., 0.],\n",
              "       [0., 0., 1., ..., 0., 0., 0.],\n",
              "       [1., 0., 0., ..., 0., 0., 0.],\n",
              "       ...,\n",
              "       [0., 0., 0., ..., 0., 0., 1.],\n",
              "       [0., 0., 0., ..., 1., 0., 0.],\n",
              "       [0., 0., 1., ..., 0., 0., 0.]])"
            ]
          },
          "execution_count": 27,
          "metadata": {},
          "output_type": "execute_result"
        }
      ],
      "source": [
        "ohe1.transform(estado_civil_ohe).toarray()"
      ]
    },
    {
      "cell_type": "code",
      "execution_count": null,
      "metadata": {
        "id": "-V_kV4fVugJj",
        "outputId": "9c060389-68d7-4e8a-98fd-b2acb5c28fba"
      },
      "outputs": [
        {
          "data": {
            "text/plain": [
              "array([[0., 0., 0., 0., 1.],\n",
              "       [0., 0., 0., 0., 1.],\n",
              "       [0., 0., 0., 0., 1.],\n",
              "       ...,\n",
              "       [0., 0., 0., 0., 1.],\n",
              "       [0., 0., 0., 0., 1.],\n",
              "       [0., 0., 0., 0., 1.]])"
            ]
          },
          "execution_count": 28,
          "metadata": {},
          "output_type": "execute_result"
        }
      ],
      "source": [
        "ohe2.transform(cor_ohe).toarray()"
      ]
    },
    {
      "cell_type": "code",
      "execution_count": null,
      "metadata": {
        "id": "nEEJ9AVQugJj",
        "outputId": "5763ad76-71f0-4860-8f2d-7a93281b041e"
      },
      "outputs": [
        {
          "data": {
            "text/plain": [
              "array([[0., 1.],\n",
              "       [0., 1.],\n",
              "       [0., 1.],\n",
              "       ...,\n",
              "       [1., 0.],\n",
              "       [0., 1.],\n",
              "       [1., 0.]])"
            ]
          },
          "execution_count": 29,
          "metadata": {},
          "output_type": "execute_result"
        }
      ],
      "source": [
        "ohe3.transform(sexo_ohe).toarray()"
      ]
    },
    {
      "cell_type": "code",
      "execution_count": null,
      "metadata": {
        "id": "Wjhop3GPugJj",
        "outputId": "6a2f609d-c00a-46ae-b869-e5b6100a591c"
      },
      "outputs": [
        {
          "data": {
            "image/png": "[encoded data removed]",
            "text/plain": [
              "<Figure size 800x600 with 1 Axes>"
            ]
          },
          "metadata": {},
          "output_type": "display_data"
        }
      ],
      "source": [
        "#9 Detecte e elimine os outliers da variável 'idade'.\n",
        "import matplotlib.pyplot as plt\n",
        "plt.figure(figsize=[8,6])\n",
        "plt.title(\"Boxplot - Área\", fontsize = 16, fontweight = 'bold')\n",
        "plt.boxplot(df.idade)\n",
        "plt.show()"
      ]
    },
    {
      "cell_type": "code",
      "execution_count": null,
      "metadata": {
        "id": "I93zaxSfugJk"
      },
      "outputs": [],
      "source": [
        "def detecta_outlier(x, limite = 1.5):\n",
        "    iqr = np.percentile(x, 75) - np.percentile(x, 25)\n",
        "    limite_inf = np.maximum(np.percentile(x, 25) - limite * iqr, np.min(x))\n",
        "    limite_sup = np.minimum(np.percentile(x, 75) + limite * iqr, np.max(x))\n",
        "    return np.where((x < limite_inf) | (x > limite_sup), 1, 0)"
      ]
    },
    {
      "cell_type": "code",
      "execution_count": null,
      "metadata": {
        "id": "Qclt7IaBugJk",
        "outputId": "b37bb522-f903-485d-e10f-6ad920b44c97"
      },
      "outputs": [
        {
          "data": {
            "text/html": [
              "<div>\n",
              "<style scoped>\n",
              "    .dataframe tbody tr th:only-of-type {\n",
              "        vertical-align: middle;\n",
              "    }\n",
              "\n",
              "    .dataframe tbody tr th {\n",
              "        vertical-align: top;\n",
              "    }\n",
              "\n",
              "    .dataframe thead th {\n",
              "        text-align: right;\n",
              "    }\n",
              "</style>\n",
              "<table border=\"1\" class=\"dataframe\">\n",
              "  <thead>\n",
              "    <tr style=\"text-align: right;\">\n",
              "      <th></th>\n",
              "      <th>idade</th>\n",
              "      <th>tempo_educacao</th>\n",
              "      <th>estado_civil</th>\n",
              "      <th>cor</th>\n",
              "      <th>sexo</th>\n",
              "      <th>horas_por_semana</th>\n",
              "      <th>salario_anual</th>\n",
              "      <th>outlier_idade</th>\n",
              "    </tr>\n",
              "  </thead>\n",
              "  <tbody>\n",
              "    <tr>\n",
              "      <th>0</th>\n",
              "      <td>39.0</td>\n",
              "      <td>13</td>\n",
              "      <td>Never-married</td>\n",
              "      <td>White</td>\n",
              "      <td>Male</td>\n",
              "      <td>40</td>\n",
              "      <td>&lt;=50K</td>\n",
              "      <td>0</td>\n",
              "    </tr>\n",
              "    <tr>\n",
              "      <th>1</th>\n",
              "      <td>50.0</td>\n",
              "      <td>13</td>\n",
              "      <td>Married-civ-spouse</td>\n",
              "      <td>White</td>\n",
              "      <td>Male</td>\n",
              "      <td>13</td>\n",
              "      <td>&lt;=50K</td>\n",
              "      <td>0</td>\n",
              "    </tr>\n",
              "    <tr>\n",
              "      <th>2</th>\n",
              "      <td>38.0</td>\n",
              "      <td>9</td>\n",
              "      <td>Divorced</td>\n",
              "      <td>White</td>\n",
              "      <td>Male</td>\n",
              "      <td>40</td>\n",
              "      <td>&lt;=50K</td>\n",
              "      <td>0</td>\n",
              "    </tr>\n",
              "    <tr>\n",
              "      <th>3</th>\n",
              "      <td>53.0</td>\n",
              "      <td>7</td>\n",
              "      <td>Married-civ-spouse</td>\n",
              "      <td>Black</td>\n",
              "      <td>Male</td>\n",
              "      <td>40</td>\n",
              "      <td>&lt;=50K</td>\n",
              "      <td>0</td>\n",
              "    </tr>\n",
              "    <tr>\n",
              "      <th>4</th>\n",
              "      <td>37.0</td>\n",
              "      <td>14</td>\n",
              "      <td>Married-civ-spouse</td>\n",
              "      <td>White</td>\n",
              "      <td>Female</td>\n",
              "      <td>40</td>\n",
              "      <td>&lt;=50K</td>\n",
              "      <td>0</td>\n",
              "    </tr>\n",
              "    <tr>\n",
              "      <th>...</th>\n",
              "      <td>...</td>\n",
              "      <td>...</td>\n",
              "      <td>...</td>\n",
              "      <td>...</td>\n",
              "      <td>...</td>\n",
              "      <td>...</td>\n",
              "      <td>...</td>\n",
              "      <td>...</td>\n",
              "    </tr>\n",
              "    <tr>\n",
              "      <th>29165</th>\n",
              "      <td>27.0</td>\n",
              "      <td>12</td>\n",
              "      <td>Married-civ-spouse</td>\n",
              "      <td>White</td>\n",
              "      <td>Female</td>\n",
              "      <td>38</td>\n",
              "      <td>&lt;=50K</td>\n",
              "      <td>0</td>\n",
              "    </tr>\n",
              "    <tr>\n",
              "      <th>29166</th>\n",
              "      <td>40.0</td>\n",
              "      <td>9</td>\n",
              "      <td>Married-civ-spouse</td>\n",
              "      <td>White</td>\n",
              "      <td>Male</td>\n",
              "      <td>40</td>\n",
              "      <td>&gt;50K</td>\n",
              "      <td>0</td>\n",
              "    </tr>\n",
              "    <tr>\n",
              "      <th>29167</th>\n",
              "      <td>58.0</td>\n",
              "      <td>9</td>\n",
              "      <td>Widowed</td>\n",
              "      <td>White</td>\n",
              "      <td>Female</td>\n",
              "      <td>40</td>\n",
              "      <td>&lt;=50K</td>\n",
              "      <td>0</td>\n",
              "    </tr>\n",
              "    <tr>\n",
              "      <th>29168</th>\n",
              "      <td>22.0</td>\n",
              "      <td>9</td>\n",
              "      <td>Never-married</td>\n",
              "      <td>White</td>\n",
              "      <td>Male</td>\n",
              "      <td>20</td>\n",
              "      <td>&lt;=50K</td>\n",
              "      <td>0</td>\n",
              "    </tr>\n",
              "    <tr>\n",
              "      <th>29169</th>\n",
              "      <td>52.0</td>\n",
              "      <td>9</td>\n",
              "      <td>Married-civ-spouse</td>\n",
              "      <td>White</td>\n",
              "      <td>Female</td>\n",
              "      <td>40</td>\n",
              "      <td>&gt;50K</td>\n",
              "      <td>0</td>\n",
              "    </tr>\n",
              "  </tbody>\n",
              "</table>\n",
              "<p>29170 rows × 8 columns</p>\n",
              "</div>"
            ],
            "text/plain": [
              "       idade  tempo_educacao        estado_civil    cor    sexo  \\\n",
              "0       39.0              13       Never-married  White    Male   \n",
              "1       50.0              13  Married-civ-spouse  White    Male   \n",
              "2       38.0               9            Divorced  White    Male   \n",
              "3       53.0               7  Married-civ-spouse  Black    Male   \n",
              "4       37.0              14  Married-civ-spouse  White  Female   \n",
              "...      ...             ...                 ...    ...     ...   \n",
              "29165   27.0              12  Married-civ-spouse  White  Female   \n",
              "29166   40.0               9  Married-civ-spouse  White    Male   \n",
              "29167   58.0               9             Widowed  White  Female   \n",
              "29168   22.0               9       Never-married  White    Male   \n",
              "29169   52.0               9  Married-civ-spouse  White  Female   \n",
              "\n",
              "       horas_por_semana salario_anual  outlier_idade  \n",
              "0                    40         <=50K              0  \n",
              "1                    13         <=50K              0  \n",
              "2                    40         <=50K              0  \n",
              "3                    40         <=50K              0  \n",
              "4                    40         <=50K              0  \n",
              "...                 ...           ...            ...  \n",
              "29165                38         <=50K              0  \n",
              "29166                40          >50K              0  \n",
              "29167                40         <=50K              0  \n",
              "29168                20         <=50K              0  \n",
              "29169                40          >50K              0  \n",
              "\n",
              "[29170 rows x 8 columns]"
            ]
          },
          "execution_count": 32,
          "metadata": {},
          "output_type": "execute_result"
        }
      ],
      "source": [
        "df['outlier_idade'] = detecta_outlier(df.idade)\n",
        "df"
      ]
    },
    {
      "cell_type": "code",
      "execution_count": null,
      "metadata": {
        "id": "kVseyhzYugJk",
        "outputId": "bfde7b9b-e70b-478b-9d21-b8e91fffc8d7"
      },
      "outputs": [
        {
          "data": {
            "text/html": [
              "<div>\n",
              "<style scoped>\n",
              "    .dataframe tbody tr th:only-of-type {\n",
              "        vertical-align: middle;\n",
              "    }\n",
              "\n",
              "    .dataframe tbody tr th {\n",
              "        vertical-align: top;\n",
              "    }\n",
              "\n",
              "    .dataframe thead th {\n",
              "        text-align: right;\n",
              "    }\n",
              "</style>\n",
              "<table border=\"1\" class=\"dataframe\">\n",
              "  <thead>\n",
              "    <tr style=\"text-align: right;\">\n",
              "      <th></th>\n",
              "      <th>idade</th>\n",
              "      <th>tempo_educacao</th>\n",
              "      <th>estado_civil</th>\n",
              "      <th>cor</th>\n",
              "      <th>sexo</th>\n",
              "      <th>horas_por_semana</th>\n",
              "      <th>salario_anual</th>\n",
              "      <th>outlier_idade</th>\n",
              "    </tr>\n",
              "  </thead>\n",
              "  <tbody>\n",
              "    <tr>\n",
              "      <th>61</th>\n",
              "      <td>79.0</td>\n",
              "      <td>10</td>\n",
              "      <td>Married-civ-spouse</td>\n",
              "      <td>White</td>\n",
              "      <td>Male</td>\n",
              "      <td>20</td>\n",
              "      <td>&lt;=50K</td>\n",
              "      <td>1</td>\n",
              "    </tr>\n",
              "    <tr>\n",
              "      <th>193</th>\n",
              "      <td>90.0</td>\n",
              "      <td>9</td>\n",
              "      <td>Never-married</td>\n",
              "      <td>Black</td>\n",
              "      <td>Male</td>\n",
              "      <td>40</td>\n",
              "      <td>&lt;=50K</td>\n",
              "      <td>1</td>\n",
              "    </tr>\n",
              "    <tr>\n",
              "      <th>380</th>\n",
              "      <td>80.0</td>\n",
              "      <td>9</td>\n",
              "      <td>Widowed</td>\n",
              "      <td>White</td>\n",
              "      <td>Male</td>\n",
              "      <td>24</td>\n",
              "      <td>&lt;=50K</td>\n",
              "      <td>1</td>\n",
              "    </tr>\n",
              "    <tr>\n",
              "      <th>826</th>\n",
              "      <td>81.0</td>\n",
              "      <td>9</td>\n",
              "      <td>Married-civ-spouse</td>\n",
              "      <td>White</td>\n",
              "      <td>Male</td>\n",
              "      <td>30</td>\n",
              "      <td>&lt;=50K</td>\n",
              "      <td>1</td>\n",
              "    </tr>\n",
              "    <tr>\n",
              "      <th>936</th>\n",
              "      <td>90.0</td>\n",
              "      <td>9</td>\n",
              "      <td>Never-married</td>\n",
              "      <td>White</td>\n",
              "      <td>Female</td>\n",
              "      <td>40</td>\n",
              "      <td>&lt;=50K</td>\n",
              "      <td>1</td>\n",
              "    </tr>\n",
              "    <tr>\n",
              "      <th>...</th>\n",
              "      <td>...</td>\n",
              "      <td>...</td>\n",
              "      <td>...</td>\n",
              "      <td>...</td>\n",
              "      <td>...</td>\n",
              "      <td>...</td>\n",
              "      <td>...</td>\n",
              "      <td>...</td>\n",
              "    </tr>\n",
              "    <tr>\n",
              "      <th>28517</th>\n",
              "      <td>80.0</td>\n",
              "      <td>12</td>\n",
              "      <td>Married-civ-spouse</td>\n",
              "      <td>White</td>\n",
              "      <td>Male</td>\n",
              "      <td>4</td>\n",
              "      <td>&lt;=50K</td>\n",
              "      <td>1</td>\n",
              "    </tr>\n",
              "    <tr>\n",
              "      <th>28535</th>\n",
              "      <td>82.0</td>\n",
              "      <td>9</td>\n",
              "      <td>Married-civ-spouse</td>\n",
              "      <td>White</td>\n",
              "      <td>Male</td>\n",
              "      <td>20</td>\n",
              "      <td>&lt;=50K</td>\n",
              "      <td>1</td>\n",
              "    </tr>\n",
              "    <tr>\n",
              "      <th>28920</th>\n",
              "      <td>90.0</td>\n",
              "      <td>9</td>\n",
              "      <td>Widowed</td>\n",
              "      <td>White</td>\n",
              "      <td>Female</td>\n",
              "      <td>25</td>\n",
              "      <td>&lt;=50K</td>\n",
              "      <td>1</td>\n",
              "    </tr>\n",
              "    <tr>\n",
              "      <th>28996</th>\n",
              "      <td>90.0</td>\n",
              "      <td>4</td>\n",
              "      <td>Married-civ-spouse</td>\n",
              "      <td>White</td>\n",
              "      <td>Male</td>\n",
              "      <td>40</td>\n",
              "      <td>&lt;=50K</td>\n",
              "      <td>1</td>\n",
              "    </tr>\n",
              "    <tr>\n",
              "      <th>29109</th>\n",
              "      <td>82.0</td>\n",
              "      <td>9</td>\n",
              "      <td>Never-married</td>\n",
              "      <td>White</td>\n",
              "      <td>Male</td>\n",
              "      <td>3</td>\n",
              "      <td>&lt;=50K</td>\n",
              "      <td>1</td>\n",
              "    </tr>\n",
              "  </tbody>\n",
              "</table>\n",
              "<p>126 rows × 8 columns</p>\n",
              "</div>"
            ],
            "text/plain": [
              "       idade  tempo_educacao        estado_civil    cor    sexo  \\\n",
              "61      79.0              10  Married-civ-spouse  White    Male   \n",
              "193     90.0               9       Never-married  Black    Male   \n",
              "380     80.0               9             Widowed  White    Male   \n",
              "826     81.0               9  Married-civ-spouse  White    Male   \n",
              "936     90.0               9       Never-married  White  Female   \n",
              "...      ...             ...                 ...    ...     ...   \n",
              "28517   80.0              12  Married-civ-spouse  White    Male   \n",
              "28535   82.0               9  Married-civ-spouse  White    Male   \n",
              "28920   90.0               9             Widowed  White  Female   \n",
              "28996   90.0               4  Married-civ-spouse  White    Male   \n",
              "29109   82.0               9       Never-married  White    Male   \n",
              "\n",
              "       horas_por_semana salario_anual  outlier_idade  \n",
              "61                   20         <=50K              1  \n",
              "193                  40         <=50K              1  \n",
              "380                  24         <=50K              1  \n",
              "826                  30         <=50K              1  \n",
              "936                  40         <=50K              1  \n",
              "...                 ...           ...            ...  \n",
              "28517                 4         <=50K              1  \n",
              "28535                20         <=50K              1  \n",
              "28920                25         <=50K              1  \n",
              "28996                40         <=50K              1  \n",
              "29109                 3         <=50K              1  \n",
              "\n",
              "[126 rows x 8 columns]"
            ]
          },
          "execution_count": 33,
          "metadata": {},
          "output_type": "execute_result"
        }
      ],
      "source": [
        "df.loc[(df.outlier_idade==1)]"
      ]
    },
    {
      "cell_type": "code",
      "execution_count": null,
      "metadata": {
        "id": "JVFDaiviugJk",
        "outputId": "8daf3451-bc97-42bd-90f7-204b332db3ba"
      },
      "outputs": [
        {
          "data": {
            "text/plain": [
              "idade                             79.0\n",
              "tempo_educacao                       2\n",
              "estado_civil                  Divorced\n",
              "cor                 Amer-Indian-Eskimo\n",
              "sexo                            Female\n",
              "horas_por_semana                     2\n",
              "salario_anual                    <=50K\n",
              "outlier_idade                        1\n",
              "dtype: object"
            ]
          },
          "execution_count": 34,
          "metadata": {},
          "output_type": "execute_result"
        }
      ],
      "source": [
        "df.loc[(df.outlier_idade==1)].min()"
      ]
    },
    {
      "cell_type": "code",
      "execution_count": null,
      "metadata": {
        "id": "ZxFWxD9-ugJk"
      },
      "outputs": [],
      "source": [
        "list_index = df.loc[(df.outlier_idade==1)].index.tolist()"
      ]
    },
    {
      "cell_type": "code",
      "execution_count": null,
      "metadata": {
        "id": "CzXPvaReugJk",
        "outputId": "52de1791-419b-4d9b-b031-551a4c30a6b1"
      },
      "outputs": [
        {
          "data": {
            "text/plain": [
              "[61,\n",
              " 193,\n",
              " 380,\n",
              " 826,\n",
              " 936,\n",
              " 1047,\n",
              " 1747,\n",
              " 2076,\n",
              " 2474,\n",
              " 2609,\n",
              " 2884,\n",
              " 2995,\n",
              " 3169,\n",
              " 3384,\n",
              " 3554,\n",
              " 3649,\n",
              " 3684,\n",
              " 4216,\n",
              " 4311,\n",
              " 4559,\n",
              " 4709,\n",
              " 4726,\n",
              " 4797,\n",
              " 4828,\n",
              " 5361,\n",
              " 5552,\n",
              " 5569,\n",
              " 5752,\n",
              " 5915,\n",
              " 6029,\n",
              " 6682,\n",
              " 6899,\n",
              " 7029,\n",
              " 7296,\n",
              " 7485,\n",
              " 7533,\n",
              " 7616,\n",
              " 7774,\n",
              " 7882,\n",
              " 8022,\n",
              " 8032,\n",
              " 9046,\n",
              " 9123,\n",
              " 9929,\n",
              " 10057,\n",
              " 10296,\n",
              " 10316,\n",
              " 10496,\n",
              " 10739,\n",
              " 11179,\n",
              " 11613,\n",
              " 11658,\n",
              " 11659,\n",
              " 12617,\n",
              " 13052,\n",
              " 13150,\n",
              " 13194,\n",
              " 13329,\n",
              " 13732,\n",
              " 14009,\n",
              " 14578,\n",
              " 14774,\n",
              " 14996,\n",
              " 15124,\n",
              " 15765,\n",
              " 16137,\n",
              " 16230,\n",
              " 16349,\n",
              " 16481,\n",
              " 16605,\n",
              " 16755,\n",
              " 16854,\n",
              " 17043,\n",
              " 17154,\n",
              " 17161,\n",
              " 17189,\n",
              " 17441,\n",
              " 17445,\n",
              " 17461,\n",
              " 17621,\n",
              " 17671,\n",
              " 17747,\n",
              " 18141,\n",
              " 18291,\n",
              " 18328,\n",
              " 18344,\n",
              " 18345,\n",
              " 18458,\n",
              " 18655,\n",
              " 18706,\n",
              " 19127,\n",
              " 19272,\n",
              " 19553,\n",
              " 19572,\n",
              " 19919,\n",
              " 20147,\n",
              " 20508,\n",
              " 20510,\n",
              " 21021,\n",
              " 21418,\n",
              " 21533,\n",
              " 21547,\n",
              " 21728,\n",
              " 21767,\n",
              " 21875,\n",
              " 22029,\n",
              " 22693,\n",
              " 22770,\n",
              " 23318,\n",
              " 23531,\n",
              " 23963,\n",
              " 24910,\n",
              " 25258,\n",
              " 25510,\n",
              " 25726,\n",
              " 25923,\n",
              " 26620,\n",
              " 27797,\n",
              " 28151,\n",
              " 28390,\n",
              " 28497,\n",
              " 28517,\n",
              " 28535,\n",
              " 28920,\n",
              " 28996,\n",
              " 29109]"
            ]
          },
          "execution_count": 36,
          "metadata": {},
          "output_type": "execute_result"
        }
      ],
      "source": [
        "list_index"
      ]
    },
    {
      "cell_type": "code",
      "execution_count": null,
      "metadata": {
        "id": "V3C0G16tugJk"
      },
      "outputs": [],
      "source": [
        "for v in list_index:\n",
        "    df.drop(v, axis=0, inplace=True)\n"
      ]
    },
    {
      "cell_type": "code",
      "execution_count": null,
      "metadata": {
        "id": "9OuOyZQOugJk",
        "outputId": "3925a599-02a9-4b6a-9196-f221fa3d1208"
      },
      "outputs": [
        {
          "data": {
            "text/html": [
              "<div>\n",
              "<style scoped>\n",
              "    .dataframe tbody tr th:only-of-type {\n",
              "        vertical-align: middle;\n",
              "    }\n",
              "\n",
              "    .dataframe tbody tr th {\n",
              "        vertical-align: top;\n",
              "    }\n",
              "\n",
              "    .dataframe thead th {\n",
              "        text-align: right;\n",
              "    }\n",
              "</style>\n",
              "<table border=\"1\" class=\"dataframe\">\n",
              "  <thead>\n",
              "    <tr style=\"text-align: right;\">\n",
              "      <th></th>\n",
              "      <th>idade</th>\n",
              "      <th>tempo_educacao</th>\n",
              "      <th>estado_civil</th>\n",
              "      <th>cor</th>\n",
              "      <th>sexo</th>\n",
              "      <th>horas_por_semana</th>\n",
              "      <th>salario_anual</th>\n",
              "      <th>outlier_idade</th>\n",
              "    </tr>\n",
              "  </thead>\n",
              "  <tbody>\n",
              "  </tbody>\n",
              "</table>\n",
              "</div>"
            ],
            "text/plain": [
              "Empty DataFrame\n",
              "Columns: [idade, tempo_educacao, estado_civil, cor, sexo, horas_por_semana, salario_anual, outlier_idade]\n",
              "Index: []"
            ]
          },
          "execution_count": 38,
          "metadata": {},
          "output_type": "execute_result"
        }
      ],
      "source": [
        "df.loc[(df.outlier_idade==1)]"
      ]
    },
    {
      "cell_type": "code",
      "execution_count": null,
      "metadata": {
        "id": "axSY9kmDugJp"
      },
      "outputs": [],
      "source": [
        "#10 - Escreva uma função que receba o dataframe em sua forma original e retorne o dataframe modificado,\n",
        "#após todas as transformações dos itens acima."
      ]
    },
    {
      "cell_type": "code",
      "execution_count": null,
      "metadata": {
        "id": "cFE5ZWDzugJp"
      },
      "outputs": [],
      "source": [
        "import warnings\n",
        "warnings.filterwarnings(\"ignore\")"
      ]
    },
    {
      "cell_type": "code",
      "execution_count": null,
      "metadata": {
        "id": "kxTP8QvxugJp"
      },
      "outputs": [],
      "source": [
        "def func (csv, cols_numericas, cols_categoricas):\n",
        "    df = pd.read_csv(csv)\n",
        "    dff = df.copy()\n",
        "    print('O Dataframe contem : ',dff.shape[0],' linhas e',dff.shape[1],' colunas')\n",
        "    print('O Dataframe contem as seguintes variáveis e tipos:\\n',dff.dtypes)\n",
        "    print('Verificando se o Dataframe contem valores nulos:\\n',dff.isnull().sum())\n",
        "\n",
        "    temp = (df.isnull().sum() / df.shape[0]) >= 0.8\n",
        "    variaveis_80percFaltantes = temp.loc[temp == True].index.tolist()\n",
        "    for v in variaveis_80percFaltantes:\n",
        "        dff = dff.drop(v, axis = 1)\n",
        "\n",
        "    cols_numericas = list(set(cols_numericas).intersection(set(dff.columns.tolist())))\n",
        "    cols_categoricas = list(set(cols_categoricas).intersection(set(dff.columns.tolist())))\n",
        "\n",
        "    for v in cols_numericas:\n",
        "        dff[v] = dff[v].fillna(dff[v].mean())\n",
        "\n",
        "    for v in cols_categoricas:\n",
        "        mode_v = dff[v].value_counts().idxmax()\n",
        "        dff[v] = dff[v].fillna(mode_v)\n",
        "\n",
        "    moda_variavel_sexo = dff.sexo.value_counts().idxmax()\n",
        "    dff['sexo'] = dff['sexo'].str.replace('?',moda_variavel_sexo)\n",
        "\n",
        "    mm_scaler = MinMaxScaler()\n",
        "    ss_scaler = StandardScaler()\n",
        "    X = dff.tempo_educacao.values.reshape(-1,1)\n",
        "    W = dff.horas_por_semana.values.reshape(-1,1)\n",
        "    mm_scaler.fit(X)\n",
        "    ss_scaler.fit(W)\n",
        "    mm_scaler.transform(X)\n",
        "    ss_scaler.transform(W)\n",
        "\n",
        "    print('Verificando se o Dataframe contem valores nulos:\\n',dff.isnull().sum())\n",
        "\n",
        "    ohe = OneHotEncoder()\n",
        "    for i in cols_categoricas:\n",
        "        variavel_ohe = dff[i].values.reshape(-1,1)\n",
        "        ohe.fit(variavel_ohe)\n",
        "        dataframe_OHE = pd.DataFrame(ohe.transform(variavel_ohe).toarray(),\n",
        "                             columns = ohe.categories_[0].tolist())\n",
        "        dff = pd.concat([dff, dataframe_OHE], axis = 1)\n",
        "\n",
        "    outlier = dff.idade\n",
        "    iqr = np.percentile(outlier, 75) - np.percentile(outlier, 25)\n",
        "    limite_inf = np.maximum(np.percentile(outlier, 25) - 1.5 * iqr, np.min(outlier))\n",
        "    limite_sup = np.minimum(np.percentile(outlier, 75) + 1.5 * iqr, np.max(outlier))\n",
        "    dff['outlier_idade'] = np.where((outlier < limite_inf) | (outlier > limite_sup), 1, 0)\n",
        "    list_index = df.loc[(dff.outlier_idade==1)].index.tolist()\n",
        "    for v in list_index:\n",
        "        dff.drop(v, axis=0, inplace=True)\n",
        "\n",
        "    return dff\n",
        "\n",
        ""
      ]
    },
    {
      "cell_type": "code",
      "execution_count": null,
      "metadata": {
        "id": "pZQOF38AugJp",
        "outputId": "660a431a-5288-4fce-b407-e22f588155b4"
      },
      "outputs": [
        {
          "name": "stdout",
          "output_type": "stream",
          "text": [
            "O Dataframe contem :  29170  linhas e 9  colunas\n",
            "O Dataframe contem as seguintes variáveis e tipos:\n",
            " idade               float64\n",
            "tempo_educacao        int64\n",
            "estado_civil         object\n",
            "cor                  object\n",
            "sexo                 object\n",
            "horas_por_semana      int64\n",
            "salario_anual        object\n",
            "nome                float64\n",
            "dívida              float64\n",
            "dtype: object\n",
            "Verificando se o Dataframe contem valores nulos:\n",
            " idade                  99\n",
            "tempo_educacao          0\n",
            "estado_civil            0\n",
            "cor                     0\n",
            "sexo                    0\n",
            "horas_por_semana        0\n",
            "salario_anual           0\n",
            "nome                29170\n",
            "dívida              29170\n",
            "dtype: int64\n",
            "Verificando se o Dataframe contem valores nulos:\n",
            " idade               0\n",
            "tempo_educacao      0\n",
            "estado_civil        0\n",
            "cor                 0\n",
            "sexo                0\n",
            "horas_por_semana    0\n",
            "salario_anual       0\n",
            "dtype: int64\n"
          ]
        },
        {
          "data": {
            "text/html": [
              "<div>\n",
              "<style scoped>\n",
              "    .dataframe tbody tr th:only-of-type {\n",
              "        vertical-align: middle;\n",
              "    }\n",
              "\n",
              "    .dataframe tbody tr th {\n",
              "        vertical-align: top;\n",
              "    }\n",
              "\n",
              "    .dataframe thead th {\n",
              "        text-align: right;\n",
              "    }\n",
              "</style>\n",
              "<table border=\"1\" class=\"dataframe\">\n",
              "  <thead>\n",
              "    <tr style=\"text-align: right;\">\n",
              "      <th></th>\n",
              "      <th>idade</th>\n",
              "      <th>tempo_educacao</th>\n",
              "      <th>estado_civil</th>\n",
              "      <th>cor</th>\n",
              "      <th>sexo</th>\n",
              "      <th>horas_por_semana</th>\n",
              "      <th>salario_anual</th>\n",
              "      <th>Divorced</th>\n",
              "      <th>Married-AF-spouse</th>\n",
              "      <th>Married-civ-spouse</th>\n",
              "      <th>...</th>\n",
              "      <th>Separated</th>\n",
              "      <th>Widowed</th>\n",
              "      <th>Female</th>\n",
              "      <th>Male</th>\n",
              "      <th>Amer-Indian-Eskimo</th>\n",
              "      <th>Asian-Pac-Islander</th>\n",
              "      <th>Black</th>\n",
              "      <th>Other</th>\n",
              "      <th>White</th>\n",
              "      <th>outlier_idade</th>\n",
              "    </tr>\n",
              "  </thead>\n",
              "  <tbody>\n",
              "    <tr>\n",
              "      <th>0</th>\n",
              "      <td>39.0</td>\n",
              "      <td>13</td>\n",
              "      <td>Never-married</td>\n",
              "      <td>White</td>\n",
              "      <td>Male</td>\n",
              "      <td>40</td>\n",
              "      <td>&lt;=50K</td>\n",
              "      <td>0.0</td>\n",
              "      <td>0.0</td>\n",
              "      <td>0.0</td>\n",
              "      <td>...</td>\n",
              "      <td>0.0</td>\n",
              "      <td>0.0</td>\n",
              "      <td>0.0</td>\n",
              "      <td>1.0</td>\n",
              "      <td>0.0</td>\n",
              "      <td>0.0</td>\n",
              "      <td>0.0</td>\n",
              "      <td>0.0</td>\n",
              "      <td>1.0</td>\n",
              "      <td>0</td>\n",
              "    </tr>\n",
              "    <tr>\n",
              "      <th>1</th>\n",
              "      <td>50.0</td>\n",
              "      <td>13</td>\n",
              "      <td>Married-civ-spouse</td>\n",
              "      <td>White</td>\n",
              "      <td>Male</td>\n",
              "      <td>13</td>\n",
              "      <td>&lt;=50K</td>\n",
              "      <td>0.0</td>\n",
              "      <td>0.0</td>\n",
              "      <td>1.0</td>\n",
              "      <td>...</td>\n",
              "      <td>0.0</td>\n",
              "      <td>0.0</td>\n",
              "      <td>0.0</td>\n",
              "      <td>1.0</td>\n",
              "      <td>0.0</td>\n",
              "      <td>0.0</td>\n",
              "      <td>0.0</td>\n",
              "      <td>0.0</td>\n",
              "      <td>1.0</td>\n",
              "      <td>0</td>\n",
              "    </tr>\n",
              "    <tr>\n",
              "      <th>2</th>\n",
              "      <td>38.0</td>\n",
              "      <td>9</td>\n",
              "      <td>Divorced</td>\n",
              "      <td>White</td>\n",
              "      <td>Male</td>\n",
              "      <td>40</td>\n",
              "      <td>&lt;=50K</td>\n",
              "      <td>1.0</td>\n",
              "      <td>0.0</td>\n",
              "      <td>0.0</td>\n",
              "      <td>...</td>\n",
              "      <td>0.0</td>\n",
              "      <td>0.0</td>\n",
              "      <td>0.0</td>\n",
              "      <td>1.0</td>\n",
              "      <td>0.0</td>\n",
              "      <td>0.0</td>\n",
              "      <td>0.0</td>\n",
              "      <td>0.0</td>\n",
              "      <td>1.0</td>\n",
              "      <td>0</td>\n",
              "    </tr>\n",
              "    <tr>\n",
              "      <th>3</th>\n",
              "      <td>53.0</td>\n",
              "      <td>7</td>\n",
              "      <td>Married-civ-spouse</td>\n",
              "      <td>Black</td>\n",
              "      <td>Male</td>\n",
              "      <td>40</td>\n",
              "      <td>&lt;=50K</td>\n",
              "      <td>0.0</td>\n",
              "      <td>0.0</td>\n",
              "      <td>1.0</td>\n",
              "      <td>...</td>\n",
              "      <td>0.0</td>\n",
              "      <td>0.0</td>\n",
              "      <td>0.0</td>\n",
              "      <td>1.0</td>\n",
              "      <td>0.0</td>\n",
              "      <td>0.0</td>\n",
              "      <td>1.0</td>\n",
              "      <td>0.0</td>\n",
              "      <td>0.0</td>\n",
              "      <td>0</td>\n",
              "    </tr>\n",
              "    <tr>\n",
              "      <th>4</th>\n",
              "      <td>37.0</td>\n",
              "      <td>14</td>\n",
              "      <td>Married-civ-spouse</td>\n",
              "      <td>White</td>\n",
              "      <td>Female</td>\n",
              "      <td>40</td>\n",
              "      <td>&lt;=50K</td>\n",
              "      <td>0.0</td>\n",
              "      <td>0.0</td>\n",
              "      <td>1.0</td>\n",
              "      <td>...</td>\n",
              "      <td>0.0</td>\n",
              "      <td>0.0</td>\n",
              "      <td>1.0</td>\n",
              "      <td>0.0</td>\n",
              "      <td>0.0</td>\n",
              "      <td>0.0</td>\n",
              "      <td>0.0</td>\n",
              "      <td>0.0</td>\n",
              "      <td>1.0</td>\n",
              "      <td>0</td>\n",
              "    </tr>\n",
              "    <tr>\n",
              "      <th>...</th>\n",
              "      <td>...</td>\n",
              "      <td>...</td>\n",
              "      <td>...</td>\n",
              "      <td>...</td>\n",
              "      <td>...</td>\n",
              "      <td>...</td>\n",
              "      <td>...</td>\n",
              "      <td>...</td>\n",
              "      <td>...</td>\n",
              "      <td>...</td>\n",
              "      <td>...</td>\n",
              "      <td>...</td>\n",
              "      <td>...</td>\n",
              "      <td>...</td>\n",
              "      <td>...</td>\n",
              "      <td>...</td>\n",
              "      <td>...</td>\n",
              "      <td>...</td>\n",
              "      <td>...</td>\n",
              "      <td>...</td>\n",
              "      <td>...</td>\n",
              "    </tr>\n",
              "    <tr>\n",
              "      <th>29165</th>\n",
              "      <td>27.0</td>\n",
              "      <td>12</td>\n",
              "      <td>Married-civ-spouse</td>\n",
              "      <td>White</td>\n",
              "      <td>Female</td>\n",
              "      <td>38</td>\n",
              "      <td>&lt;=50K</td>\n",
              "      <td>0.0</td>\n",
              "      <td>0.0</td>\n",
              "      <td>1.0</td>\n",
              "      <td>...</td>\n",
              "      <td>0.0</td>\n",
              "      <td>0.0</td>\n",
              "      <td>1.0</td>\n",
              "      <td>0.0</td>\n",
              "      <td>0.0</td>\n",
              "      <td>0.0</td>\n",
              "      <td>0.0</td>\n",
              "      <td>0.0</td>\n",
              "      <td>1.0</td>\n",
              "      <td>0</td>\n",
              "    </tr>\n",
              "    <tr>\n",
              "      <th>29166</th>\n",
              "      <td>40.0</td>\n",
              "      <td>9</td>\n",
              "      <td>Married-civ-spouse</td>\n",
              "      <td>White</td>\n",
              "      <td>Male</td>\n",
              "      <td>40</td>\n",
              "      <td>&gt;50K</td>\n",
              "      <td>0.0</td>\n",
              "      <td>0.0</td>\n",
              "      <td>1.0</td>\n",
              "      <td>...</td>\n",
              "      <td>0.0</td>\n",
              "      <td>0.0</td>\n",
              "      <td>0.0</td>\n",
              "      <td>1.0</td>\n",
              "      <td>0.0</td>\n",
              "      <td>0.0</td>\n",
              "      <td>0.0</td>\n",
              "      <td>0.0</td>\n",
              "      <td>1.0</td>\n",
              "      <td>0</td>\n",
              "    </tr>\n",
              "    <tr>\n",
              "      <th>29167</th>\n",
              "      <td>58.0</td>\n",
              "      <td>9</td>\n",
              "      <td>Widowed</td>\n",
              "      <td>White</td>\n",
              "      <td>Female</td>\n",
              "      <td>40</td>\n",
              "      <td>&lt;=50K</td>\n",
              "      <td>0.0</td>\n",
              "      <td>0.0</td>\n",
              "      <td>0.0</td>\n",
              "      <td>...</td>\n",
              "      <td>0.0</td>\n",
              "      <td>1.0</td>\n",
              "      <td>1.0</td>\n",
              "      <td>0.0</td>\n",
              "      <td>0.0</td>\n",
              "      <td>0.0</td>\n",
              "      <td>0.0</td>\n",
              "      <td>0.0</td>\n",
              "      <td>1.0</td>\n",
              "      <td>0</td>\n",
              "    </tr>\n",
              "    <tr>\n",
              "      <th>29168</th>\n",
              "      <td>22.0</td>\n",
              "      <td>9</td>\n",
              "      <td>Never-married</td>\n",
              "      <td>White</td>\n",
              "      <td>Male</td>\n",
              "      <td>20</td>\n",
              "      <td>&lt;=50K</td>\n",
              "      <td>0.0</td>\n",
              "      <td>0.0</td>\n",
              "      <td>0.0</td>\n",
              "      <td>...</td>\n",
              "      <td>0.0</td>\n",
              "      <td>0.0</td>\n",
              "      <td>0.0</td>\n",
              "      <td>1.0</td>\n",
              "      <td>0.0</td>\n",
              "      <td>0.0</td>\n",
              "      <td>0.0</td>\n",
              "      <td>0.0</td>\n",
              "      <td>1.0</td>\n",
              "      <td>0</td>\n",
              "    </tr>\n",
              "    <tr>\n",
              "      <th>29169</th>\n",
              "      <td>52.0</td>\n",
              "      <td>9</td>\n",
              "      <td>Married-civ-spouse</td>\n",
              "      <td>White</td>\n",
              "      <td>Female</td>\n",
              "      <td>40</td>\n",
              "      <td>&gt;50K</td>\n",
              "      <td>0.0</td>\n",
              "      <td>0.0</td>\n",
              "      <td>1.0</td>\n",
              "      <td>...</td>\n",
              "      <td>0.0</td>\n",
              "      <td>0.0</td>\n",
              "      <td>1.0</td>\n",
              "      <td>0.0</td>\n",
              "      <td>0.0</td>\n",
              "      <td>0.0</td>\n",
              "      <td>0.0</td>\n",
              "      <td>0.0</td>\n",
              "      <td>1.0</td>\n",
              "      <td>0</td>\n",
              "    </tr>\n",
              "  </tbody>\n",
              "</table>\n",
              "<p>29044 rows × 22 columns</p>\n",
              "</div>"
            ],
            "text/plain": [
              "       idade  tempo_educacao        estado_civil    cor    sexo  \\\n",
              "0       39.0              13       Never-married  White    Male   \n",
              "1       50.0              13  Married-civ-spouse  White    Male   \n",
              "2       38.0               9            Divorced  White    Male   \n",
              "3       53.0               7  Married-civ-spouse  Black    Male   \n",
              "4       37.0              14  Married-civ-spouse  White  Female   \n",
              "...      ...             ...                 ...    ...     ...   \n",
              "29165   27.0              12  Married-civ-spouse  White  Female   \n",
              "29166   40.0               9  Married-civ-spouse  White    Male   \n",
              "29167   58.0               9             Widowed  White  Female   \n",
              "29168   22.0               9       Never-married  White    Male   \n",
              "29169   52.0               9  Married-civ-spouse  White  Female   \n",
              "\n",
              "       horas_por_semana salario_anual  Divorced  Married-AF-spouse  \\\n",
              "0                    40         <=50K       0.0                0.0   \n",
              "1                    13         <=50K       0.0                0.0   \n",
              "2                    40         <=50K       1.0                0.0   \n",
              "3                    40         <=50K       0.0                0.0   \n",
              "4                    40         <=50K       0.0                0.0   \n",
              "...                 ...           ...       ...                ...   \n",
              "29165                38         <=50K       0.0                0.0   \n",
              "29166                40          >50K       0.0                0.0   \n",
              "29167                40         <=50K       0.0                0.0   \n",
              "29168                20         <=50K       0.0                0.0   \n",
              "29169                40          >50K       0.0                0.0   \n",
              "\n",
              "       Married-civ-spouse  ...  Separated  Widowed  Female  Male  \\\n",
              "0                     0.0  ...        0.0      0.0     0.0   1.0   \n",
              "1                     1.0  ...        0.0      0.0     0.0   1.0   \n",
              "2                     0.0  ...        0.0      0.0     0.0   1.0   \n",
              "3                     1.0  ...        0.0      0.0     0.0   1.0   \n",
              "4                     1.0  ...        0.0      0.0     1.0   0.0   \n",
              "...                   ...  ...        ...      ...     ...   ...   \n",
              "29165                 1.0  ...        0.0      0.0     1.0   0.0   \n",
              "29166                 1.0  ...        0.0      0.0     0.0   1.0   \n",
              "29167                 0.0  ...        0.0      1.0     1.0   0.0   \n",
              "29168                 0.0  ...        0.0      0.0     0.0   1.0   \n",
              "29169                 1.0  ...        0.0      0.0     1.0   0.0   \n",
              "\n",
              "       Amer-Indian-Eskimo  Asian-Pac-Islander  Black  Other  White  \\\n",
              "0                     0.0                 0.0    0.0    0.0    1.0   \n",
              "1                     0.0                 0.0    0.0    0.0    1.0   \n",
              "2                     0.0                 0.0    0.0    0.0    1.0   \n",
              "3                     0.0                 0.0    1.0    0.0    0.0   \n",
              "4                     0.0                 0.0    0.0    0.0    1.0   \n",
              "...                   ...                 ...    ...    ...    ...   \n",
              "29165                 0.0                 0.0    0.0    0.0    1.0   \n",
              "29166                 0.0                 0.0    0.0    0.0    1.0   \n",
              "29167                 0.0                 0.0    0.0    0.0    1.0   \n",
              "29168                 0.0                 0.0    0.0    0.0    1.0   \n",
              "29169                 0.0                 0.0    0.0    0.0    1.0   \n",
              "\n",
              "       outlier_idade  \n",
              "0                  0  \n",
              "1                  0  \n",
              "2                  0  \n",
              "3                  0  \n",
              "4                  0  \n",
              "...              ...  \n",
              "29165              0  \n",
              "29166              0  \n",
              "29167              0  \n",
              "29168              0  \n",
              "29169              0  \n",
              "\n",
              "[29044 rows x 22 columns]"
            ]
          },
          "execution_count": 109,
          "metadata": {},
          "output_type": "execute_result"
        }
      ],
      "source": [
        "func(csv = \"dataframe_exercicio_modulo_7.csv\",\n",
        "     cols_numericas = ['idade', 'tempo_educacao', 'horas_por_semana'],\n",
        "     cols_categoricas = ['estado_civil', 'cor', 'sexo'])"
      ]
    },
    {
      "cell_type": "code",
      "execution_count": null,
      "metadata": {
        "id": "ZbJNoDV4ugJp"
      },
      "outputs": [],
      "source": []
    }
  ],
  "metadata": {
    "kernelspec": {
      "display_name": "Python 3 (ipykernel)",
      "language": "python",
      "name": "python3"
    },
    "language_info": {
      "codemirror_mode": {
        "name": "ipython",
        "version": 3
      },
      "file_extension": ".py",
      "mimetype": "text/x-python",
      "name": "python",
      "nbconvert_exporter": "python",
      "pygments_lexer": "ipython3",
      "version": "3.9.13"
    },
    "colab": {
      "provenance": [],
      "include_colab_link": true
    }
  },
  "nbformat": 4,
  "nbformat_minor": 0
}