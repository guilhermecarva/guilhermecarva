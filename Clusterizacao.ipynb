{
  "cells": [
    {
      "cell_type": "markdown",
      "metadata": {
        "id": "view-in-github",
        "colab_type": "text"
      },
      "source": [
        "<a href=\"https://colab.research.google.com/github/guilhermecarva/guilhermecarva/blob/main/Clusterizacao.ipynb\" target=\"_parent\"><img src=\"https://colab.research.google.com/assets/colab-badge.svg\" alt=\"Open In Colab\"/></a>"
      ]
    },
    {
      "cell_type": "markdown",
      "metadata": {
        "id": "YonQFN9Cqgd0"
      },
      "source": [
        "<br><br>\n",
        "\n",
        "## Exercício clusterização: clusters RFM\n",
        "\n",
        "<br>\n",
        "\n",
        "No exercício a seguir, estudaremos um conceito muito interessante e comum no contexto de dados, os __clusters RFM!__\n",
        "\n",
        "A sigla __RFM__ vem do inglês, significando __recency, frequency and monetary.__ Em português, recência, frequência e valor monetário.\n",
        "\n",
        "Essa clusterização é muito comum quando o __objetivo é segmentar clientes de uma certa base__ em termos de:\n",
        "\n",
        "<br>\n",
        "\n",
        "__Recência__ de compra: há quantos dias foi feita a última compra, relativo a data atual;\n",
        "\n",
        "__Freqûencia__ de compra: considerando uma certa janela de tempo, qual a frequência (ou quantidade) de compra;\n",
        "\n",
        "__Valor monetário__ das compras: qual foi o total gasto, nesta mesma janela de tempo.\n",
        "\n",
        "\n",
        "<br>\n",
        "\n",
        "Use a função getData para carregar os dados disponíveis para este exercício.\n",
        "\n",
        "Esse dataset contém 4 colunas, em que cada linha/istância corresponde a um cliente único de uma certa empresa.\n",
        "\n",
        "As colunas \"rec\", \"freq\" e \"valor\" indicam a recência, frequência e valor monetário do cliente num período de 120 dias.\n",
        "\n",
        "Desta forma, por exemplo, um usuário com:\n",
        "\n",
        "    - recência: 30\n",
        "    \n",
        "    - frequência: 5\n",
        "    \n",
        "    - valor: 10\n",
        "    \n",
        "deve ser interpretado como: um usuário que fez a última compra há 30 dias atrás; que a frequência mensal de compra dele, dentro dos últimos 120 dias foi de 5 vezes; o valor médio gasto, dentro desse período de 120 dias, foi de R$10,00.\n",
        "\n",
        "<br>\n",
        "\n",
        "__Exercício:__\n",
        "\n",
        "Como cientista de dados da empresa, o seu __objetivo__ é __analisar os dados disponíveis__ e procurar pelos __grupos de clientes mais valiosos e menos valiosos__ para a companhia.\n",
        "\n",
        "Justifique bastante suas análises e __interprete os resultados.__\n",
        "\n",
        "Você pode (e deve!) utilizar técnicas de clusterização, como __KMeans__ e __DBSCAN__, bem como criar segmentações a partir de suas __análises exploratórias.__\n",
        "\n",
        "Lembre-se que, neste contexto não supervisionado, não existe resposta certa e a __criatividade__ é fundamental!\n",
        "\n",
        "__Obs.:__ Ao utilizar o KMeans e o DBSCAN, lembre-se de normalizar os dados antes de aplicar os algoritmos."
      ]
    },
    {
      "cell_type": "markdown",
      "metadata": {
        "id": "vXwsqpwwqgd4"
      },
      "source": [
        "__========================================================================================================__"
      ]
    },
    {
      "cell_type": "markdown",
      "metadata": {
        "id": "fKq2YnEzqgd4"
      },
      "source": [
        "__Importando as bibliotécas que utilizaremos neste exercício, bem como o DataSet disponibilizado (RFM)__\n"
      ]
    },
    {
      "cell_type": "code",
      "execution_count": null,
      "metadata": {
        "id": "-9CxoPz5qgd5",
        "outputId": "44ecb2a7-e709-4f4c-a353-5039e64faa83"
      },
      "outputs": [
        {
          "name": "stdout",
          "output_type": "stream",
          "text": [
            "Requirement already satisfied: threadpoolctl in c:\\users\\guilh\\anaconda3\\lib\\site-packages (3.2.0)\n",
            "Note: you may need to restart the kernel to use updated packages.\n"
          ]
        }
      ],
      "source": [
        "pip install -U threadpoolctl"
      ]
    },
    {
      "cell_type": "code",
      "execution_count": null,
      "metadata": {
        "id": "Bi_2OaiPqgd6"
      },
      "outputs": [],
      "source": [
        "import pandas as pd\n",
        "import numpy as np\n",
        "import matplotlib.pyplot as plt\n",
        "from sklearn.cluster import KMeans\n",
        "from sklearn.cluster import DBSCAN\n",
        "\n",
        "def getData():\n",
        "    return pd.read_csv(\"dataframe_exercicio_clusterizacao_RFM.csv\")"
      ]
    },
    {
      "cell_type": "code",
      "execution_count": null,
      "metadata": {
        "id": "YDfqo5Vgqgd6",
        "outputId": "67a73659-459d-49d0-886e-c9d373d5a62d"
      },
      "outputs": [
        {
          "data": {
            "text/html": [
              "<div>\n",
              "<style scoped>\n",
              "    .dataframe tbody tr th:only-of-type {\n",
              "        vertical-align: middle;\n",
              "    }\n",
              "\n",
              "    .dataframe tbody tr th {\n",
              "        vertical-align: top;\n",
              "    }\n",
              "\n",
              "    .dataframe thead th {\n",
              "        text-align: right;\n",
              "    }\n",
              "</style>\n",
              "<table border=\"1\" class=\"dataframe\">\n",
              "  <thead>\n",
              "    <tr style=\"text-align: right;\">\n",
              "      <th></th>\n",
              "      <th>user</th>\n",
              "      <th>rec</th>\n",
              "      <th>freq</th>\n",
              "      <th>valor</th>\n",
              "    </tr>\n",
              "  </thead>\n",
              "  <tbody>\n",
              "    <tr>\n",
              "      <th>0</th>\n",
              "      <td>1</td>\n",
              "      <td>15.0</td>\n",
              "      <td>7.0</td>\n",
              "      <td>196.881015</td>\n",
              "    </tr>\n",
              "    <tr>\n",
              "      <th>1</th>\n",
              "      <td>2</td>\n",
              "      <td>51.0</td>\n",
              "      <td>6.0</td>\n",
              "      <td>162.408892</td>\n",
              "    </tr>\n",
              "    <tr>\n",
              "      <th>2</th>\n",
              "      <td>3</td>\n",
              "      <td>80.0</td>\n",
              "      <td>5.0</td>\n",
              "      <td>180.158644</td>\n",
              "    </tr>\n",
              "    <tr>\n",
              "      <th>3</th>\n",
              "      <td>4</td>\n",
              "      <td>38.0</td>\n",
              "      <td>4.0</td>\n",
              "      <td>156.048130</td>\n",
              "    </tr>\n",
              "    <tr>\n",
              "      <th>4</th>\n",
              "      <td>5</td>\n",
              "      <td>19.0</td>\n",
              "      <td>6.0</td>\n",
              "      <td>164.052067</td>\n",
              "    </tr>\n",
              "    <tr>\n",
              "      <th>...</th>\n",
              "      <td>...</td>\n",
              "      <td>...</td>\n",
              "      <td>...</td>\n",
              "      <td>...</td>\n",
              "    </tr>\n",
              "    <tr>\n",
              "      <th>1007</th>\n",
              "      <td>1008</td>\n",
              "      <td>50.0</td>\n",
              "      <td>6.0</td>\n",
              "      <td>116.867455</td>\n",
              "    </tr>\n",
              "    <tr>\n",
              "      <th>1008</th>\n",
              "      <td>1009</td>\n",
              "      <td>72.0</td>\n",
              "      <td>4.0</td>\n",
              "      <td>94.807854</td>\n",
              "    </tr>\n",
              "    <tr>\n",
              "      <th>1009</th>\n",
              "      <td>1010</td>\n",
              "      <td>50.0</td>\n",
              "      <td>5.0</td>\n",
              "      <td>99.187523</td>\n",
              "    </tr>\n",
              "    <tr>\n",
              "      <th>1010</th>\n",
              "      <td>1011</td>\n",
              "      <td>81.0</td>\n",
              "      <td>2.0</td>\n",
              "      <td>66.581900</td>\n",
              "    </tr>\n",
              "    <tr>\n",
              "      <th>1011</th>\n",
              "      <td>1012</td>\n",
              "      <td>31.0</td>\n",
              "      <td>2.0</td>\n",
              "      <td>129.189160</td>\n",
              "    </tr>\n",
              "  </tbody>\n",
              "</table>\n",
              "<p>1012 rows × 4 columns</p>\n",
              "</div>"
            ],
            "text/plain": [
              "      user   rec  freq       valor\n",
              "0        1  15.0   7.0  196.881015\n",
              "1        2  51.0   6.0  162.408892\n",
              "2        3  80.0   5.0  180.158644\n",
              "3        4  38.0   4.0  156.048130\n",
              "4        5  19.0   6.0  164.052067\n",
              "...    ...   ...   ...         ...\n",
              "1007  1008  50.0   6.0  116.867455\n",
              "1008  1009  72.0   4.0   94.807854\n",
              "1009  1010  50.0   5.0   99.187523\n",
              "1010  1011  81.0   2.0   66.581900\n",
              "1011  1012  31.0   2.0  129.189160\n",
              "\n",
              "[1012 rows x 4 columns]"
            ]
          },
          "execution_count": 3,
          "metadata": {},
          "output_type": "execute_result"
        }
      ],
      "source": [
        "df = getData()\n",
        "df"
      ]
    },
    {
      "cell_type": "markdown",
      "metadata": {
        "id": "az4XA06oqgd7"
      },
      "source": [
        "__Precisaremos normalizas os dados__"
      ]
    },
    {
      "cell_type": "code",
      "execution_count": null,
      "metadata": {
        "id": "qx-gWHX6qgd7"
      },
      "outputs": [],
      "source": [
        "from sklearn.preprocessing import StandardScaler"
      ]
    },
    {
      "cell_type": "code",
      "execution_count": null,
      "metadata": {
        "id": "vGg-nxOoqgd8"
      },
      "outputs": [],
      "source": [
        "sc = StandardScaler()\n",
        "X = sc.fit_transform(df.values[:, 1:])"
      ]
    },
    {
      "cell_type": "code",
      "execution_count": null,
      "metadata": {
        "id": "0dd9IlAuqgd8",
        "outputId": "7267fe1d-bbbf-49c0-c297-c20f60218382"
      },
      "outputs": [
        {
          "data": {
            "text/plain": [
              "array([[-1.13629794,  1.02184116,  0.69876646],\n",
              "       [ 0.22434648,  0.60902549,  0.42288301],\n",
              "       [ 1.32042115,  0.19620982,  0.56493584],\n",
              "       ...,\n",
              "       [ 0.1865508 ,  0.19620982, -0.0830832 ],\n",
              "       [ 1.35821683, -1.04223719, -0.34402889],\n",
              "       [-0.53156708, -1.04223719,  0.15702255]])"
            ]
          },
          "execution_count": 6,
          "metadata": {},
          "output_type": "execute_result"
        }
      ],
      "source": [
        "X"
      ]
    },
    {
      "cell_type": "markdown",
      "metadata": {
        "id": "Oi9MArNqqgd8"
      },
      "source": [
        "### Vamos plotar em gráficos utilizando o scatter para melhor visualização dos dados"
      ]
    },
    {
      "cell_type": "code",
      "execution_count": null,
      "metadata": {
        "scrolled": true,
        "id": "gE4epJX3qgd8",
        "outputId": "b21ad387-d241-457e-b383-c97acaaed1bb"
      },
      "outputs": [
        {
          "name": "stderr",
          "output_type": "stream",
          "text": [
            "C:\\Users\\guilh\\anaconda3\\lib\\site-packages\\matplotlib\\collections.py:981: RuntimeWarning: invalid value encountered in sqrt\n",
            "  scale = np.sqrt(self._sizes) * dpi / 72.0 * self._factor\n"
          ]
        },
        {
          "data": {
            "image/png": "[encoded data removed]",
            "text/plain": [
              "<Figure size 400x400 with 1 Axes>"
            ]
          },
          "metadata": {},
          "output_type": "display_data"
        }
      ],
      "source": [
        "plt.figure(figsize=[4,4]).add_subplot(projection='3d').set_zlabel('valor', fontsize = 8, fontweight = 'bold')\n",
        "plt.scatter(X[:,0], X[:, 1], X[:,2])\n",
        "#plt.scatter(df.rec, df.freq, df.valor, marker='.')\n",
        "plt.xlabel(\"rec\", fontsize = 8, fontweight = 'bold')\n",
        "plt.ylabel(\"feq\", fontsize = 8, fontweight = 'bold')\n",
        "plt.grid()\n",
        "plt.show()"
      ]
    },
    {
      "cell_type": "code",
      "execution_count": null,
      "metadata": {
        "id": "6Q0DRok_qgd9",
        "outputId": "d76d241f-d2a9-430d-fb51-50e200bc37e3"
      },
      "outputs": [
        {
          "data": {
            "image/png": "[encoded data removed]",
            "text/plain": [
              "<Figure size 400x400 with 1 Axes>"
            ]
          },
          "metadata": {},
          "output_type": "display_data"
        }
      ],
      "source": [
        "plt.figure(figsize=[4,4])\n",
        "plt.scatter(X[:, 1], X[:,2])\n",
        "plt.xlabel(\"freq\", fontsize = 8, fontweight = 'bold')\n",
        "plt.ylabel(\"valor\", fontsize = 8, fontweight = 'bold')\n",
        "plt.grid()\n",
        "plt.show()"
      ]
    },
    {
      "cell_type": "code",
      "execution_count": null,
      "metadata": {
        "id": "GtluAtiQqgd9",
        "outputId": "160490fc-ee19-4d31-90cc-e196a1d8170c"
      },
      "outputs": [
        {
          "data": {
            "image/png": "[encoded data removed]",
            "text/plain": [
              "<Figure size 400x400 with 1 Axes>"
            ]
          },
          "metadata": {},
          "output_type": "display_data"
        }
      ],
      "source": [
        "plt.figure(figsize=[4,4])\n",
        "plt.scatter(X[:, 0], X[:,2])\n",
        "plt.xlabel(\"rec\", fontsize = 8, fontweight = 'bold')\n",
        "plt.ylabel(\"valor\", fontsize = 8, fontweight = 'bold')\n",
        "plt.grid()\n",
        "plt.show()"
      ]
    },
    {
      "cell_type": "code",
      "execution_count": null,
      "metadata": {
        "id": "AMCuYeBOqgd9",
        "outputId": "86eda14d-ebbf-4849-f96f-c0cca1e8d3f4"
      },
      "outputs": [
        {
          "data": {
            "image/png": "[encoded data removed]",
            "text/plain": [
              "<Figure size 400x400 with 1 Axes>"
            ]
          },
          "metadata": {},
          "output_type": "display_data"
        }
      ],
      "source": [
        "plt.figure(figsize=[4,4])\n",
        "plt.scatter(X[:, 0], X[:,1])\n",
        "plt.xlabel(\"rec\", fontsize = 8, fontweight = 'bold')\n",
        "plt.ylabel(\"freq\", fontsize = 8, fontweight = 'bold')\n",
        "plt.grid()\n",
        "plt.show()"
      ]
    },
    {
      "cell_type": "code",
      "execution_count": null,
      "metadata": {
        "id": "s7Vx64NNqgd9",
        "outputId": "e4329bc8-5c14-482e-cb1f-bff19b429631"
      },
      "outputs": [
        {
          "data": {
            "text/html": [
              "<div>\n",
              "<style scoped>\n",
              "    .dataframe tbody tr th:only-of-type {\n",
              "        vertical-align: middle;\n",
              "    }\n",
              "\n",
              "    .dataframe tbody tr th {\n",
              "        vertical-align: top;\n",
              "    }\n",
              "\n",
              "    .dataframe thead th {\n",
              "        text-align: right;\n",
              "    }\n",
              "</style>\n",
              "<table border=\"1\" class=\"dataframe\">\n",
              "  <thead>\n",
              "    <tr style=\"text-align: right;\">\n",
              "      <th></th>\n",
              "      <th>rec</th>\n",
              "      <th>freq</th>\n",
              "      <th>valor</th>\n",
              "    </tr>\n",
              "  </thead>\n",
              "  <tbody>\n",
              "    <tr>\n",
              "      <th>rec</th>\n",
              "      <td>1.000000</td>\n",
              "      <td>-0.019119</td>\n",
              "      <td>0.09011</td>\n",
              "    </tr>\n",
              "    <tr>\n",
              "      <th>freq</th>\n",
              "      <td>-0.019119</td>\n",
              "      <td>1.000000</td>\n",
              "      <td>-0.06169</td>\n",
              "    </tr>\n",
              "    <tr>\n",
              "      <th>valor</th>\n",
              "      <td>0.090110</td>\n",
              "      <td>-0.061690</td>\n",
              "      <td>1.00000</td>\n",
              "    </tr>\n",
              "  </tbody>\n",
              "</table>\n",
              "</div>"
            ],
            "text/plain": [
              "            rec      freq    valor\n",
              "rec    1.000000 -0.019119  0.09011\n",
              "freq  -0.019119  1.000000 -0.06169\n",
              "valor  0.090110 -0.061690  1.00000"
            ]
          },
          "execution_count": 11,
          "metadata": {},
          "output_type": "execute_result"
        }
      ],
      "source": [
        "df.iloc[:,1:].corr()"
      ]
    },
    {
      "cell_type": "markdown",
      "metadata": {
        "id": "AZ2Dt47nqgd-"
      },
      "source": [
        "### Podemos concluir pelos gráficos acima que o valor não possui grande dispersão, não me parece fazer sentido clusterizá-lo. Vemos também que a correlação entre as variáveis é muito pequena. Portanto levaremos em consideração apenas a disperção das variáveis e iremos clusterizar apenas as variáveis rec e freq. E após agrupá-los poderemos tentar verificar qual grupo é o mais valioso.\n",
        "### Outra observação que tivemos, é que temos alguns outlier. Vamos eliminá-los antes de continuar.\n",
        "### Como temos poucos outliers e são facilmente identificados visualmente, iremos apenas filtrar por valores."
      ]
    },
    {
      "cell_type": "code",
      "execution_count": null,
      "metadata": {
        "id": "-Yh-yF9vqgd-",
        "outputId": "6f679272-4e00-4761-b91d-cd9cfa4da38b"
      },
      "outputs": [
        {
          "data": {
            "image/png": "[encoded data removed]",
            "text/plain": [
              "<Figure size 640x480 with 1 Axes>"
            ]
          },
          "metadata": {},
          "output_type": "display_data"
        }
      ],
      "source": [
        "plt.boxplot(df.valor)\n",
        "plt.title('valor')\n",
        "plt.show()"
      ]
    },
    {
      "cell_type": "code",
      "execution_count": null,
      "metadata": {
        "id": "n6v_Qnq9qgd-",
        "outputId": "93663eae-85a3-4400-860d-4b3110a292d8"
      },
      "outputs": [
        {
          "data": {
            "text/plain": [
              "(1012, 4)"
            ]
          },
          "execution_count": 13,
          "metadata": {},
          "output_type": "execute_result"
        }
      ],
      "source": [
        "df.shape"
      ]
    },
    {
      "cell_type": "code",
      "execution_count": null,
      "metadata": {
        "id": "zWoN93pRqgd-"
      },
      "outputs": [],
      "source": [
        "df = df[df['valor']<1000]"
      ]
    },
    {
      "cell_type": "code",
      "execution_count": null,
      "metadata": {
        "id": "IsiU1Qruqgd-",
        "outputId": "7f8aff7c-71b3-4267-979c-ca200f7b191b"
      },
      "outputs": [
        {
          "data": {
            "text/plain": [
              "(1010, 4)"
            ]
          },
          "execution_count": 16,
          "metadata": {},
          "output_type": "execute_result"
        }
      ],
      "source": [
        "df.shape"
      ]
    },
    {
      "cell_type": "code",
      "execution_count": null,
      "metadata": {
        "id": "Z7y4XaFQqgd-",
        "outputId": "0b1b47d4-bc3f-410b-bd4e-a24e657d52a1"
      },
      "outputs": [
        {
          "data": {
            "image/png": "[encoded data removed]",
            "text/plain": [
              "<Figure size 640x480 with 1 Axes>"
            ]
          },
          "metadata": {},
          "output_type": "display_data"
        }
      ],
      "source": [
        "plt.boxplot(df.freq)\n",
        "plt.title('valor')\n",
        "plt.show()"
      ]
    },
    {
      "cell_type": "code",
      "execution_count": null,
      "metadata": {
        "id": "wwuynFSqqgd_"
      },
      "outputs": [],
      "source": [
        "df = df[df['freq']<14]"
      ]
    },
    {
      "cell_type": "code",
      "execution_count": null,
      "metadata": {
        "id": "YOPmIbu0qgd_",
        "outputId": "b955ebf6-1d2d-46ab-9099-8809c97591cd"
      },
      "outputs": [
        {
          "data": {
            "text/html": [
              "<div>\n",
              "<style scoped>\n",
              "    .dataframe tbody tr th:only-of-type {\n",
              "        vertical-align: middle;\n",
              "    }\n",
              "\n",
              "    .dataframe tbody tr th {\n",
              "        vertical-align: top;\n",
              "    }\n",
              "\n",
              "    .dataframe thead th {\n",
              "        text-align: right;\n",
              "    }\n",
              "</style>\n",
              "<table border=\"1\" class=\"dataframe\">\n",
              "  <thead>\n",
              "    <tr style=\"text-align: right;\">\n",
              "      <th></th>\n",
              "      <th>rec</th>\n",
              "      <th>freq</th>\n",
              "      <th>valor</th>\n",
              "    </tr>\n",
              "  </thead>\n",
              "  <tbody>\n",
              "    <tr>\n",
              "      <th>rec</th>\n",
              "      <td>1.000000</td>\n",
              "      <td>0.002761</td>\n",
              "      <td>0.009408</td>\n",
              "    </tr>\n",
              "    <tr>\n",
              "      <th>freq</th>\n",
              "      <td>0.002761</td>\n",
              "      <td>1.000000</td>\n",
              "      <td>-0.037259</td>\n",
              "    </tr>\n",
              "    <tr>\n",
              "      <th>valor</th>\n",
              "      <td>0.009408</td>\n",
              "      <td>-0.037259</td>\n",
              "      <td>1.000000</td>\n",
              "    </tr>\n",
              "  </tbody>\n",
              "</table>\n",
              "</div>"
            ],
            "text/plain": [
              "            rec      freq     valor\n",
              "rec    1.000000  0.002761  0.009408\n",
              "freq   0.002761  1.000000 -0.037259\n",
              "valor  0.009408 -0.037259  1.000000"
            ]
          },
          "execution_count": 32,
          "metadata": {},
          "output_type": "execute_result"
        }
      ],
      "source": [
        "df.iloc[:,1:].corr()"
      ]
    },
    {
      "cell_type": "markdown",
      "metadata": {
        "id": "uLvXH-Dqqgd_"
      },
      "source": [
        "__As correlações são extremamente baixas, ou seja, não poderemos inferir que uma variável interfere na outra. Faremos apenas uma análise dos grupos/clusters__"
      ]
    },
    {
      "cell_type": "code",
      "execution_count": null,
      "metadata": {
        "id": "3Vz5c6rzqgd_",
        "outputId": "491e56e5-2524-42cb-fba9-4ea36dafb748"
      },
      "outputs": [
        {
          "data": {
            "text/html": [
              "<div>\n",
              "<style scoped>\n",
              "    .dataframe tbody tr th:only-of-type {\n",
              "        vertical-align: middle;\n",
              "    }\n",
              "\n",
              "    .dataframe tbody tr th {\n",
              "        vertical-align: top;\n",
              "    }\n",
              "\n",
              "    .dataframe thead th {\n",
              "        text-align: right;\n",
              "    }\n",
              "</style>\n",
              "<table border=\"1\" class=\"dataframe\">\n",
              "  <thead>\n",
              "    <tr style=\"text-align: right;\">\n",
              "      <th></th>\n",
              "      <th>rec</th>\n",
              "      <th>freq</th>\n",
              "    </tr>\n",
              "  </thead>\n",
              "  <tbody>\n",
              "    <tr>\n",
              "      <th>0</th>\n",
              "      <td>15.0</td>\n",
              "      <td>7.0</td>\n",
              "    </tr>\n",
              "    <tr>\n",
              "      <th>1</th>\n",
              "      <td>51.0</td>\n",
              "      <td>6.0</td>\n",
              "    </tr>\n",
              "    <tr>\n",
              "      <th>2</th>\n",
              "      <td>80.0</td>\n",
              "      <td>5.0</td>\n",
              "    </tr>\n",
              "    <tr>\n",
              "      <th>3</th>\n",
              "      <td>38.0</td>\n",
              "      <td>4.0</td>\n",
              "    </tr>\n",
              "    <tr>\n",
              "      <th>4</th>\n",
              "      <td>19.0</td>\n",
              "      <td>6.0</td>\n",
              "    </tr>\n",
              "    <tr>\n",
              "      <th>...</th>\n",
              "      <td>...</td>\n",
              "      <td>...</td>\n",
              "    </tr>\n",
              "    <tr>\n",
              "      <th>1007</th>\n",
              "      <td>50.0</td>\n",
              "      <td>6.0</td>\n",
              "    </tr>\n",
              "    <tr>\n",
              "      <th>1008</th>\n",
              "      <td>72.0</td>\n",
              "      <td>4.0</td>\n",
              "    </tr>\n",
              "    <tr>\n",
              "      <th>1009</th>\n",
              "      <td>50.0</td>\n",
              "      <td>5.0</td>\n",
              "    </tr>\n",
              "    <tr>\n",
              "      <th>1010</th>\n",
              "      <td>81.0</td>\n",
              "      <td>2.0</td>\n",
              "    </tr>\n",
              "    <tr>\n",
              "      <th>1011</th>\n",
              "      <td>31.0</td>\n",
              "      <td>2.0</td>\n",
              "    </tr>\n",
              "  </tbody>\n",
              "</table>\n",
              "<p>1008 rows × 2 columns</p>\n",
              "</div>"
            ],
            "text/plain": [
              "       rec  freq\n",
              "0     15.0   7.0\n",
              "1     51.0   6.0\n",
              "2     80.0   5.0\n",
              "3     38.0   4.0\n",
              "4     19.0   6.0\n",
              "...    ...   ...\n",
              "1007  50.0   6.0\n",
              "1008  72.0   4.0\n",
              "1009  50.0   5.0\n",
              "1010  81.0   2.0\n",
              "1011  31.0   2.0\n",
              "\n",
              "[1008 rows x 2 columns]"
            ]
          },
          "execution_count": 19,
          "metadata": {},
          "output_type": "execute_result"
        }
      ],
      "source": [
        "dff = df[['rec', 'freq']].copy()\n",
        "dff"
      ]
    },
    {
      "cell_type": "markdown",
      "metadata": {
        "id": "WZlp1bElqgd_"
      },
      "source": [
        "__Vamos normalizar novamente os dados do dataset sem outliers__"
      ]
    },
    {
      "cell_type": "code",
      "execution_count": null,
      "metadata": {
        "id": "PJcZNO2Wqgd_",
        "outputId": "66da64e1-b433-416d-bc24-b8ccf1bc9195"
      },
      "outputs": [
        {
          "data": {
            "text/plain": [
              "array([[-1.14166116,  1.05485303],\n",
              "       [ 0.22760775,  0.63156806],\n",
              "       [ 1.33062993,  0.20828308],\n",
              "       ...,\n",
              "       [ 0.1895725 ,  0.20828308],\n",
              "       [ 1.36866518, -1.06157184],\n",
              "       [-0.5330972 , -1.06157184]])"
            ]
          },
          "execution_count": 20,
          "metadata": {},
          "output_type": "execute_result"
        }
      ],
      "source": [
        "X = sc.fit_transform(dff)\n",
        "X"
      ]
    },
    {
      "cell_type": "code",
      "execution_count": null,
      "metadata": {
        "id": "BqrbBr4Jqgd_",
        "outputId": "6db7f1cc-e4f2-4f3f-d537-af90e9a1ba41"
      },
      "outputs": [
        {
          "data": {
            "image/png": "[encoded data removed]",
            "text/plain": [
              "<Figure size 400x400 with 1 Axes>"
            ]
          },
          "metadata": {},
          "output_type": "display_data"
        }
      ],
      "source": [
        "plt.figure(figsize=[4,4])\n",
        "plt.scatter(X[:, 0], X[:,1])\n",
        "plt.xlabel(\"rec\", fontsize = 8, fontweight = 'bold')\n",
        "plt.ylabel(\"freq\", fontsize = 8, fontweight = 'bold')\n",
        "plt.grid()\n",
        "plt.show()"
      ]
    },
    {
      "cell_type": "markdown",
      "metadata": {
        "id": "8QrxvuYTqgd_"
      },
      "source": [
        "__Podemos verificar que os outliers foram filtrados__\n",
        "#### Dando continuidade ao exercício, vamos plotar a curva de elbow para termos uma noção da quantidade de clusters que iremos utilizar"
      ]
    },
    {
      "cell_type": "code",
      "execution_count": null,
      "metadata": {
        "id": "eaaFxlYOqgeA",
        "outputId": "944c3e21-e50a-492a-d1c8-facb360ab235"
      },
      "outputs": [
        {
          "name": "stderr",
          "output_type": "stream",
          "text": [
            "C:\\Users\\guilh\\anaconda3\\lib\\site-packages\\sklearn\\cluster\\_kmeans.py:1036: UserWarning: KMeans is known to have a memory leak on Windows with MKL, when there are less chunks than available threads. You can avoid it by setting the environment variable OMP_NUM_THREADS=4.\n",
            "  warnings.warn(\n"
          ]
        },
        {
          "data": {
            "image/png": "[encoded data removed]",
            "text/plain": [
              "<Figure size 1500x600 with 1 Axes>"
            ]
          },
          "metadata": {},
          "output_type": "display_data"
        }
      ],
      "source": [
        "l=[]\n",
        "for k in range(1, 21):\n",
        "    km = KMeans(n_clusters=k)\n",
        "    km.fit(X)\n",
        "    l.append(km.inertia_)\n",
        "\n",
        "plt.figure(figsize=[15,6])\n",
        "plt.title(\"Curva de Elbow\", fontsize = 20, fontweight = 'bold')\n",
        "plt.xlabel(\"Número de clusters\", fontsize = 14, fontweight = 'bold')\n",
        "plt.ylabel(\"WCSS (inertia)\", fontsize = 14, fontweight = 'bold')\n",
        "plt.plot(range(1, 1+len(l)), l, c = 'black', lw = 2)\n",
        "plt.scatter(range(1, 1+len(l)), l, c = 'black', lw = 2)\n",
        "plt.xticks(range(1,1+len(l)))\n",
        "plt.grid()\n",
        "plt.show()"
      ]
    },
    {
      "cell_type": "markdown",
      "metadata": {
        "id": "6Dm5bWqFqgeA"
      },
      "source": [
        "#### Utilizaremos 4 cluster para nossa classificação."
      ]
    },
    {
      "cell_type": "code",
      "execution_count": null,
      "metadata": {
        "id": "IyNlQA83qgeA"
      },
      "outputs": [],
      "source": [
        "km = KMeans(n_clusters=4).fit(X)"
      ]
    },
    {
      "cell_type": "code",
      "execution_count": null,
      "metadata": {
        "id": "YDJcSMgiqgeA",
        "outputId": "239425aa-5b7c-438d-c399-8ff3fc12cdb0"
      },
      "outputs": [
        {
          "data": {
            "text/plain": [
              "array([[-0.83583303,  0.92752341],\n",
              "       [ 0.85460418,  0.80413809],\n",
              "       [-0.89200896, -0.85728373],\n",
              "       [ 0.88250271, -0.88563858]])"
            ]
          },
          "execution_count": 27,
          "metadata": {},
          "output_type": "execute_result"
        }
      ],
      "source": [
        "km.cluster_centers_"
      ]
    },
    {
      "cell_type": "code",
      "execution_count": null,
      "metadata": {
        "id": "mqLlg-64qgeA",
        "outputId": "1e51fb5a-9afd-44ba-8e36-3c5d635e873d"
      },
      "outputs": [
        {
          "data": {
            "text/html": [
              "<div>\n",
              "<style scoped>\n",
              "    .dataframe tbody tr th:only-of-type {\n",
              "        vertical-align: middle;\n",
              "    }\n",
              "\n",
              "    .dataframe tbody tr th {\n",
              "        vertical-align: top;\n",
              "    }\n",
              "\n",
              "    .dataframe thead th {\n",
              "        text-align: right;\n",
              "    }\n",
              "</style>\n",
              "<table border=\"1\" class=\"dataframe\">\n",
              "  <thead>\n",
              "    <tr style=\"text-align: right;\">\n",
              "      <th></th>\n",
              "      <th>rec</th>\n",
              "      <th>freq</th>\n",
              "      <th>grupo</th>\n",
              "    </tr>\n",
              "  </thead>\n",
              "  <tbody>\n",
              "    <tr>\n",
              "      <th>0</th>\n",
              "      <td>15.0</td>\n",
              "      <td>7.0</td>\n",
              "      <td>0</td>\n",
              "    </tr>\n",
              "    <tr>\n",
              "      <th>1</th>\n",
              "      <td>51.0</td>\n",
              "      <td>6.0</td>\n",
              "      <td>1</td>\n",
              "    </tr>\n",
              "    <tr>\n",
              "      <th>2</th>\n",
              "      <td>80.0</td>\n",
              "      <td>5.0</td>\n",
              "      <td>1</td>\n",
              "    </tr>\n",
              "    <tr>\n",
              "      <th>3</th>\n",
              "      <td>38.0</td>\n",
              "      <td>4.0</td>\n",
              "      <td>2</td>\n",
              "    </tr>\n",
              "    <tr>\n",
              "      <th>4</th>\n",
              "      <td>19.0</td>\n",
              "      <td>6.0</td>\n",
              "      <td>0</td>\n",
              "    </tr>\n",
              "    <tr>\n",
              "      <th>...</th>\n",
              "      <td>...</td>\n",
              "      <td>...</td>\n",
              "      <td>...</td>\n",
              "    </tr>\n",
              "    <tr>\n",
              "      <th>1007</th>\n",
              "      <td>50.0</td>\n",
              "      <td>6.0</td>\n",
              "      <td>1</td>\n",
              "    </tr>\n",
              "    <tr>\n",
              "      <th>1008</th>\n",
              "      <td>72.0</td>\n",
              "      <td>4.0</td>\n",
              "      <td>3</td>\n",
              "    </tr>\n",
              "    <tr>\n",
              "      <th>1009</th>\n",
              "      <td>50.0</td>\n",
              "      <td>5.0</td>\n",
              "      <td>1</td>\n",
              "    </tr>\n",
              "    <tr>\n",
              "      <th>1010</th>\n",
              "      <td>81.0</td>\n",
              "      <td>2.0</td>\n",
              "      <td>3</td>\n",
              "    </tr>\n",
              "    <tr>\n",
              "      <th>1011</th>\n",
              "      <td>31.0</td>\n",
              "      <td>2.0</td>\n",
              "      <td>2</td>\n",
              "    </tr>\n",
              "  </tbody>\n",
              "</table>\n",
              "<p>1008 rows × 3 columns</p>\n",
              "</div>"
            ],
            "text/plain": [
              "       rec  freq  grupo\n",
              "0     15.0   7.0      0\n",
              "1     51.0   6.0      1\n",
              "2     80.0   5.0      1\n",
              "3     38.0   4.0      2\n",
              "4     19.0   6.0      0\n",
              "...    ...   ...    ...\n",
              "1007  50.0   6.0      1\n",
              "1008  72.0   4.0      3\n",
              "1009  50.0   5.0      1\n",
              "1010  81.0   2.0      3\n",
              "1011  31.0   2.0      2\n",
              "\n",
              "[1008 rows x 3 columns]"
            ]
          },
          "execution_count": 28,
          "metadata": {},
          "output_type": "execute_result"
        }
      ],
      "source": [
        "dff['grupo'] = km.predict(X)\n",
        "dff"
      ]
    },
    {
      "cell_type": "code",
      "execution_count": null,
      "metadata": {
        "id": "9su16RVMqgeA",
        "outputId": "a6ff7759-19d6-44f1-825c-f4a6bcfcad22"
      },
      "outputs": [
        {
          "data": {
            "image/png": "[encoded data removed]",
            "text/plain": [
              "<Figure size 800x800 with 1 Axes>"
            ]
          },
          "metadata": {},
          "output_type": "display_data"
        }
      ],
      "source": [
        "plt.figure(figsize=[8,8])\n",
        "plt.scatter(X[:,0], X[:, 1], c = dff.grupo, cmap = plt.cm.Paired)\n",
        "plt.xlabel(\"rec\", fontsize = 12, fontweight = 'bold')\n",
        "plt.ylabel(\"freq\", fontsize = 12, fontweight = 'bold')\n",
        "plt.grid()\n",
        "plt.show()\n"
      ]
    },
    {
      "cell_type": "markdown",
      "metadata": {
        "id": "NL3b-Pu2qgeA"
      },
      "source": [
        "### Visualmente os dados parecem estar bem agrupados. Criaremos agora um DataFrame destes grupos com o monetário para comparação"
      ]
    },
    {
      "cell_type": "code",
      "execution_count": null,
      "metadata": {
        "id": "lVnWa4qTqgeA"
      },
      "outputs": [],
      "source": [
        "dfm = pd.concat([dff['grupo'],df['valor']], axis=1)"
      ]
    },
    {
      "cell_type": "code",
      "execution_count": null,
      "metadata": {
        "id": "BQxBwqmiqgeB",
        "outputId": "49f0cb9d-9748-4739-928f-158059a615cc"
      },
      "outputs": [
        {
          "data": {
            "text/html": [
              "<div>\n",
              "<style scoped>\n",
              "    .dataframe tbody tr th:only-of-type {\n",
              "        vertical-align: middle;\n",
              "    }\n",
              "\n",
              "    .dataframe tbody tr th {\n",
              "        vertical-align: top;\n",
              "    }\n",
              "\n",
              "    .dataframe thead th {\n",
              "        text-align: right;\n",
              "    }\n",
              "</style>\n",
              "<table border=\"1\" class=\"dataframe\">\n",
              "  <thead>\n",
              "    <tr style=\"text-align: right;\">\n",
              "      <th></th>\n",
              "      <th>grupo</th>\n",
              "      <th>valor</th>\n",
              "    </tr>\n",
              "  </thead>\n",
              "  <tbody>\n",
              "    <tr>\n",
              "      <th>0</th>\n",
              "      <td>0</td>\n",
              "      <td>196.881015</td>\n",
              "    </tr>\n",
              "    <tr>\n",
              "      <th>1</th>\n",
              "      <td>1</td>\n",
              "      <td>162.408892</td>\n",
              "    </tr>\n",
              "    <tr>\n",
              "      <th>2</th>\n",
              "      <td>1</td>\n",
              "      <td>180.158644</td>\n",
              "    </tr>\n",
              "    <tr>\n",
              "      <th>3</th>\n",
              "      <td>2</td>\n",
              "      <td>156.048130</td>\n",
              "    </tr>\n",
              "    <tr>\n",
              "      <th>4</th>\n",
              "      <td>0</td>\n",
              "      <td>164.052067</td>\n",
              "    </tr>\n",
              "    <tr>\n",
              "      <th>...</th>\n",
              "      <td>...</td>\n",
              "      <td>...</td>\n",
              "    </tr>\n",
              "    <tr>\n",
              "      <th>1007</th>\n",
              "      <td>1</td>\n",
              "      <td>116.867455</td>\n",
              "    </tr>\n",
              "    <tr>\n",
              "      <th>1008</th>\n",
              "      <td>3</td>\n",
              "      <td>94.807854</td>\n",
              "    </tr>\n",
              "    <tr>\n",
              "      <th>1009</th>\n",
              "      <td>1</td>\n",
              "      <td>99.187523</td>\n",
              "    </tr>\n",
              "    <tr>\n",
              "      <th>1010</th>\n",
              "      <td>3</td>\n",
              "      <td>66.581900</td>\n",
              "    </tr>\n",
              "    <tr>\n",
              "      <th>1011</th>\n",
              "      <td>2</td>\n",
              "      <td>129.189160</td>\n",
              "    </tr>\n",
              "  </tbody>\n",
              "</table>\n",
              "<p>1008 rows × 2 columns</p>\n",
              "</div>"
            ],
            "text/plain": [
              "      grupo       valor\n",
              "0         0  196.881015\n",
              "1         1  162.408892\n",
              "2         1  180.158644\n",
              "3         2  156.048130\n",
              "4         0  164.052067\n",
              "...     ...         ...\n",
              "1007      1  116.867455\n",
              "1008      3   94.807854\n",
              "1009      1   99.187523\n",
              "1010      3   66.581900\n",
              "1011      2  129.189160\n",
              "\n",
              "[1008 rows x 2 columns]"
            ]
          },
          "execution_count": 38,
          "metadata": {},
          "output_type": "execute_result"
        }
      ],
      "source": [
        "dfm"
      ]
    },
    {
      "cell_type": "code",
      "execution_count": null,
      "metadata": {
        "id": "AB3UtrP0qgeE",
        "outputId": "03807513-178f-44ec-d43d-80b7a0f07796"
      },
      "outputs": [
        {
          "data": {
            "text/html": [
              "<div>\n",
              "<style scoped>\n",
              "    .dataframe tbody tr th:only-of-type {\n",
              "        vertical-align: middle;\n",
              "    }\n",
              "\n",
              "    .dataframe tbody tr th {\n",
              "        vertical-align: top;\n",
              "    }\n",
              "\n",
              "    .dataframe thead th {\n",
              "        text-align: right;\n",
              "    }\n",
              "</style>\n",
              "<table border=\"1\" class=\"dataframe\">\n",
              "  <thead>\n",
              "    <tr style=\"text-align: right;\">\n",
              "      <th></th>\n",
              "      <th>valor</th>\n",
              "    </tr>\n",
              "    <tr>\n",
              "      <th>grupo</th>\n",
              "      <th></th>\n",
              "    </tr>\n",
              "  </thead>\n",
              "  <tbody>\n",
              "    <tr>\n",
              "      <th>0</th>\n",
              "      <td>100.369166</td>\n",
              "    </tr>\n",
              "    <tr>\n",
              "      <th>1</th>\n",
              "      <td>104.110882</td>\n",
              "    </tr>\n",
              "    <tr>\n",
              "      <th>2</th>\n",
              "      <td>105.872189</td>\n",
              "    </tr>\n",
              "    <tr>\n",
              "      <th>3</th>\n",
              "      <td>107.905924</td>\n",
              "    </tr>\n",
              "  </tbody>\n",
              "</table>\n",
              "</div>"
            ],
            "text/plain": [
              "            valor\n",
              "grupo            \n",
              "0      100.369166\n",
              "1      104.110882\n",
              "2      105.872189\n",
              "3      107.905924"
            ]
          },
          "execution_count": 40,
          "metadata": {},
          "output_type": "execute_result"
        }
      ],
      "source": [
        "dfm.groupby(['grupo']).mean()"
      ]
    },
    {
      "cell_type": "markdown",
      "metadata": {
        "id": "M9OnEOYJqgeE"
      },
      "source": [
        "#### Podemos inferir que o grupo mais valioso para empresa é o grupo 3 e o menos valioso é o grupo 0"
      ]
    },
    {
      "cell_type": "code",
      "execution_count": null,
      "metadata": {
        "id": "NkqNcuHBqgeF",
        "outputId": "54d8794a-a8bc-4c57-a5ad-981e1f2278bb"
      },
      "outputs": [
        {
          "data": {
            "text/html": [
              "<div>\n",
              "<style scoped>\n",
              "    .dataframe tbody tr th:only-of-type {\n",
              "        vertical-align: middle;\n",
              "    }\n",
              "\n",
              "    .dataframe tbody tr th {\n",
              "        vertical-align: top;\n",
              "    }\n",
              "\n",
              "    .dataframe thead th {\n",
              "        text-align: right;\n",
              "    }\n",
              "</style>\n",
              "<table border=\"1\" class=\"dataframe\">\n",
              "  <thead>\n",
              "    <tr style=\"text-align: right;\">\n",
              "      <th></th>\n",
              "      <th>rec</th>\n",
              "      <th>freq</th>\n",
              "    </tr>\n",
              "    <tr>\n",
              "      <th>grupo</th>\n",
              "      <th></th>\n",
              "      <th></th>\n",
              "    </tr>\n",
              "  </thead>\n",
              "  <tbody>\n",
              "    <tr>\n",
              "      <th>0</th>\n",
              "      <td>23.040650</td>\n",
              "      <td>6.699187</td>\n",
              "    </tr>\n",
              "    <tr>\n",
              "      <th>1</th>\n",
              "      <td>67.484615</td>\n",
              "      <td>6.407692</td>\n",
              "    </tr>\n",
              "    <tr>\n",
              "      <th>2</th>\n",
              "      <td>21.563707</td>\n",
              "      <td>2.482625</td>\n",
              "    </tr>\n",
              "    <tr>\n",
              "      <th>3</th>\n",
              "      <td>68.218107</td>\n",
              "      <td>2.415638</td>\n",
              "    </tr>\n",
              "  </tbody>\n",
              "</table>\n",
              "</div>"
            ],
            "text/plain": [
              "             rec      freq\n",
              "grupo                     \n",
              "0      23.040650  6.699187\n",
              "1      67.484615  6.407692\n",
              "2      21.563707  2.482625\n",
              "3      68.218107  2.415638"
            ]
          },
          "execution_count": 49,
          "metadata": {},
          "output_type": "execute_result"
        }
      ],
      "source": [
        "dff.groupby(by=['grupo']).mean()"
      ]
    },
    {
      "cell_type": "markdown",
      "metadata": {
        "id": "u3hF7fR7qgeF"
      },
      "source": [
        "### O grupo mais valioso (3) compreende os clientes com uma média de recência 68 e frequência 2.4, ou seja, clientes cuja última compra fora feita em média a 68 dias e compraram em média 2.4 vezes ao mês.\n",
        "### Por outro lado, os de menor valor para empresa, são os clientes que compram com maior frequência, seja a menos ou maior tempo da última compra.\n",
        "### O que faz sentido, pois clientes que compram com maior frequência costumam comprar itens de menor valor."
      ]
    },
    {
      "cell_type": "markdown",
      "metadata": {
        "id": "XD3wAIQAqgeF"
      },
      "source": [
        "## Agora faremos a mesma análise utilizando outra técnica de clusterização, o DBSCAN"
      ]
    },
    {
      "cell_type": "code",
      "execution_count": null,
      "metadata": {
        "id": "1nJSiFEkqgeF"
      },
      "outputs": [],
      "source": [
        "db = DBSCAN(eps=0.4, min_samples=35, n_jobs=-1).fit(X)\n",
        "\n",
        "# Podemos verificar que o parâmetro \"eps\" é bem sensível.Ele limita a distância entre duas amostras\n",
        "# para que uma seja considerada vizinha da outra\n",
        "# aumentando ele para 0.45, temos apenas dois grupos"
      ]
    },
    {
      "cell_type": "code",
      "execution_count": null,
      "metadata": {
        "id": "d-A_cNVvqgeF",
        "outputId": "91714123-fd3a-4500-fb9e-09395438cf37"
      },
      "outputs": [
        {
          "data": {
            "text/plain": [
              "array([-1,  0,  1, ...,  1,  5, -1], dtype=int64)"
            ]
          },
          "execution_count": 102,
          "metadata": {},
          "output_type": "execute_result"
        }
      ],
      "source": [
        "db.labels_"
      ]
    },
    {
      "cell_type": "code",
      "execution_count": null,
      "metadata": {
        "id": "ceErmG08qgeF",
        "outputId": "012d7fa6-a7e1-446b-c8ce-3df750120a80"
      },
      "outputs": [
        {
          "data": {
            "text/html": [
              "<div>\n",
              "<style scoped>\n",
              "    .dataframe tbody tr th:only-of-type {\n",
              "        vertical-align: middle;\n",
              "    }\n",
              "\n",
              "    .dataframe tbody tr th {\n",
              "        vertical-align: top;\n",
              "    }\n",
              "\n",
              "    .dataframe thead th {\n",
              "        text-align: right;\n",
              "    }\n",
              "</style>\n",
              "<table border=\"1\" class=\"dataframe\">\n",
              "  <thead>\n",
              "    <tr style=\"text-align: right;\">\n",
              "      <th></th>\n",
              "      <th>rec</th>\n",
              "      <th>freq</th>\n",
              "      <th>grupo</th>\n",
              "      <th>grupo_db</th>\n",
              "    </tr>\n",
              "  </thead>\n",
              "  <tbody>\n",
              "    <tr>\n",
              "      <th>0</th>\n",
              "      <td>15.0</td>\n",
              "      <td>7.0</td>\n",
              "      <td>0</td>\n",
              "      <td>-1</td>\n",
              "    </tr>\n",
              "    <tr>\n",
              "      <th>1</th>\n",
              "      <td>51.0</td>\n",
              "      <td>6.0</td>\n",
              "      <td>1</td>\n",
              "      <td>0</td>\n",
              "    </tr>\n",
              "    <tr>\n",
              "      <th>2</th>\n",
              "      <td>80.0</td>\n",
              "      <td>5.0</td>\n",
              "      <td>1</td>\n",
              "      <td>1</td>\n",
              "    </tr>\n",
              "    <tr>\n",
              "      <th>3</th>\n",
              "      <td>38.0</td>\n",
              "      <td>4.0</td>\n",
              "      <td>2</td>\n",
              "      <td>-1</td>\n",
              "    </tr>\n",
              "    <tr>\n",
              "      <th>4</th>\n",
              "      <td>19.0</td>\n",
              "      <td>6.0</td>\n",
              "      <td>0</td>\n",
              "      <td>-1</td>\n",
              "    </tr>\n",
              "    <tr>\n",
              "      <th>...</th>\n",
              "      <td>...</td>\n",
              "      <td>...</td>\n",
              "      <td>...</td>\n",
              "      <td>...</td>\n",
              "    </tr>\n",
              "    <tr>\n",
              "      <th>1007</th>\n",
              "      <td>50.0</td>\n",
              "      <td>6.0</td>\n",
              "      <td>1</td>\n",
              "      <td>0</td>\n",
              "    </tr>\n",
              "    <tr>\n",
              "      <th>1008</th>\n",
              "      <td>72.0</td>\n",
              "      <td>4.0</td>\n",
              "      <td>3</td>\n",
              "      <td>-1</td>\n",
              "    </tr>\n",
              "    <tr>\n",
              "      <th>1009</th>\n",
              "      <td>50.0</td>\n",
              "      <td>5.0</td>\n",
              "      <td>1</td>\n",
              "      <td>1</td>\n",
              "    </tr>\n",
              "    <tr>\n",
              "      <th>1010</th>\n",
              "      <td>81.0</td>\n",
              "      <td>2.0</td>\n",
              "      <td>3</td>\n",
              "      <td>5</td>\n",
              "    </tr>\n",
              "    <tr>\n",
              "      <th>1011</th>\n",
              "      <td>31.0</td>\n",
              "      <td>2.0</td>\n",
              "      <td>2</td>\n",
              "      <td>-1</td>\n",
              "    </tr>\n",
              "  </tbody>\n",
              "</table>\n",
              "<p>1008 rows × 4 columns</p>\n",
              "</div>"
            ],
            "text/plain": [
              "       rec  freq  grupo  grupo_db\n",
              "0     15.0   7.0      0        -1\n",
              "1     51.0   6.0      1         0\n",
              "2     80.0   5.0      1         1\n",
              "3     38.0   4.0      2        -1\n",
              "4     19.0   6.0      0        -1\n",
              "...    ...   ...    ...       ...\n",
              "1007  50.0   6.0      1         0\n",
              "1008  72.0   4.0      3        -1\n",
              "1009  50.0   5.0      1         1\n",
              "1010  81.0   2.0      3         5\n",
              "1011  31.0   2.0      2        -1\n",
              "\n",
              "[1008 rows x 4 columns]"
            ]
          },
          "execution_count": 103,
          "metadata": {},
          "output_type": "execute_result"
        }
      ],
      "source": [
        "dff['grupo_db'] = db.fit_predict(X)\n",
        "dff"
      ]
    },
    {
      "cell_type": "code",
      "execution_count": null,
      "metadata": {
        "id": "v66vY0hYqgeF",
        "outputId": "faccc988-c58f-4ffd-89f7-fa46b90198f1"
      },
      "outputs": [
        {
          "data": {
            "text/plain": [
              "8"
            ]
          },
          "execution_count": 104,
          "metadata": {},
          "output_type": "execute_result"
        }
      ],
      "source": [
        "dff.grupo_db.value_counts().count()\n",
        "\n",
        "# temos 8 grupos classificados utilizando os parâmetros definidos acima"
      ]
    },
    {
      "cell_type": "code",
      "execution_count": null,
      "metadata": {
        "id": "RB9qHFy-qgeG",
        "outputId": "fdc12fe8-db80-46cb-bcc0-5a6b0c8ea0f0"
      },
      "outputs": [
        {
          "data": {
            "text/html": [
              "<div>\n",
              "<style scoped>\n",
              "    .dataframe tbody tr th:only-of-type {\n",
              "        vertical-align: middle;\n",
              "    }\n",
              "\n",
              "    .dataframe tbody tr th {\n",
              "        vertical-align: top;\n",
              "    }\n",
              "\n",
              "    .dataframe thead th {\n",
              "        text-align: right;\n",
              "    }\n",
              "</style>\n",
              "<table border=\"1\" class=\"dataframe\">\n",
              "  <thead>\n",
              "    <tr style=\"text-align: right;\">\n",
              "      <th></th>\n",
              "      <th>grupo_db</th>\n",
              "      <th>valor</th>\n",
              "      <th>grupo</th>\n",
              "    </tr>\n",
              "  </thead>\n",
              "  <tbody>\n",
              "    <tr>\n",
              "      <th>0</th>\n",
              "      <td>-1</td>\n",
              "      <td>196.881015</td>\n",
              "      <td>0</td>\n",
              "    </tr>\n",
              "    <tr>\n",
              "      <th>1</th>\n",
              "      <td>0</td>\n",
              "      <td>162.408892</td>\n",
              "      <td>1</td>\n",
              "    </tr>\n",
              "    <tr>\n",
              "      <th>2</th>\n",
              "      <td>1</td>\n",
              "      <td>180.158644</td>\n",
              "      <td>1</td>\n",
              "    </tr>\n",
              "    <tr>\n",
              "      <th>3</th>\n",
              "      <td>-1</td>\n",
              "      <td>156.048130</td>\n",
              "      <td>2</td>\n",
              "    </tr>\n",
              "    <tr>\n",
              "      <th>4</th>\n",
              "      <td>-1</td>\n",
              "      <td>164.052067</td>\n",
              "      <td>0</td>\n",
              "    </tr>\n",
              "    <tr>\n",
              "      <th>...</th>\n",
              "      <td>...</td>\n",
              "      <td>...</td>\n",
              "      <td>...</td>\n",
              "    </tr>\n",
              "    <tr>\n",
              "      <th>1007</th>\n",
              "      <td>0</td>\n",
              "      <td>116.867455</td>\n",
              "      <td>1</td>\n",
              "    </tr>\n",
              "    <tr>\n",
              "      <th>1008</th>\n",
              "      <td>-1</td>\n",
              "      <td>94.807854</td>\n",
              "      <td>3</td>\n",
              "    </tr>\n",
              "    <tr>\n",
              "      <th>1009</th>\n",
              "      <td>1</td>\n",
              "      <td>99.187523</td>\n",
              "      <td>1</td>\n",
              "    </tr>\n",
              "    <tr>\n",
              "      <th>1010</th>\n",
              "      <td>5</td>\n",
              "      <td>66.581900</td>\n",
              "      <td>3</td>\n",
              "    </tr>\n",
              "    <tr>\n",
              "      <th>1011</th>\n",
              "      <td>-1</td>\n",
              "      <td>129.189160</td>\n",
              "      <td>2</td>\n",
              "    </tr>\n",
              "  </tbody>\n",
              "</table>\n",
              "<p>1008 rows × 3 columns</p>\n",
              "</div>"
            ],
            "text/plain": [
              "      grupo_db       valor  grupo\n",
              "0           -1  196.881015      0\n",
              "1            0  162.408892      1\n",
              "2            1  180.158644      1\n",
              "3           -1  156.048130      2\n",
              "4           -1  164.052067      0\n",
              "...        ...         ...    ...\n",
              "1007         0  116.867455      1\n",
              "1008        -1   94.807854      3\n",
              "1009         1   99.187523      1\n",
              "1010         5   66.581900      3\n",
              "1011        -1  129.189160      2\n",
              "\n",
              "[1008 rows x 3 columns]"
            ]
          },
          "execution_count": 105,
          "metadata": {},
          "output_type": "execute_result"
        }
      ],
      "source": [
        "df_db = pd.concat([dff['grupo_db'],df['valor'],dff['grupo']], axis=1)\n",
        "df_db"
      ]
    },
    {
      "cell_type": "code",
      "execution_count": null,
      "metadata": {
        "id": "q5vJq9w4qgeG",
        "outputId": "64293aa7-2300-478d-8f46-08038d67f095"
      },
      "outputs": [
        {
          "data": {
            "text/html": [
              "<div>\n",
              "<style scoped>\n",
              "    .dataframe tbody tr th:only-of-type {\n",
              "        vertical-align: middle;\n",
              "    }\n",
              "\n",
              "    .dataframe tbody tr th {\n",
              "        vertical-align: top;\n",
              "    }\n",
              "\n",
              "    .dataframe thead th {\n",
              "        text-align: right;\n",
              "    }\n",
              "</style>\n",
              "<table border=\"1\" class=\"dataframe\">\n",
              "  <thead>\n",
              "    <tr style=\"text-align: right;\">\n",
              "      <th></th>\n",
              "      <th>valor</th>\n",
              "      <th>grupo</th>\n",
              "    </tr>\n",
              "    <tr>\n",
              "      <th>grupo_db</th>\n",
              "      <th></th>\n",
              "      <th></th>\n",
              "    </tr>\n",
              "  </thead>\n",
              "  <tbody>\n",
              "    <tr>\n",
              "      <th>-1</th>\n",
              "      <td>103.072183</td>\n",
              "      <td>1.473154</td>\n",
              "    </tr>\n",
              "    <tr>\n",
              "      <th>0</th>\n",
              "      <td>94.603009</td>\n",
              "      <td>0.426230</td>\n",
              "    </tr>\n",
              "    <tr>\n",
              "      <th>1</th>\n",
              "      <td>113.142045</td>\n",
              "      <td>1.000000</td>\n",
              "    </tr>\n",
              "    <tr>\n",
              "      <th>2</th>\n",
              "      <td>111.057042</td>\n",
              "      <td>0.855556</td>\n",
              "    </tr>\n",
              "    <tr>\n",
              "      <th>3</th>\n",
              "      <td>89.838824</td>\n",
              "      <td>2.000000</td>\n",
              "    </tr>\n",
              "    <tr>\n",
              "      <th>4</th>\n",
              "      <td>117.111456</td>\n",
              "      <td>2.000000</td>\n",
              "    </tr>\n",
              "    <tr>\n",
              "      <th>5</th>\n",
              "      <td>100.045157</td>\n",
              "      <td>3.000000</td>\n",
              "    </tr>\n",
              "    <tr>\n",
              "      <th>6</th>\n",
              "      <td>113.382963</td>\n",
              "      <td>2.755102</td>\n",
              "    </tr>\n",
              "  </tbody>\n",
              "</table>\n",
              "</div>"
            ],
            "text/plain": [
              "               valor     grupo\n",
              "grupo_db                      \n",
              "-1        103.072183  1.473154\n",
              " 0         94.603009  0.426230\n",
              " 1        113.142045  1.000000\n",
              " 2        111.057042  0.855556\n",
              " 3         89.838824  2.000000\n",
              " 4        117.111456  2.000000\n",
              " 5        100.045157  3.000000\n",
              " 6        113.382963  2.755102"
            ]
          },
          "execution_count": 106,
          "metadata": {},
          "output_type": "execute_result"
        }
      ],
      "source": [
        "df_db.groupby(['grupo_db']).mean()"
      ]
    },
    {
      "cell_type": "code",
      "execution_count": null,
      "metadata": {
        "id": "7UEJW_APqgeG",
        "outputId": "129f1448-95ea-49eb-d033-c529e77d262a"
      },
      "outputs": [
        {
          "data": {
            "text/plain": [
              "grupo_db\n",
              " 3     89.838824\n",
              " 0     94.603009\n",
              " 5    100.045157\n",
              "-1    103.072183\n",
              " 2    111.057042\n",
              " 1    113.142045\n",
              " 6    113.382963\n",
              " 4    117.111456\n",
              "Name: valor, dtype: float64"
            ]
          },
          "execution_count": 120,
          "metadata": {},
          "output_type": "execute_result"
        }
      ],
      "source": [
        "df_db.groupby(['grupo_db']).valor.mean().sort_values()"
      ]
    },
    {
      "cell_type": "code",
      "execution_count": null,
      "metadata": {
        "id": "eztVqdAYqgeG",
        "outputId": "7b67a89c-6ff8-4f09-9218-8a7f56d254e1"
      },
      "outputs": [
        {
          "name": "stdout",
          "output_type": "stream",
          "text": [
            "Mais valioso: \n",
            " rec 15.482142857142858 \n",
            " freq 1.0\n",
            "Menos valioso: \n",
            " rec 13.6 \n",
            " freq 4.0\n"
          ]
        }
      ],
      "source": [
        "mais = dff[dff.grupo_db==4].mean()\n",
        "menos = dff[dff.grupo_db==3].mean()\n",
        "print('Mais valioso: \\n rec',mais.rec,'\\n freq',mais.freq)\n",
        "print('Menos valioso: \\n rec',menos.rec,'\\n freq',menos.freq)"
      ]
    },
    {
      "cell_type": "markdown",
      "metadata": {
        "id": "aGCsWVobqgeG"
      },
      "source": [
        "### Dos cluster criados podemos verificar que o mais valioso é o grupo 4 e o menos valioso é o grupo 3.\n",
        "### Sendo eles : <br> Mais valioso - o grupo dos clientes com rec 15.5 e freq 1 <br> Menos valioso - o grupo com rec 13.6 e freq 4"
      ]
    },
    {
      "cell_type": "markdown",
      "metadata": {
        "id": "DgLfu3gmqgeG"
      },
      "source": [
        "### Ou seja, temos a memsa conclusão em ambas as técnicas. Os clientes que compram com mais frequência tem menos valor para a empresa, pois costumam comprar itens de menor valor. Já os clientes que compram com menor frequência tendem a gastar mais a cada compra."
      ]
    },
    {
      "cell_type": "code",
      "execution_count": null,
      "metadata": {
        "id": "N59G97fkqgeG",
        "outputId": "7b56c1ae-fdb9-47a5-bbae-846577e228bd"
      },
      "outputs": [
        {
          "data": {
            "text/html": [
              "<div>\n",
              "<style scoped>\n",
              "    .dataframe tbody tr th:only-of-type {\n",
              "        vertical-align: middle;\n",
              "    }\n",
              "\n",
              "    .dataframe tbody tr th {\n",
              "        vertical-align: top;\n",
              "    }\n",
              "\n",
              "    .dataframe thead th {\n",
              "        text-align: right;\n",
              "    }\n",
              "</style>\n",
              "<table border=\"1\" class=\"dataframe\">\n",
              "  <thead>\n",
              "    <tr style=\"text-align: right;\">\n",
              "      <th></th>\n",
              "      <th>rec</th>\n",
              "      <th>freq</th>\n",
              "      <th>grupo</th>\n",
              "    </tr>\n",
              "    <tr>\n",
              "      <th>grupo_db</th>\n",
              "      <th></th>\n",
              "      <th></th>\n",
              "      <th></th>\n",
              "    </tr>\n",
              "  </thead>\n",
              "  <tbody>\n",
              "    <tr>\n",
              "      <th>-1</th>\n",
              "      <td>41.963087</td>\n",
              "      <td>4.739933</td>\n",
              "      <td>1.473154</td>\n",
              "    </tr>\n",
              "    <tr>\n",
              "      <th>0</th>\n",
              "      <td>43.114754</td>\n",
              "      <td>6.000000</td>\n",
              "      <td>0.426230</td>\n",
              "    </tr>\n",
              "    <tr>\n",
              "      <th>1</th>\n",
              "      <td>69.041667</td>\n",
              "      <td>5.000000</td>\n",
              "      <td>1.000000</td>\n",
              "    </tr>\n",
              "    <tr>\n",
              "      <th>2</th>\n",
              "      <td>64.544444</td>\n",
              "      <td>7.000000</td>\n",
              "      <td>0.855556</td>\n",
              "    </tr>\n",
              "    <tr>\n",
              "      <th>3</th>\n",
              "      <td>13.600000</td>\n",
              "      <td>4.000000</td>\n",
              "      <td>2.000000</td>\n",
              "    </tr>\n",
              "    <tr>\n",
              "      <th>4</th>\n",
              "      <td>15.482143</td>\n",
              "      <td>1.000000</td>\n",
              "      <td>2.000000</td>\n",
              "    </tr>\n",
              "    <tr>\n",
              "      <th>5</th>\n",
              "      <td>73.923077</td>\n",
              "      <td>2.000000</td>\n",
              "      <td>3.000000</td>\n",
              "    </tr>\n",
              "    <tr>\n",
              "      <th>6</th>\n",
              "      <td>52.938776</td>\n",
              "      <td>1.000000</td>\n",
              "      <td>2.755102</td>\n",
              "    </tr>\n",
              "  </tbody>\n",
              "</table>\n",
              "</div>"
            ],
            "text/plain": [
              "                rec      freq     grupo\n",
              "grupo_db                               \n",
              "-1        41.963087  4.739933  1.473154\n",
              " 0        43.114754  6.000000  0.426230\n",
              " 1        69.041667  5.000000  1.000000\n",
              " 2        64.544444  7.000000  0.855556\n",
              " 3        13.600000  4.000000  2.000000\n",
              " 4        15.482143  1.000000  2.000000\n",
              " 5        73.923077  2.000000  3.000000\n",
              " 6        52.938776  1.000000  2.755102"
            ]
          },
          "execution_count": 146,
          "metadata": {},
          "output_type": "execute_result"
        }
      ],
      "source": [
        "dff.groupby('grupo_db').mean()"
      ]
    },
    {
      "cell_type": "markdown",
      "metadata": {
        "id": "3oU43QtzqgeH"
      },
      "source": [
        "### Somente a título de curiosidade os dois grupos em questão ( mais e menos valiosos ) se comparando com a técnica utilizada anteriormente (kmeans), fariam parte do mesmo grupo."
      ]
    },
    {
      "cell_type": "code",
      "execution_count": null,
      "metadata": {
        "id": "uflIuJ-hqgeH"
      },
      "outputs": [],
      "source": []
    }
  ],
  "metadata": {
    "kernelspec": {
      "display_name": "Python 3 (ipykernel)",
      "language": "python",
      "name": "python3"
    },
    "language_info": {
      "codemirror_mode": {
        "name": "ipython",
        "version": 3
      },
      "file_extension": ".py",
      "mimetype": "text/x-python",
      "name": "python",
      "nbconvert_exporter": "python",
      "pygments_lexer": "ipython3",
      "version": "3.9.13"
    },
    "colab": {
      "provenance": [],
      "include_colab_link": true
    }
  },
  "nbformat": 4,
  "nbformat_minor": 0
}