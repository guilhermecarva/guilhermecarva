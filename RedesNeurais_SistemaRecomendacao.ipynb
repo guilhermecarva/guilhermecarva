{
  "nbformat": 4,
  "nbformat_minor": 0,
  "metadata": {
    "kernelspec": {
      "display_name": "Python 3",
      "language": "python",
      "name": "python3"
    },
    "language_info": {
      "codemirror_mode": {
        "name": "ipython",
        "version": 3
      },
      "file_extension": ".py",
      "mimetype": "text/x-python",
      "name": "python",
      "nbconvert_exporter": "python",
      "pygments_lexer": "ipython3",
      "version": "3.8.5"
    },
    "colab": {
      "provenance": [],
      "include_colab_link": true
    }
  },
  "cells": [
    {
      "cell_type": "markdown",
      "metadata": {
        "id": "view-in-github",
        "colab_type": "text"
      },
      "source": [
        "<a href=\"https://colab.research.google.com/github/guilhermecarva/guilhermecarva/blob/main/RedesNeurais_SistemaRecomendacao.ipynb\" target=\"_parent\"><img src=\"https://colab.research.google.com/assets/colab-badge.svg\" alt=\"Open In Colab\"/></a>"
      ]
    },
    {
      "cell_type": "markdown",
      "source": [
        "# Redes Neurais aplicadas a Sitema de Recomendação"
      ],
      "metadata": {
        "id": "n2b--G_13PvV"
      }
    },
    {
      "cell_type": "code",
      "source": [
        "!pip install emoji --quiet"
      ],
      "metadata": {
        "id": "m6Ufar6ddeMz",
        "colab": {
          "base_uri": "https://localhost:8080/"
        },
        "outputId": "ea8cdf3e-9f55-47a1-c93b-b9ea20ee0d19"
      },
      "execution_count": null,
      "outputs": [
        {
          "output_type": "stream",
          "name": "stdout",
          "text": [
            "\u001b[?25l     \u001b[90m━━━━━━━━━━━━━━━━━━━━━━━━━━━━━━━━━━━━━━━━\u001b[0m \u001b[32m0.0/397.5 kB\u001b[0m \u001b[31m?\u001b[0m eta \u001b[36m-:--:--\u001b[0m\r\u001b[2K     \u001b[91m━━━━━━━━━\u001b[0m\u001b[90m╺\u001b[0m\u001b[90m━━━━━━━━━━━━━━━━━━━━━━━━━━━━━━\u001b[0m \u001b[32m92.2/397.5 kB\u001b[0m \u001b[31m2.6 MB/s\u001b[0m eta \u001b[36m0:00:01\u001b[0m\r\u001b[2K     \u001b[90m━━━━━━━━━━━━━━━━━━━━━━━━━━━━━━━━━━━━━━━━\u001b[0m \u001b[32m397.5/397.5 kB\u001b[0m \u001b[31m6.0 MB/s\u001b[0m eta \u001b[36m0:00:00\u001b[0m\n",
            "\u001b[?25h"
          ]
        }
      ]
    },
    {
      "cell_type": "markdown",
      "source": [
        "Importando as bibliotecas necessárias para nosso projeto"
      ],
      "metadata": {
        "id": "u-rSINkK3pI-"
      }
    },
    {
      "cell_type": "code",
      "metadata": {
        "id": "P5ftJ09iRyGd"
      },
      "source": [
        "import re\n",
        "import os\n",
        "import emoji\n",
        "import spacy\n",
        "import string\n",
        "import requests\n",
        "import numpy as np\n",
        "import pandas as pd\n",
        "import seaborn as sns\n",
        "import matplotlib.pyplot as plt\n",
        "from bs4 import BeautifulSoup\n",
        "from nltk.stem.porter import PorterStemmer\n",
        "from sklearn.feature_extraction.text import ENGLISH_STOP_WORDS\n",
        "%matplotlib inline"
      ],
      "execution_count": null,
      "outputs": []
    },
    {
      "cell_type": "markdown",
      "metadata": {
        "id": "-g6BJ57VRyGr"
      },
      "source": [
        "# Webscraping"
      ]
    },
    {
      "cell_type": "markdown",
      "metadata": {
        "id": "ri-OQnfWRyGs"
      },
      "source": [
        "criando função para fazer dataset de texto a partir de 3 editorias determinadas no site."
      ]
    },
    {
      "cell_type": "code",
      "metadata": {
        "id": "IHXBMjyYRyGt"
      },
      "source": [
        "seed_urls = ['https://inshorts.com/en/read/technology',\n",
        "             'https://inshorts.com/en/read/sports',\n",
        "             'https://inshorts.com/en/read/world']\n",
        "\n",
        "def build_dataset(seed_urls):\n",
        "    news_data = []\n",
        "    for url in seed_urls:\n",
        "        news_category = url.split('/')[-1]\n",
        "        data = requests.get(url)\n",
        "        soup = BeautifulSoup(data.content, 'html.parser')\n",
        "\n",
        "        news_articles = [{'news_headline': headline.find('span',\n",
        "                                                       attrs={\"itemprop\": \"headline\"}).string,\n",
        "                          'news_article': article.find('div',\n",
        "                                                       attrs={\"itemprop\": \"articleBody\"}).string,\n",
        "                          'news_category': news_category}\n",
        "\n",
        "                          for headline, article in\n",
        "                             zip(soup.find_all('div',\n",
        "                                               class_=[\"LUWdd1C_3UqqulVsopn0\"]), #LUWdd1C_3UqqulVsopn0  news-card-title news-right-box\n",
        "                                 soup.find_all('div',\n",
        "                                               class_=[\"LUWdd1C_3UqqulVsopn0\"])) #KkupEonoVHxNv4A_D7UG  news-card-content news-right-box\n",
        "                        ]\n",
        "        news_data.extend(news_articles)\n",
        "\n",
        "    df =  pd.DataFrame(news_data)\n",
        "    df = df[['news_headline', 'news_article', 'news_category']]\n",
        "    return df"
      ],
      "execution_count": null,
      "outputs": []
    },
    {
      "cell_type": "code",
      "metadata": {
        "scrolled": false,
        "id": "KaPz59NhRyGu",
        "outputId": "9505be33-18c7-46ba-e7b4-37bee376da04",
        "colab": {
          "base_uri": "https://localhost:8080/",
          "height": 990
        }
      },
      "source": [
        "news_df = build_dataset(seed_urls)\n",
        "news_df"
      ],
      "execution_count": null,
      "outputs": [
        {
          "output_type": "execute_result",
          "data": {
            "text/plain": [
              "                                        news_headline  \\\n",
              "0   US, India, Taiwan representatives collaborate ...   \n",
              "1   IIT Kanpur alumnus donates ₹1.6 cr to form 3 e...   \n",
              "2   Apple Watch Innovation: External Flashlight In...   \n",
              "3   New millimeter wave sensor measures extremely ...   \n",
              "4         Ola Electric to file for IPO by December 20   \n",
              "5   First 100% SAF flight of Pratt & Whitney engin...   \n",
              "6     Samsung Boosts Team for Apple's Foldable Panels   \n",
              "7   New flow battery uses saltwater for long-durat...   \n",
              "8   OnePlus 12 5G Global Launch with Fast Charging...   \n",
              "9     Paper Boat’s FY23 Loss Rises 71% To INR 90.6 Cr   \n",
              "10  If you're not doing well, at least kick somebo...   \n",
              "11  Getting debut cap from Smriti special, wrote i...   \n",
              "12  Which players have the highest base price of ₹...   \n",
              "13  Tom Curran gets scared of pitchside flames dur...   \n",
              "14  That's ridiculous: Ponting on pitch for abando...   \n",
              "15  Art of selection, not science: Key on spinner ...   \n",
              "16  I used to get pissed off: Djokovic on facing N...   \n",
              "17   Who is the youngest and the oldest player in ...   \n",
              "18  Chahal picks four-for in Vijay Hazare Trophy q...   \n",
              "19  IPL 2024 player auction list released, feature...   \n",
              "20  Australia’s new migration strategy for Indian ...   \n",
              "21         Donald Trump maintains strong lead in Iowa   \n",
              "22  US: New polls show Trump leading Biden in two ...   \n",
              "23  UK sends two minehunter ships to boost Ukraine...   \n",
              "24  Over 100 Israeli soldiers killed in Gaza war: IDF   \n",
              "25  US, India, Taiwan representatives collaborate ...   \n",
              "26          UNGA to resume emergency session on Gaza    \n",
              "27  Controversial Ad by Pakistani Dating App Spark...   \n",
              "28  Congress MP Bittu lambasts Gurpatwant Singh Pa...   \n",
              "29   Webb’s new high-definition look at exploded star   \n",
              "\n",
              "                                         news_article news_category  \n",
              "0   A joint workshop was convened under the GCTF o...    technology  \n",
              "1   IIT Kanpur alumnus Ashish Karandikar has donat...    technology  \n",
              "2   The upcoming Apple Watch, hinted by a leaked p...    technology  \n",
              "3   Researchers at the University of California, D...    technology  \n",
              "4   Ola Electric will file its DRHP to list on Ind...    technology  \n",
              "5   Pratt & Whitney Canada and Leonardo completed ...    technology  \n",
              "6   Samsung intensified its focus on Apple's folda...    technology  \n",
              "7   AquaBattery is developing a sustainable and lo...    technology  \n",
              "8   The OnePlus 12 5G was released in China and aw...    technology  \n",
              "9   The startup’s bottom line took a hit despite i...    technology  \n",
              "10  Ex-Chelsea footballer John Obi Mikel said Manc...        sports  \n",
              "11  India Women all-rounder Shreyanka Patil termed...        sports  \n",
              "12  Three Indians (Umesh Yadav, Harshal Patel and ...        sports  \n",
              "13  A video has gone viral showing Sydney Sixers a...        sports  \n",
              "14  Ex-Australia captain Ricky Ponting termed the ...        sports  \n",
              "15  Reacting to uncapped 20-year-old spinner Shoai...        sports  \n",
              "16  Talking about facing Rafael Nadal in French Op...        sports  \n",
              "17  The BCCI released the IPL 2024 player auction ...        sports  \n",
              "18  In the 2023/24 Vijay Hazare Trophy quarter-fin...        sports  \n",
              "19  The IPL 2024 player auction list has been rele...        sports  \n",
              "20  Under this agreement, Indian graduates holding...         world  \n",
              "21  With five weeks until the Republican nominatio...         world  \n",
              "22  The former President has the upper hand over P...         world  \n",
              "23  UK has transferred two minehunter ships to Ukr...         world  \n",
              "24  The IDF announced the deaths of three more sol...         world  \n",
              "25  A joint workshop was convened under the GCTF o...         world  \n",
              "26  The emergency session of the UNGA on the situa...         world  \n",
              "27  Recently, an ad for the Pakistani dating app M...         world  \n",
              "28  Congress MP Bittu strongly attacked Khalistani...         world  \n",
              "29  The James Webb Space Telescope captured a deta...         world  "
            ],
            "text/html": [
              "\n",
              "  <div id=\"df-4637a3c3-4a25-49d8-9f30-34da68c611a6\" class=\"colab-df-container\">\n",
              "    <div>\n",
              "<style scoped>\n",
              "    .dataframe tbody tr th:only-of-type {\n",
              "        vertical-align: middle;\n",
              "    }\n",
              "\n",
              "    .dataframe tbody tr th {\n",
              "        vertical-align: top;\n",
              "    }\n",
              "\n",
              "    .dataframe thead th {\n",
              "        text-align: right;\n",
              "    }\n",
              "</style>\n",
              "<table border=\"1\" class=\"dataframe\">\n",
              "  <thead>\n",
              "    <tr style=\"text-align: right;\">\n",
              "      <th></th>\n",
              "      <th>news_headline</th>\n",
              "      <th>news_article</th>\n",
              "      <th>news_category</th>\n",
              "    </tr>\n",
              "  </thead>\n",
              "  <tbody>\n",
              "    <tr>\n",
              "      <th>0</th>\n",
              "      <td>US, India, Taiwan representatives collaborate ...</td>\n",
              "      <td>A joint workshop was convened under the GCTF o...</td>\n",
              "      <td>technology</td>\n",
              "    </tr>\n",
              "    <tr>\n",
              "      <th>1</th>\n",
              "      <td>IIT Kanpur alumnus donates ₹1.6 cr to form 3 e...</td>\n",
              "      <td>IIT Kanpur alumnus Ashish Karandikar has donat...</td>\n",
              "      <td>technology</td>\n",
              "    </tr>\n",
              "    <tr>\n",
              "      <th>2</th>\n",
              "      <td>Apple Watch Innovation: External Flashlight In...</td>\n",
              "      <td>The upcoming Apple Watch, hinted by a leaked p...</td>\n",
              "      <td>technology</td>\n",
              "    </tr>\n",
              "    <tr>\n",
              "      <th>3</th>\n",
              "      <td>New millimeter wave sensor measures extremely ...</td>\n",
              "      <td>Researchers at the University of California, D...</td>\n",
              "      <td>technology</td>\n",
              "    </tr>\n",
              "    <tr>\n",
              "      <th>4</th>\n",
              "      <td>Ola Electric to file for IPO by December 20</td>\n",
              "      <td>Ola Electric will file its DRHP to list on Ind...</td>\n",
              "      <td>technology</td>\n",
              "    </tr>\n",
              "    <tr>\n",
              "      <th>5</th>\n",
              "      <td>First 100% SAF flight of Pratt &amp; Whitney engin...</td>\n",
              "      <td>Pratt &amp; Whitney Canada and Leonardo completed ...</td>\n",
              "      <td>technology</td>\n",
              "    </tr>\n",
              "    <tr>\n",
              "      <th>6</th>\n",
              "      <td>Samsung Boosts Team for Apple's Foldable Panels</td>\n",
              "      <td>Samsung intensified its focus on Apple's folda...</td>\n",
              "      <td>technology</td>\n",
              "    </tr>\n",
              "    <tr>\n",
              "      <th>7</th>\n",
              "      <td>New flow battery uses saltwater for long-durat...</td>\n",
              "      <td>AquaBattery is developing a sustainable and lo...</td>\n",
              "      <td>technology</td>\n",
              "    </tr>\n",
              "    <tr>\n",
              "      <th>8</th>\n",
              "      <td>OnePlus 12 5G Global Launch with Fast Charging...</td>\n",
              "      <td>The OnePlus 12 5G was released in China and aw...</td>\n",
              "      <td>technology</td>\n",
              "    </tr>\n",
              "    <tr>\n",
              "      <th>9</th>\n",
              "      <td>Paper Boat’s FY23 Loss Rises 71% To INR 90.6 Cr</td>\n",
              "      <td>The startup’s bottom line took a hit despite i...</td>\n",
              "      <td>technology</td>\n",
              "    </tr>\n",
              "    <tr>\n",
              "      <th>10</th>\n",
              "      <td>If you're not doing well, at least kick somebo...</td>\n",
              "      <td>Ex-Chelsea footballer John Obi Mikel said Manc...</td>\n",
              "      <td>sports</td>\n",
              "    </tr>\n",
              "    <tr>\n",
              "      <th>11</th>\n",
              "      <td>Getting debut cap from Smriti special, wrote i...</td>\n",
              "      <td>India Women all-rounder Shreyanka Patil termed...</td>\n",
              "      <td>sports</td>\n",
              "    </tr>\n",
              "    <tr>\n",
              "      <th>12</th>\n",
              "      <td>Which players have the highest base price of ₹...</td>\n",
              "      <td>Three Indians (Umesh Yadav, Harshal Patel and ...</td>\n",
              "      <td>sports</td>\n",
              "    </tr>\n",
              "    <tr>\n",
              "      <th>13</th>\n",
              "      <td>Tom Curran gets scared of pitchside flames dur...</td>\n",
              "      <td>A video has gone viral showing Sydney Sixers a...</td>\n",
              "      <td>sports</td>\n",
              "    </tr>\n",
              "    <tr>\n",
              "      <th>14</th>\n",
              "      <td>That's ridiculous: Ponting on pitch for abando...</td>\n",
              "      <td>Ex-Australia captain Ricky Ponting termed the ...</td>\n",
              "      <td>sports</td>\n",
              "    </tr>\n",
              "    <tr>\n",
              "      <th>15</th>\n",
              "      <td>Art of selection, not science: Key on spinner ...</td>\n",
              "      <td>Reacting to uncapped 20-year-old spinner Shoai...</td>\n",
              "      <td>sports</td>\n",
              "    </tr>\n",
              "    <tr>\n",
              "      <th>16</th>\n",
              "      <td>I used to get pissed off: Djokovic on facing N...</td>\n",
              "      <td>Talking about facing Rafael Nadal in French Op...</td>\n",
              "      <td>sports</td>\n",
              "    </tr>\n",
              "    <tr>\n",
              "      <th>17</th>\n",
              "      <td>Who is the youngest and the oldest player in ...</td>\n",
              "      <td>The BCCI released the IPL 2024 player auction ...</td>\n",
              "      <td>sports</td>\n",
              "    </tr>\n",
              "    <tr>\n",
              "      <th>18</th>\n",
              "      <td>Chahal picks four-for in Vijay Hazare Trophy q...</td>\n",
              "      <td>In the 2023/24 Vijay Hazare Trophy quarter-fin...</td>\n",
              "      <td>sports</td>\n",
              "    </tr>\n",
              "    <tr>\n",
              "      <th>19</th>\n",
              "      <td>IPL 2024 player auction list released, feature...</td>\n",
              "      <td>The IPL 2024 player auction list has been rele...</td>\n",
              "      <td>sports</td>\n",
              "    </tr>\n",
              "    <tr>\n",
              "      <th>20</th>\n",
              "      <td>Australia’s new migration strategy for Indian ...</td>\n",
              "      <td>Under this agreement, Indian graduates holding...</td>\n",
              "      <td>world</td>\n",
              "    </tr>\n",
              "    <tr>\n",
              "      <th>21</th>\n",
              "      <td>Donald Trump maintains strong lead in Iowa</td>\n",
              "      <td>With five weeks until the Republican nominatio...</td>\n",
              "      <td>world</td>\n",
              "    </tr>\n",
              "    <tr>\n",
              "      <th>22</th>\n",
              "      <td>US: New polls show Trump leading Biden in two ...</td>\n",
              "      <td>The former President has the upper hand over P...</td>\n",
              "      <td>world</td>\n",
              "    </tr>\n",
              "    <tr>\n",
              "      <th>23</th>\n",
              "      <td>UK sends two minehunter ships to boost Ukraine...</td>\n",
              "      <td>UK has transferred two minehunter ships to Ukr...</td>\n",
              "      <td>world</td>\n",
              "    </tr>\n",
              "    <tr>\n",
              "      <th>24</th>\n",
              "      <td>Over 100 Israeli soldiers killed in Gaza war: IDF</td>\n",
              "      <td>The IDF announced the deaths of three more sol...</td>\n",
              "      <td>world</td>\n",
              "    </tr>\n",
              "    <tr>\n",
              "      <th>25</th>\n",
              "      <td>US, India, Taiwan representatives collaborate ...</td>\n",
              "      <td>A joint workshop was convened under the GCTF o...</td>\n",
              "      <td>world</td>\n",
              "    </tr>\n",
              "    <tr>\n",
              "      <th>26</th>\n",
              "      <td>UNGA to resume emergency session on Gaza</td>\n",
              "      <td>The emergency session of the UNGA on the situa...</td>\n",
              "      <td>world</td>\n",
              "    </tr>\n",
              "    <tr>\n",
              "      <th>27</th>\n",
              "      <td>Controversial Ad by Pakistani Dating App Spark...</td>\n",
              "      <td>Recently, an ad for the Pakistani dating app M...</td>\n",
              "      <td>world</td>\n",
              "    </tr>\n",
              "    <tr>\n",
              "      <th>28</th>\n",
              "      <td>Congress MP Bittu lambasts Gurpatwant Singh Pa...</td>\n",
              "      <td>Congress MP Bittu strongly attacked Khalistani...</td>\n",
              "      <td>world</td>\n",
              "    </tr>\n",
              "    <tr>\n",
              "      <th>29</th>\n",
              "      <td>Webb’s new high-definition look at exploded star</td>\n",
              "      <td>The James Webb Space Telescope captured a deta...</td>\n",
              "      <td>world</td>\n",
              "    </tr>\n",
              "  </tbody>\n",
              "</table>\n",
              "</div>\n",
              "    <div class=\"colab-df-buttons\">\n",
              "\n",
              "  <div class=\"colab-df-container\">\n",
              "    <button class=\"colab-df-convert\" onclick=\"convertToInteractive('df-4637a3c3-4a25-49d8-9f30-34da68c611a6')\"\n",
              "            title=\"Convert this dataframe to an interactive table.\"\n",
              "            style=\"display:none;\">\n",
              "\n",
              "  <svg xmlns=\"http://www.w3.org/2000/svg\" height=\"24px\" viewBox=\"0 -960 960 960\">\n",
              "    <path d=\"M120-120v-720h720v720H120Zm60-500h600v-160H180v160Zm220 220h160v-160H400v160Zm0 220h160v-160H400v160ZM180-400h160v-160H180v160Zm440 0h160v-160H620v160ZM180-180h160v-160H180v160Zm440 0h160v-160H620v160Z\"/>\n",
              "  </svg>\n",
              "    </button>\n",
              "\n",
              "  <style>\n",
              "    .colab-df-container {\n",
              "      display:flex;\n",
              "      gap: 12px;\n",
              "    }\n",
              "\n",
              "    .colab-df-convert {\n",
              "      background-color: #E8F0FE;\n",
              "      border: none;\n",
              "      border-radius: 50%;\n",
              "      cursor: pointer;\n",
              "      display: none;\n",
              "      fill: #1967D2;\n",
              "      height: 32px;\n",
              "      padding: 0 0 0 0;\n",
              "      width: 32px;\n",
              "    }\n",
              "\n",
              "    .colab-df-convert:hover {\n",
              "      background-color: #E2EBFA;\n",
              "      box-shadow: 0px 1px 2px rgba(60, 64, 67, 0.3), 0px 1px 3px 1px rgba(60, 64, 67, 0.15);\n",
              "      fill: #174EA6;\n",
              "    }\n",
              "\n",
              "    .colab-df-buttons div {\n",
              "      margin-bottom: 4px;\n",
              "    }\n",
              "\n",
              "    [theme=dark] .colab-df-convert {\n",
              "      background-color: #3B4455;\n",
              "      fill: #D2E3FC;\n",
              "    }\n",
              "\n",
              "    [theme=dark] .colab-df-convert:hover {\n",
              "      background-color: #434B5C;\n",
              "      box-shadow: 0px 1px 3px 1px rgba(0, 0, 0, 0.15);\n",
              "      filter: drop-shadow(0px 1px 2px rgba(0, 0, 0, 0.3));\n",
              "      fill: #FFFFFF;\n",
              "    }\n",
              "  </style>\n",
              "\n",
              "    <script>\n",
              "      const buttonEl =\n",
              "        document.querySelector('#df-4637a3c3-4a25-49d8-9f30-34da68c611a6 button.colab-df-convert');\n",
              "      buttonEl.style.display =\n",
              "        google.colab.kernel.accessAllowed ? 'block' : 'none';\n",
              "\n",
              "      async function convertToInteractive(key) {\n",
              "        const element = document.querySelector('#df-4637a3c3-4a25-49d8-9f30-34da68c611a6');\n",
              "        const dataTable =\n",
              "          await google.colab.kernel.invokeFunction('convertToInteractive',\n",
              "                                                    [key], {});\n",
              "        if (!dataTable) return;\n",
              "\n",
              "        const docLinkHtml = 'Like what you see? Visit the ' +\n",
              "          '<a target=\"_blank\" href=https://colab.research.google.com/notebooks/data_table.ipynb>data table notebook</a>'\n",
              "          + ' to learn more about interactive tables.';\n",
              "        element.innerHTML = '';\n",
              "        dataTable['output_type'] = 'display_data';\n",
              "        await google.colab.output.renderOutput(dataTable, element);\n",
              "        const docLink = document.createElement('div');\n",
              "        docLink.innerHTML = docLinkHtml;\n",
              "        element.appendChild(docLink);\n",
              "      }\n",
              "    </script>\n",
              "  </div>\n",
              "\n",
              "\n",
              "<div id=\"df-3eb4e608-8241-4f90-b876-f646b6b78f18\">\n",
              "  <button class=\"colab-df-quickchart\" onclick=\"quickchart('df-3eb4e608-8241-4f90-b876-f646b6b78f18')\"\n",
              "            title=\"Suggest charts\"\n",
              "            style=\"display:none;\">\n",
              "\n",
              "<svg xmlns=\"http://www.w3.org/2000/svg\" height=\"24px\"viewBox=\"0 0 24 24\"\n",
              "     width=\"24px\">\n",
              "    <g>\n",
              "        <path d=\"M19 3H5c-1.1 0-2 .9-2 2v14c0 1.1.9 2 2 2h14c1.1 0 2-.9 2-2V5c0-1.1-.9-2-2-2zM9 17H7v-7h2v7zm4 0h-2V7h2v10zm4 0h-2v-4h2v4z\"/>\n",
              "    </g>\n",
              "</svg>\n",
              "  </button>\n",
              "\n",
              "<style>\n",
              "  .colab-df-quickchart {\n",
              "      --bg-color: #E8F0FE;\n",
              "      --fill-color: #1967D2;\n",
              "      --hover-bg-color: #E2EBFA;\n",
              "      --hover-fill-color: #174EA6;\n",
              "      --disabled-fill-color: #AAA;\n",
              "      --disabled-bg-color: #DDD;\n",
              "  }\n",
              "\n",
              "  [theme=dark] .colab-df-quickchart {\n",
              "      --bg-color: #3B4455;\n",
              "      --fill-color: #D2E3FC;\n",
              "      --hover-bg-color: #434B5C;\n",
              "      --hover-fill-color: #FFFFFF;\n",
              "      --disabled-bg-color: #3B4455;\n",
              "      --disabled-fill-color: #666;\n",
              "  }\n",
              "\n",
              "  .colab-df-quickchart {\n",
              "    background-color: var(--bg-color);\n",
              "    border: none;\n",
              "    border-radius: 50%;\n",
              "    cursor: pointer;\n",
              "    display: none;\n",
              "    fill: var(--fill-color);\n",
              "    height: 32px;\n",
              "    padding: 0;\n",
              "    width: 32px;\n",
              "  }\n",
              "\n",
              "  .colab-df-quickchart:hover {\n",
              "    background-color: var(--hover-bg-color);\n",
              "    box-shadow: 0 1px 2px rgba(60, 64, 67, 0.3), 0 1px 3px 1px rgba(60, 64, 67, 0.15);\n",
              "    fill: var(--button-hover-fill-color);\n",
              "  }\n",
              "\n",
              "  .colab-df-quickchart-complete:disabled,\n",
              "  .colab-df-quickchart-complete:disabled:hover {\n",
              "    background-color: var(--disabled-bg-color);\n",
              "    fill: var(--disabled-fill-color);\n",
              "    box-shadow: none;\n",
              "  }\n",
              "\n",
              "  .colab-df-spinner {\n",
              "    border: 2px solid var(--fill-color);\n",
              "    border-color: transparent;\n",
              "    border-bottom-color: var(--fill-color);\n",
              "    animation:\n",
              "      spin 1s steps(1) infinite;\n",
              "  }\n",
              "\n",
              "  @keyframes spin {\n",
              "    0% {\n",
              "      border-color: transparent;\n",
              "      border-bottom-color: var(--fill-color);\n",
              "      border-left-color: var(--fill-color);\n",
              "    }\n",
              "    20% {\n",
              "      border-color: transparent;\n",
              "      border-left-color: var(--fill-color);\n",
              "      border-top-color: var(--fill-color);\n",
              "    }\n",
              "    30% {\n",
              "      border-color: transparent;\n",
              "      border-left-color: var(--fill-color);\n",
              "      border-top-color: var(--fill-color);\n",
              "      border-right-color: var(--fill-color);\n",
              "    }\n",
              "    40% {\n",
              "      border-color: transparent;\n",
              "      border-right-color: var(--fill-color);\n",
              "      border-top-color: var(--fill-color);\n",
              "    }\n",
              "    60% {\n",
              "      border-color: transparent;\n",
              "      border-right-color: var(--fill-color);\n",
              "    }\n",
              "    80% {\n",
              "      border-color: transparent;\n",
              "      border-right-color: var(--fill-color);\n",
              "      border-bottom-color: var(--fill-color);\n",
              "    }\n",
              "    90% {\n",
              "      border-color: transparent;\n",
              "      border-bottom-color: var(--fill-color);\n",
              "    }\n",
              "  }\n",
              "</style>\n",
              "\n",
              "  <script>\n",
              "    async function quickchart(key) {\n",
              "      const quickchartButtonEl =\n",
              "        document.querySelector('#' + key + ' button');\n",
              "      quickchartButtonEl.disabled = true;  // To prevent multiple clicks.\n",
              "      quickchartButtonEl.classList.add('colab-df-spinner');\n",
              "      try {\n",
              "        const charts = await google.colab.kernel.invokeFunction(\n",
              "            'suggestCharts', [key], {});\n",
              "      } catch (error) {\n",
              "        console.error('Error during call to suggestCharts:', error);\n",
              "      }\n",
              "      quickchartButtonEl.classList.remove('colab-df-spinner');\n",
              "      quickchartButtonEl.classList.add('colab-df-quickchart-complete');\n",
              "    }\n",
              "    (() => {\n",
              "      let quickchartButtonEl =\n",
              "        document.querySelector('#df-3eb4e608-8241-4f90-b876-f646b6b78f18 button');\n",
              "      quickchartButtonEl.style.display =\n",
              "        google.colab.kernel.accessAllowed ? 'block' : 'none';\n",
              "    })();\n",
              "  </script>\n",
              "</div>\n",
              "    </div>\n",
              "  </div>\n"
            ]
          },
          "metadata": {},
          "execution_count": 6
        }
      ]
    },
    {
      "cell_type": "code",
      "metadata": {
        "id": "APDqH3o1RyGv"
      },
      "source": [
        "news_df.to_csv('news_df_mentorama.csv')"
      ],
      "execution_count": null,
      "outputs": []
    },
    {
      "cell_type": "markdown",
      "metadata": {
        "id": "-8WuAcgKRyGw"
      },
      "source": [
        "Para saber:\n",
        "\n",
        "- *Token*: uma unidade do texto, pode ser uma palavra, uma frase, etc.\n",
        "- *Documento*: uma sequencia de tokens, por exemplo um livro ou um artigo\n",
        "- *Corpus*: um conjunto de documentos.\n",
        "- *Document Term Matrix*: uma matrix que descreve a frequencia de termos em um corpus\n",
        "- *Stopwords*: palavras que não contém informação, que ocorrem com muita frequência.\n",
        "\n",
        "Definindo função que processa o texto e retorna o texto tokenizado e sem stopwords, emoji, pontuação e números, etc:"
      ]
    },
    {
      "cell_type": "code",
      "metadata": {
        "id": "zRIQ_GU_RyGx"
      },
      "source": [
        "def preprocess_text(text, remove_stop = True, stem_words = False, remove_mentions_hashtags = True):\n",
        "    \"\"\"\n",
        "    eg:\n",
        "    input: preprocess_text(\"@water #dream hi hello where are you going be there tomorrow happening happen happens\",\n",
        "    stem_words = True)\n",
        "    output: ['tomorrow', 'happen', 'go', 'hello']\n",
        "    \"\"\"\n",
        "\n",
        "    # Remove emojis\n",
        "    emoji_pattern = re.compile(\"[\" \"\\U0001F1E0-\\U0001F6FF\" \"]+\", flags=re.UNICODE)\n",
        "    text = emoji_pattern.sub(r\"\", str(text))\n",
        "    text = \"\".join([x for x in text if x not in emoji.EMOJI_DATA])\n",
        "\n",
        "    if remove_mentions_hashtags:\n",
        "        text = re.sub(r\"@(\\w+)\", \" \", text)\n",
        "        text = re.sub(r\"#(\\w+)\", \" \", text)\n",
        "\n",
        "    text = re.sub(r\"[^\\x00-\\x7F]+\", \" \", text)\n",
        "    regex = re.compile('[' + re.escape(string.punctuation) + '0-9\\\\r\\\\t\\\\n]') # remove punctuation and numbers\n",
        "    nopunct = regex.sub(\" \", text.lower())\n",
        "    words = (''.join(nopunct)).split()\n",
        "\n",
        "    if(remove_stop):\n",
        "        words = [w for w in words if w not in ENGLISH_STOP_WORDS]\n",
        "        words = [w for w in words if len(w) > 2]  # remove a,an,of etc.\n",
        "\n",
        "    if(stem_words):\n",
        "        stemmer = PorterStemmer()\n",
        "        words = [stemmer.stem(w) for w in words]\n",
        "\n",
        "    return list(words)"
      ],
      "execution_count": null,
      "outputs": []
    },
    {
      "cell_type": "code",
      "metadata": {
        "id": "br7iJy8wRyGy"
      },
      "source": [
        "rows, cols = news_df.shape"
      ],
      "execution_count": null,
      "outputs": []
    },
    {
      "cell_type": "code",
      "metadata": {
        "id": "iTjB2VBNRyGy"
      },
      "source": [
        "#processando os textos\n",
        "news_df['token'] = [preprocess_text(news_df[\"news_article\"][row]) for row in range(rows)]"
      ],
      "execution_count": null,
      "outputs": []
    },
    {
      "cell_type": "code",
      "metadata": {
        "scrolled": false,
        "id": "c-OaAKBiRyGz",
        "outputId": "ee7a2bd2-ac3c-43fc-cb96-9b3b47323f97",
        "colab": {
          "base_uri": "https://localhost:8080/",
          "height": 275
        }
      },
      "source": [
        "news_df.head()"
      ],
      "execution_count": null,
      "outputs": [
        {
          "output_type": "execute_result",
          "data": {
            "text/plain": [
              "                                       news_headline  \\\n",
              "0  US, India, Taiwan representatives collaborate ...   \n",
              "1  IIT Kanpur alumnus donates ₹1.6 cr to form 3 e...   \n",
              "2  Apple Watch Innovation: External Flashlight In...   \n",
              "3  New millimeter wave sensor measures extremely ...   \n",
              "4        Ola Electric to file for IPO by December 20   \n",
              "\n",
              "                                        news_article news_category  \\\n",
              "0  A joint workshop was convened under the GCTF o...    technology   \n",
              "1  IIT Kanpur alumnus Ashish Karandikar has donat...    technology   \n",
              "2  The upcoming Apple Watch, hinted by a leaked p...    technology   \n",
              "3  Researchers at the University of California, D...    technology   \n",
              "4  Ola Electric will file its DRHP to list on Ind...    technology   \n",
              "\n",
              "                                               token  \n",
              "0  [joint, workshop, convened, gctf, monday, work...  \n",
              "1  [iit, kanpur, alumnus, ashish, karandikar, don...  \n",
              "2  [upcoming, apple, watch, hinted, leaked, paten...  \n",
              "3  [researchers, university, california, davis, d...  \n",
              "4  [ola, electric, file, drhp, list, indian, bour...  "
            ],
            "text/html": [
              "\n",
              "  <div id=\"df-06f83b5d-69cb-47b8-893c-4b5112b1bab1\" class=\"colab-df-container\">\n",
              "    <div>\n",
              "<style scoped>\n",
              "    .dataframe tbody tr th:only-of-type {\n",
              "        vertical-align: middle;\n",
              "    }\n",
              "\n",
              "    .dataframe tbody tr th {\n",
              "        vertical-align: top;\n",
              "    }\n",
              "\n",
              "    .dataframe thead th {\n",
              "        text-align: right;\n",
              "    }\n",
              "</style>\n",
              "<table border=\"1\" class=\"dataframe\">\n",
              "  <thead>\n",
              "    <tr style=\"text-align: right;\">\n",
              "      <th></th>\n",
              "      <th>news_headline</th>\n",
              "      <th>news_article</th>\n",
              "      <th>news_category</th>\n",
              "      <th>token</th>\n",
              "    </tr>\n",
              "  </thead>\n",
              "  <tbody>\n",
              "    <tr>\n",
              "      <th>0</th>\n",
              "      <td>US, India, Taiwan representatives collaborate ...</td>\n",
              "      <td>A joint workshop was convened under the GCTF o...</td>\n",
              "      <td>technology</td>\n",
              "      <td>[joint, workshop, convened, gctf, monday, work...</td>\n",
              "    </tr>\n",
              "    <tr>\n",
              "      <th>1</th>\n",
              "      <td>IIT Kanpur alumnus donates ₹1.6 cr to form 3 e...</td>\n",
              "      <td>IIT Kanpur alumnus Ashish Karandikar has donat...</td>\n",
              "      <td>technology</td>\n",
              "      <td>[iit, kanpur, alumnus, ashish, karandikar, don...</td>\n",
              "    </tr>\n",
              "    <tr>\n",
              "      <th>2</th>\n",
              "      <td>Apple Watch Innovation: External Flashlight In...</td>\n",
              "      <td>The upcoming Apple Watch, hinted by a leaked p...</td>\n",
              "      <td>technology</td>\n",
              "      <td>[upcoming, apple, watch, hinted, leaked, paten...</td>\n",
              "    </tr>\n",
              "    <tr>\n",
              "      <th>3</th>\n",
              "      <td>New millimeter wave sensor measures extremely ...</td>\n",
              "      <td>Researchers at the University of California, D...</td>\n",
              "      <td>technology</td>\n",
              "      <td>[researchers, university, california, davis, d...</td>\n",
              "    </tr>\n",
              "    <tr>\n",
              "      <th>4</th>\n",
              "      <td>Ola Electric to file for IPO by December 20</td>\n",
              "      <td>Ola Electric will file its DRHP to list on Ind...</td>\n",
              "      <td>technology</td>\n",
              "      <td>[ola, electric, file, drhp, list, indian, bour...</td>\n",
              "    </tr>\n",
              "  </tbody>\n",
              "</table>\n",
              "</div>\n",
              "    <div class=\"colab-df-buttons\">\n",
              "\n",
              "  <div class=\"colab-df-container\">\n",
              "    <button class=\"colab-df-convert\" onclick=\"convertToInteractive('df-06f83b5d-69cb-47b8-893c-4b5112b1bab1')\"\n",
              "            title=\"Convert this dataframe to an interactive table.\"\n",
              "            style=\"display:none;\">\n",
              "\n",
              "  <svg xmlns=\"http://www.w3.org/2000/svg\" height=\"24px\" viewBox=\"0 -960 960 960\">\n",
              "    <path d=\"M120-120v-720h720v720H120Zm60-500h600v-160H180v160Zm220 220h160v-160H400v160Zm0 220h160v-160H400v160ZM180-400h160v-160H180v160Zm440 0h160v-160H620v160ZM180-180h160v-160H180v160Zm440 0h160v-160H620v160Z\"/>\n",
              "  </svg>\n",
              "    </button>\n",
              "\n",
              "  <style>\n",
              "    .colab-df-container {\n",
              "      display:flex;\n",
              "      gap: 12px;\n",
              "    }\n",
              "\n",
              "    .colab-df-convert {\n",
              "      background-color: #E8F0FE;\n",
              "      border: none;\n",
              "      border-radius: 50%;\n",
              "      cursor: pointer;\n",
              "      display: none;\n",
              "      fill: #1967D2;\n",
              "      height: 32px;\n",
              "      padding: 0 0 0 0;\n",
              "      width: 32px;\n",
              "    }\n",
              "\n",
              "    .colab-df-convert:hover {\n",
              "      background-color: #E2EBFA;\n",
              "      box-shadow: 0px 1px 2px rgba(60, 64, 67, 0.3), 0px 1px 3px 1px rgba(60, 64, 67, 0.15);\n",
              "      fill: #174EA6;\n",
              "    }\n",
              "\n",
              "    .colab-df-buttons div {\n",
              "      margin-bottom: 4px;\n",
              "    }\n",
              "\n",
              "    [theme=dark] .colab-df-convert {\n",
              "      background-color: #3B4455;\n",
              "      fill: #D2E3FC;\n",
              "    }\n",
              "\n",
              "    [theme=dark] .colab-df-convert:hover {\n",
              "      background-color: #434B5C;\n",
              "      box-shadow: 0px 1px 3px 1px rgba(0, 0, 0, 0.15);\n",
              "      filter: drop-shadow(0px 1px 2px rgba(0, 0, 0, 0.3));\n",
              "      fill: #FFFFFF;\n",
              "    }\n",
              "  </style>\n",
              "\n",
              "    <script>\n",
              "      const buttonEl =\n",
              "        document.querySelector('#df-06f83b5d-69cb-47b8-893c-4b5112b1bab1 button.colab-df-convert');\n",
              "      buttonEl.style.display =\n",
              "        google.colab.kernel.accessAllowed ? 'block' : 'none';\n",
              "\n",
              "      async function convertToInteractive(key) {\n",
              "        const element = document.querySelector('#df-06f83b5d-69cb-47b8-893c-4b5112b1bab1');\n",
              "        const dataTable =\n",
              "          await google.colab.kernel.invokeFunction('convertToInteractive',\n",
              "                                                    [key], {});\n",
              "        if (!dataTable) return;\n",
              "\n",
              "        const docLinkHtml = 'Like what you see? Visit the ' +\n",
              "          '<a target=\"_blank\" href=https://colab.research.google.com/notebooks/data_table.ipynb>data table notebook</a>'\n",
              "          + ' to learn more about interactive tables.';\n",
              "        element.innerHTML = '';\n",
              "        dataTable['output_type'] = 'display_data';\n",
              "        await google.colab.output.renderOutput(dataTable, element);\n",
              "        const docLink = document.createElement('div');\n",
              "        docLink.innerHTML = docLinkHtml;\n",
              "        element.appendChild(docLink);\n",
              "      }\n",
              "    </script>\n",
              "  </div>\n",
              "\n",
              "\n",
              "<div id=\"df-c04c98dc-2c22-4bee-9b9a-1da623c98c6a\">\n",
              "  <button class=\"colab-df-quickchart\" onclick=\"quickchart('df-c04c98dc-2c22-4bee-9b9a-1da623c98c6a')\"\n",
              "            title=\"Suggest charts\"\n",
              "            style=\"display:none;\">\n",
              "\n",
              "<svg xmlns=\"http://www.w3.org/2000/svg\" height=\"24px\"viewBox=\"0 0 24 24\"\n",
              "     width=\"24px\">\n",
              "    <g>\n",
              "        <path d=\"M19 3H5c-1.1 0-2 .9-2 2v14c0 1.1.9 2 2 2h14c1.1 0 2-.9 2-2V5c0-1.1-.9-2-2-2zM9 17H7v-7h2v7zm4 0h-2V7h2v10zm4 0h-2v-4h2v4z\"/>\n",
              "    </g>\n",
              "</svg>\n",
              "  </button>\n",
              "\n",
              "<style>\n",
              "  .colab-df-quickchart {\n",
              "      --bg-color: #E8F0FE;\n",
              "      --fill-color: #1967D2;\n",
              "      --hover-bg-color: #E2EBFA;\n",
              "      --hover-fill-color: #174EA6;\n",
              "      --disabled-fill-color: #AAA;\n",
              "      --disabled-bg-color: #DDD;\n",
              "  }\n",
              "\n",
              "  [theme=dark] .colab-df-quickchart {\n",
              "      --bg-color: #3B4455;\n",
              "      --fill-color: #D2E3FC;\n",
              "      --hover-bg-color: #434B5C;\n",
              "      --hover-fill-color: #FFFFFF;\n",
              "      --disabled-bg-color: #3B4455;\n",
              "      --disabled-fill-color: #666;\n",
              "  }\n",
              "\n",
              "  .colab-df-quickchart {\n",
              "    background-color: var(--bg-color);\n",
              "    border: none;\n",
              "    border-radius: 50%;\n",
              "    cursor: pointer;\n",
              "    display: none;\n",
              "    fill: var(--fill-color);\n",
              "    height: 32px;\n",
              "    padding: 0;\n",
              "    width: 32px;\n",
              "  }\n",
              "\n",
              "  .colab-df-quickchart:hover {\n",
              "    background-color: var(--hover-bg-color);\n",
              "    box-shadow: 0 1px 2px rgba(60, 64, 67, 0.3), 0 1px 3px 1px rgba(60, 64, 67, 0.15);\n",
              "    fill: var(--button-hover-fill-color);\n",
              "  }\n",
              "\n",
              "  .colab-df-quickchart-complete:disabled,\n",
              "  .colab-df-quickchart-complete:disabled:hover {\n",
              "    background-color: var(--disabled-bg-color);\n",
              "    fill: var(--disabled-fill-color);\n",
              "    box-shadow: none;\n",
              "  }\n",
              "\n",
              "  .colab-df-spinner {\n",
              "    border: 2px solid var(--fill-color);\n",
              "    border-color: transparent;\n",
              "    border-bottom-color: var(--fill-color);\n",
              "    animation:\n",
              "      spin 1s steps(1) infinite;\n",
              "  }\n",
              "\n",
              "  @keyframes spin {\n",
              "    0% {\n",
              "      border-color: transparent;\n",
              "      border-bottom-color: var(--fill-color);\n",
              "      border-left-color: var(--fill-color);\n",
              "    }\n",
              "    20% {\n",
              "      border-color: transparent;\n",
              "      border-left-color: var(--fill-color);\n",
              "      border-top-color: var(--fill-color);\n",
              "    }\n",
              "    30% {\n",
              "      border-color: transparent;\n",
              "      border-left-color: var(--fill-color);\n",
              "      border-top-color: var(--fill-color);\n",
              "      border-right-color: var(--fill-color);\n",
              "    }\n",
              "    40% {\n",
              "      border-color: transparent;\n",
              "      border-right-color: var(--fill-color);\n",
              "      border-top-color: var(--fill-color);\n",
              "    }\n",
              "    60% {\n",
              "      border-color: transparent;\n",
              "      border-right-color: var(--fill-color);\n",
              "    }\n",
              "    80% {\n",
              "      border-color: transparent;\n",
              "      border-right-color: var(--fill-color);\n",
              "      border-bottom-color: var(--fill-color);\n",
              "    }\n",
              "    90% {\n",
              "      border-color: transparent;\n",
              "      border-bottom-color: var(--fill-color);\n",
              "    }\n",
              "  }\n",
              "</style>\n",
              "\n",
              "  <script>\n",
              "    async function quickchart(key) {\n",
              "      const quickchartButtonEl =\n",
              "        document.querySelector('#' + key + ' button');\n",
              "      quickchartButtonEl.disabled = true;  // To prevent multiple clicks.\n",
              "      quickchartButtonEl.classList.add('colab-df-spinner');\n",
              "      try {\n",
              "        const charts = await google.colab.kernel.invokeFunction(\n",
              "            'suggestCharts', [key], {});\n",
              "      } catch (error) {\n",
              "        console.error('Error during call to suggestCharts:', error);\n",
              "      }\n",
              "      quickchartButtonEl.classList.remove('colab-df-spinner');\n",
              "      quickchartButtonEl.classList.add('colab-df-quickchart-complete');\n",
              "    }\n",
              "    (() => {\n",
              "      let quickchartButtonEl =\n",
              "        document.querySelector('#df-c04c98dc-2c22-4bee-9b9a-1da623c98c6a button');\n",
              "      quickchartButtonEl.style.display =\n",
              "        google.colab.kernel.accessAllowed ? 'block' : 'none';\n",
              "    })();\n",
              "  </script>\n",
              "</div>\n",
              "    </div>\n",
              "  </div>\n"
            ]
          },
          "metadata": {},
          "execution_count": 11
        }
      ]
    },
    {
      "cell_type": "markdown",
      "metadata": {
        "id": "0-eDtBCBRyGz"
      },
      "source": [
        "# Word Embedding"
      ]
    },
    {
      "cell_type": "markdown",
      "metadata": {
        "id": "jc2HJyvwRyGz"
      },
      "source": [
        "Depois que temos o texto com tokens, vamos usar uma rede neural que recebe palavras e entrega vetores que representam ela em um espaço vetorial."
      ]
    },
    {
      "cell_type": "markdown",
      "metadata": {
        "id": "p8E0Y6p8RyG0"
      },
      "source": [
        "# documentação importante:\n",
        "https://spacy.io/usage"
      ]
    },
    {
      "cell_type": "code",
      "metadata": {
        "collapsed": true,
        "id": "EwHEs068RyG0",
        "outputId": "c87c327e-c7d2-4761-baac-c1b7b7ba6764",
        "colab": {
          "base_uri": "https://localhost:8080/"
        }
      },
      "source": [
        "!python -m spacy download en_core_web_md --quiet"
      ],
      "execution_count": null,
      "outputs": [
        {
          "output_type": "stream",
          "name": "stdout",
          "text": [
            "2023-12-12 13:00:57.855962: E tensorflow/compiler/xla/stream_executor/cuda/cuda_dnn.cc:9342] Unable to register cuDNN factory: Attempting to register factory for plugin cuDNN when one has already been registered\n",
            "2023-12-12 13:00:57.856041: E tensorflow/compiler/xla/stream_executor/cuda/cuda_fft.cc:609] Unable to register cuFFT factory: Attempting to register factory for plugin cuFFT when one has already been registered\n",
            "2023-12-12 13:00:57.856090: E tensorflow/compiler/xla/stream_executor/cuda/cuda_blas.cc:1518] Unable to register cuBLAS factory: Attempting to register factory for plugin cuBLAS when one has already been registered\n",
            "2023-12-12 13:00:59.268879: W tensorflow/compiler/tf2tensorrt/utils/py_utils.cc:38] TF-TRT Warning: Could not find TensorRT\n",
            "\u001b[2K     \u001b[90m━━━━━━━━━━━━━━━━━━━━━━━━━━━━━━━━━━━━━━━━\u001b[0m \u001b[32m42.8/42.8 MB\u001b[0m \u001b[31m13.5 MB/s\u001b[0m eta \u001b[36m0:00:00\u001b[0m\n",
            "\u001b[?25h\u001b[38;5;2m✔ Download and installation successful\u001b[0m\n",
            "You can now load the package via spacy.load('en_core_web_md')\n"
          ]
        }
      ]
    },
    {
      "cell_type": "code",
      "metadata": {
        "id": "J426_C9ORyG1"
      },
      "source": [
        "import spacy"
      ],
      "execution_count": null,
      "outputs": []
    },
    {
      "cell_type": "code",
      "metadata": {
        "id": "3vlVdgvwRyG2"
      },
      "source": [
        "nlp = spacy.load('en_core_web_md')"
      ],
      "execution_count": null,
      "outputs": []
    },
    {
      "cell_type": "code",
      "metadata": {
        "id": "W7ulo8ABRyG3"
      },
      "source": [
        "# definindo função que retorna os vetores para cada palavra:\n",
        "def vec(s):\n",
        "    return nlp.vocab[s].vector"
      ],
      "execution_count": null,
      "outputs": []
    },
    {
      "cell_type": "markdown",
      "metadata": {
        "id": "j9DDdPhsRyG3"
      },
      "source": [
        "# Vetorizando cada palavra.\n",
        "Aqui, como cada documento tem um número diferente de palavras, vamos ter matrizes com diferentes dimensões. Nosso objetivo final é conseguir representar cada documento como um vetor que resume o documento. Ou seja, queremos representar diferentes matrizes como vetores. Existem várias formas de fazer isso (média dos vetores, média ponderada pelo TF-IDF, PCA...), mas nesse teste vamos fazer uma média simples."
      ]
    },
    {
      "cell_type": "code",
      "metadata": {
        "id": "3S3XI7FoRyG4"
      },
      "source": [
        "vec_size = 300\n",
        "list_of_matrix = []\n",
        "for corpus in news_df['token']:\n",
        "    matrix = np.empty([len(corpus), vec_size])\n",
        "    for idx, word in enumerate(corpus):\n",
        "        matrix[idx,:] = vec(word)\n",
        "    list_of_matrix.append(matrix)"
      ],
      "execution_count": null,
      "outputs": []
    },
    {
      "cell_type": "code",
      "metadata": {
        "scrolled": true,
        "id": "t5Ql9V8xRyG6"
      },
      "source": [
        "final_feature_matrix = np.empty([rows, vec_size])\n",
        "\n",
        "for row in range(rows):\n",
        "    final_feature_matrix[row,:] = list_of_matrix[row].mean(axis = 0)"
      ],
      "execution_count": null,
      "outputs": []
    },
    {
      "cell_type": "code",
      "metadata": {
        "scrolled": true,
        "id": "TK658e0MRyG6",
        "outputId": "12490e99-ac5a-42b2-ece8-1a5178a0d00e",
        "colab": {
          "base_uri": "https://localhost:8080/"
        }
      },
      "source": [
        "final_feature_matrix.shape"
      ],
      "execution_count": null,
      "outputs": [
        {
          "output_type": "execute_result",
          "data": {
            "text/plain": [
              "(30, 300)"
            ]
          },
          "metadata": {},
          "execution_count": 18
        }
      ]
    },
    {
      "cell_type": "markdown",
      "metadata": {
        "id": "crsiKXMCRyG7"
      },
      "source": [
        "# Clusterização de matérias:\n",
        "\n",
        "Agora que temos um vetor que representa cada documento, vamos usar algum método de clusterização pra tentar recuperar as editorias selecionadas lá no início. Vamos rodar um k-means em cada vetor que representa um documento e (como é um teste), pedir 3 clusters para ele."
      ]
    },
    {
      "cell_type": "code",
      "metadata": {
        "scrolled": true,
        "id": "WQ4T-gjmRyG7",
        "outputId": "14b83ebb-d82c-4ef8-c63b-73ebebcdfa6e",
        "colab": {
          "base_uri": "https://localhost:8080/"
        }
      },
      "source": [
        "from sklearn.cluster import KMeans\n",
        "import numpy as np\n",
        "kmeans = KMeans(n_clusters=3, random_state=0).fit(final_feature_matrix)\n",
        "kmeans.labels_"
      ],
      "execution_count": null,
      "outputs": [
        {
          "output_type": "stream",
          "name": "stderr",
          "text": [
            "/usr/local/lib/python3.10/dist-packages/sklearn/cluster/_kmeans.py:870: FutureWarning: The default value of `n_init` will change from 10 to 'auto' in 1.4. Set the value of `n_init` explicitly to suppress the warning\n",
            "  warnings.warn(\n"
          ]
        },
        {
          "output_type": "execute_result",
          "data": {
            "text/plain": [
              "array([2, 2, 0, 0, 0, 0, 0, 0, 0, 2, 1, 1, 1, 1, 1, 1, 1, 1, 1, 1, 2, 2,\n",
              "       2, 2, 2, 2, 2, 2, 2, 0], dtype=int32)"
            ]
          },
          "metadata": {},
          "execution_count": 19
        }
      ]
    },
    {
      "cell_type": "markdown",
      "metadata": {
        "id": "QsDAoJ3HRyG8"
      },
      "source": [
        "Vamos ver como o k-means separou cada grupo e olhar o label verdadeiro para validar nosso método:"
      ]
    },
    {
      "cell_type": "code",
      "metadata": {
        "scrolled": true,
        "id": "NLhf0-b8RyG8",
        "outputId": "e666477b-8da7-442d-d9e2-f1d77ecd2d76",
        "colab": {
          "base_uri": "https://localhost:8080/"
        }
      },
      "source": [
        "print(news_df[\"news_category\"][kmeans.labels_ == 0])\n",
        "print(news_df[\"news_category\"][kmeans.labels_ == 1])\n",
        "print(news_df[\"news_category\"][kmeans.labels_ == 2])"
      ],
      "execution_count": null,
      "outputs": [
        {
          "output_type": "stream",
          "name": "stdout",
          "text": [
            "2     technology\n",
            "3     technology\n",
            "4     technology\n",
            "5     technology\n",
            "6     technology\n",
            "7     technology\n",
            "8     technology\n",
            "29         world\n",
            "Name: news_category, dtype: object\n",
            "10    sports\n",
            "11    sports\n",
            "12    sports\n",
            "13    sports\n",
            "14    sports\n",
            "15    sports\n",
            "16    sports\n",
            "17    sports\n",
            "18    sports\n",
            "19    sports\n",
            "Name: news_category, dtype: object\n",
            "0     technology\n",
            "1     technology\n",
            "9     technology\n",
            "20         world\n",
            "21         world\n",
            "22         world\n",
            "23         world\n",
            "24         world\n",
            "25         world\n",
            "26         world\n",
            "27         world\n",
            "28         world\n",
            "Name: news_category, dtype: object\n"
          ]
        }
      ]
    },
    {
      "cell_type": "markdown",
      "metadata": {
        "id": "e3jKCKaURyG9"
      },
      "source": [
        "Conseguimos separar bem as editorias por assuntos."
      ]
    },
    {
      "cell_type": "markdown",
      "metadata": {
        "id": "IKr2uZmiRyG9"
      },
      "source": [
        "# Notícia mais similar usando distância euclidiana\n",
        "\n",
        "Vamos agora tentar identificar, dado um documento, qual é o documento mais similar a ele."
      ]
    },
    {
      "cell_type": "code",
      "metadata": {
        "id": "ii85a8xsRyG9"
      },
      "source": [
        "def get_closest(list_of_articles, article_position, df):\n",
        "    article_vec = list_of_articles[article_position,:]\n",
        "    other_vec = np.delete(list_of_articles, article_position, 0)\n",
        "    from scipy import spatial\n",
        "    A = [other_vec[row,:] for row in range(other_vec.shape[0])]\n",
        "    tree = spatial.KDTree(A)\n",
        "    closest_position = tree.query(article_vec)[1]\n",
        "    print(df[article_position].string)\n",
        "    print(df[closest_position].string)\n",
        "    return tree.query(article_vec)[0], closest_position"
      ],
      "execution_count": null,
      "outputs": []
    },
    {
      "cell_type": "code",
      "metadata": {
        "scrolled": true,
        "id": "yGexv0EjRyG9",
        "outputId": "df1d5928-5cab-4e28-ca29-0055d6b6ec1b",
        "colab": {
          "base_uri": "https://localhost:8080/"
        }
      },
      "source": [
        "get_closest(final_feature_matrix, 10, news_df[\"news_article\"])"
      ],
      "execution_count": null,
      "outputs": [
        {
          "output_type": "stream",
          "name": "stdout",
          "text": [
            "Ex-Chelsea footballer John Obi Mikel said Manchester United footballer Anthony Martial moans and shakes his head, adding that he is never able to understand what Martial does at a football club. \"If you're not playing well...kick somebody. Start a fight,\" he added. \"Sometimes when I see him on the pitch...I'm like, 'Is he still in this team?'\" he stated.\n",
            "A video has gone viral showing Sydney Sixers all-rounder Tom Curran getting scared of pitchside flames following a boundary in their Big Bash League match against Hobart Hurricanes. In the video, Curran can be seen jumping after being frightened due to the sudden fireworks. In the video, the commentators can be heard laughing.\n"
          ]
        },
        {
          "output_type": "execute_result",
          "data": {
            "text/plain": [
              "(11.167469377574438, 13)"
            ]
          },
          "metadata": {},
          "execution_count": 22
        }
      ]
    },
    {
      "cell_type": "markdown",
      "metadata": {
        "id": "8JhpMVt8RyG-"
      },
      "source": [
        "# Explorando visualmente os resultados encontrados\n",
        "\n",
        "Como estamos lidando com uma dimensão elevada (300) para cada documento, não conseguimos visualizar com clareza o que estamos clusterizando. Um método simples que permite explorar os resultados obtidos é reduzir a dimensão do problema para 2, 3 e fazer gráficos exploratórios que permitam visualizar os dados.\n"
      ]
    },
    {
      "cell_type": "markdown",
      "source": [
        "Para este exercício vamos reduzir as 300 dimensões para 4 dimensões"
      ],
      "metadata": {
        "id": "f_WMmYJRJfkM"
      }
    },
    {
      "cell_type": "code",
      "metadata": {
        "id": "h-bWISdNRyG-"
      },
      "source": [
        "from sklearn.decomposition import PCA\n",
        "pca = PCA(n_components=3)\n",
        "principalComponents = pca.fit_transform(final_feature_matrix)\n",
        "principalDf = pd.DataFrame(data = principalComponents\n",
        "             ,columns = ['Comp1', 'Comp2', 'Comp3'])"
      ],
      "execution_count": null,
      "outputs": []
    },
    {
      "cell_type": "code",
      "source": [
        "pca.explained_variance_"
      ],
      "metadata": {
        "colab": {
          "base_uri": "https://localhost:8080/"
        },
        "id": "9Y-VqFWQKjLj",
        "outputId": "df78fc6a-3e8c-4427-eb0c-1eda1336d996"
      },
      "execution_count": null,
      "outputs": [
        {
          "output_type": "execute_result",
          "data": {
            "text/plain": [
              "array([42.8263851 , 28.54836173, 19.41461258])"
            ]
          },
          "metadata": {},
          "execution_count": 30
        }
      ]
    },
    {
      "cell_type": "code",
      "metadata": {
        "id": "KzL4MnQzRyG-",
        "outputId": "d55ff9a3-2086-4152-e42a-4ed7b982b6da",
        "colab": {
          "base_uri": "https://localhost:8080/"
        }
      },
      "source": [
        "pca.explained_variance_ratio_   #fornece uma ideia de quanta variação é explicada pelos componentes principais (em percentual)"
      ],
      "execution_count": null,
      "outputs": [
        {
          "output_type": "execute_result",
          "data": {
            "text/plain": [
              "array([0.20928012, 0.13950756, 0.09487358])"
            ]
          },
          "metadata": {},
          "execution_count": 31
        }
      ]
    },
    {
      "cell_type": "markdown",
      "source": [
        "### Obtivemos menos de 50% somando os 3 componentes. O ideal seria termos algo em torno de 80% para evitarmos overfitting e ao mesmo tempo conseguir que os componentes expliquem de forma precisa."
      ],
      "metadata": {
        "id": "kZtupMJGkTk0"
      }
    },
    {
      "cell_type": "code",
      "source": [
        "pca.noise_variance_"
      ],
      "metadata": {
        "colab": {
          "base_uri": "https://localhost:8080/"
        },
        "id": "WC8gaJrVPcdQ",
        "outputId": "860032ae-fa1b-4220-bab3-89b6a07d5b61"
      },
      "execution_count": null,
      "outputs": [
        {
          "output_type": "execute_result",
          "data": {
            "text/plain": [
              "4.2165668002980485"
            ]
          },
          "metadata": {},
          "execution_count": 41
        }
      ]
    },
    {
      "cell_type": "markdown",
      "metadata": {
        "id": "xi6eN71VRyG_"
      },
      "source": [
        "Aqui, vamos plotar o gráfico dos dois primeiros componentes e colorir eles com a cor associada à editoria real dele."
      ]
    },
    {
      "cell_type": "code",
      "metadata": {
        "id": "aiG_Xf6RRyG_",
        "outputId": "d01e3ca6-6a9f-4786-af53-ab745382aa3a",
        "colab": {
          "base_uri": "https://localhost:8080/",
          "height": 472
        }
      },
      "source": [
        "import numpy as np\n",
        "import matplotlib.pyplot as plt\n",
        "\n",
        "# Create data\n",
        "\n",
        "x = principalDf['Comp1']\n",
        "y = principalDf['Comp2']\n",
        "\n",
        "# Plot\n",
        "\n",
        "colors = {'technology':'red', 'world':'blue', 'sports':'green'}\n",
        "plt.scatter(x, y, alpha=0.5, c = news_df['news_category'].apply(lambda x: colors[x]))\n",
        "plt.title('Scatter plot pythonspot.com')\n",
        "plt.xlabel('x')\n",
        "plt.ylabel('y')\n",
        "plt.show()"
      ],
      "execution_count": null,
      "outputs": [
        {
          "output_type": "display_data",
          "data": {
            "text/plain": [
              "<Figure size 640x480 with 1 Axes>"
            ],
            "image/png": "[encoded data removed]"
          },
          "metadata": {}
        }
      ]
    },
    {
      "cell_type": "markdown",
      "source": [
        "Agora vamos plotar os 3 componentes utilizando um gráfico 3D"
      ],
      "metadata": {
        "id": "k9tEd3fYNuk0"
      }
    },
    {
      "cell_type": "code",
      "source": [
        "from mpl_toolkits.mplot3d import Axes3D\n",
        "fig = plt.figure(figsize=(4,4))\n",
        "\n",
        "axis = fig.add_subplot(111, projection='3d')\n",
        "\n",
        "colors = {'technology':'red', 'world':'blue', 'sports':'green'}\n",
        "axis.scatter(principalDf['Comp1'],principalDf['Comp2'],principalDf['Comp3'], c=news_df['news_category'].apply(lambda x: colors[x]))\n",
        "axis.set_xlabel(\"Comp1\", fontsize=10)\n",
        "axis.set_ylabel(\"Comp2\", fontsize=10)\n",
        "axis.set_zlabel(\"Comp3\", fontsize=10)"
      ],
      "metadata": {
        "colab": {
          "base_uri": "https://localhost:8080/",
          "height": 367
        },
        "id": "NPL0IVobLzWQ",
        "outputId": "d4d20ce1-bfc8-41c3-b7fe-24f54f250f83"
      },
      "execution_count": null,
      "outputs": [
        {
          "output_type": "execute_result",
          "data": {
            "text/plain": [
              "Text(0.5, 0, 'Comp3')"
            ]
          },
          "metadata": {},
          "execution_count": 40
        },
        {
          "output_type": "display_data",
          "data": {
            "text/plain": [
              "<Figure size 400x400 with 1 Axes>"
            ],
            "image/png": "[encoded data removed]"
          },
          "metadata": {}
        }
      ]
    },
    {
      "cell_type": "markdown",
      "source": [
        "### Agora vamos utilizar outro método de redução de dimensionalidade ( MDS - Multi-dimensional Scaling )"
      ],
      "metadata": {
        "id": "aVdwKRh_TQd8"
      }
    },
    {
      "cell_type": "code",
      "source": [
        "from sklearn.manifold import MDS"
      ],
      "metadata": {
        "id": "gec9nSAfLzRX"
      },
      "execution_count": null,
      "outputs": []
    },
    {
      "cell_type": "markdown",
      "source": [
        "Vamos utilizar o método com 3 compomentes para que tenhamos uma comparação justa com o método utilizado anteriormente (PCA)"
      ],
      "metadata": {
        "id": "p7k7lEswTxEV"
      }
    },
    {
      "cell_type": "code",
      "source": [
        "mds = MDS(n_components=3, metric=False, normalized_stress=True)\n",
        "transformed = mds.fit_transform(final_feature_matrix)\n",
        "mdsDf = pd.DataFrame(data = transformed,columns = ['Comp1', 'Comp2', 'Comp3'])"
      ],
      "metadata": {
        "id": "SXmTCHOgLzN-"
      },
      "execution_count": null,
      "outputs": []
    },
    {
      "cell_type": "code",
      "source": [
        "mdsDf.shape"
      ],
      "metadata": {
        "colab": {
          "base_uri": "https://localhost:8080/"
        },
        "id": "JaZwQ4fRLzGz",
        "outputId": "ce9e6c16-fc1f-4b5c-b84e-8704d31afa7e"
      },
      "execution_count": null,
      "outputs": [
        {
          "output_type": "execute_result",
          "data": {
            "text/plain": [
              "(30, 3)"
            ]
          },
          "metadata": {},
          "execution_count": 87
        }
      ]
    },
    {
      "cell_type": "code",
      "source": [
        "mds.n_iter_ #número de iterações feitas para atingir o melhor resultado"
      ],
      "metadata": {
        "colab": {
          "base_uri": "https://localhost:8080/"
        },
        "id": "LvF5ZkS9fGjE",
        "outputId": "6e1bd8c7-d981-49d7-e22b-d572d0e044a0"
      },
      "execution_count": null,
      "outputs": [
        {
          "output_type": "execute_result",
          "data": {
            "text/plain": [
              "182"
            ]
          },
          "metadata": {},
          "execution_count": 88
        }
      ]
    },
    {
      "cell_type": "code",
      "source": [
        "mds.stress_  #A value of 0 indicates “perfect” fit, 0.025 excellent, 0.05 good, 0.1 fair, and 0.2 poor"
      ],
      "metadata": {
        "colab": {
          "base_uri": "https://localhost:8080/"
        },
        "id": "XeqKt6DpLzBU",
        "outputId": "eb676b06-d7fa-4878-99e2-56fac5540b77"
      },
      "execution_count": null,
      "outputs": [
        {
          "output_type": "execute_result",
          "data": {
            "text/plain": [
              "0.22236703112089534"
            ]
          },
          "metadata": {},
          "execution_count": 96
        }
      ]
    },
    {
      "cell_type": "markdown",
      "source": [
        "### Obtivemos um valor de 0.2, o que significa um resultado \"pobre\""
      ],
      "metadata": {
        "id": "vnVD6YDbi6eC"
      }
    },
    {
      "cell_type": "code",
      "source": [
        "fig = plt.figure(figsize=(4,4))\n",
        "\n",
        "axis = fig.add_subplot(111, projection='3d')\n",
        "\n",
        "colors = {'technology':'red', 'world':'blue', 'sports':'green'}\n",
        "axis.scatter(mdsDf['Comp1'],mdsDf['Comp2'],mdsDf['Comp3'], c=news_df['news_category'].apply(lambda x: colors[x]))\n",
        "axis.set_xlabel(\"Comp1\", fontsize=10)\n",
        "axis.set_ylabel(\"Comp2\", fontsize=10)\n",
        "axis.set_zlabel(\"Comp3\", fontsize=10)"
      ],
      "metadata": {
        "colab": {
          "base_uri": "https://localhost:8080/",
          "height": 370
        },
        "id": "mu_tt1WzLy4b",
        "outputId": "13a00568-a6bf-4e02-b45c-4b1431da6053"
      },
      "execution_count": null,
      "outputs": [
        {
          "output_type": "execute_result",
          "data": {
            "text/plain": [
              "Text(0.5, 0, 'Comp3')"
            ]
          },
          "metadata": {},
          "execution_count": 63
        },
        {
          "output_type": "display_data",
          "data": {
            "text/plain": [
              "<Figure size 400x400 with 1 Axes>"
            ],
            "image/png": "[encoded data removed]"
          },
          "metadata": {}
        }
      ]
    },
    {
      "cell_type": "markdown",
      "source": [
        "Os dois métodos utilizados acima são técnicas poderosas para redução de dimensionalidade e data visualization.<br>\n",
        "Ambos se baseam em transformação linear, no entanto, O MDS foca mais em preservar distâncias entre pares, enquanto o PCA foca em capturar a variação máxima nos dados. <br>O MDS trabalha diretamente com uma matriz de distância, enquanto o PCA opera na matriz de dados original."
      ],
      "metadata": {
        "id": "5zROM_npVp2Z"
      }
    },
    {
      "cell_type": "markdown",
      "metadata": {
        "id": "UrpI_sDeRyHA"
      },
      "source": [
        "# Em ambos os métodos obtivemos uma resultado não tão satisfatório, mas ainda sim o PCA se saiu melhor , tanto na métrica quanto visualmente."
      ]
    },
    {
      "cell_type": "markdown",
      "source": [
        "Vamos tentar melhorar o resultado do PCA adicionando mais componentes"
      ],
      "metadata": {
        "id": "YOoWsMrllhzJ"
      }
    },
    {
      "cell_type": "code",
      "source": [
        "pca2 = PCA(n_components=5)\n",
        "principalComponents = pca2.fit_transform(final_feature_matrix)\n",
        "sum(pca2.explained_variance_ratio_)"
      ],
      "metadata": {
        "colab": {
          "base_uri": "https://localhost:8080/"
        },
        "id": "2LL1WE85letK",
        "outputId": "3e04ff48-2fcf-4119-c8bc-0a0dacfbbeba"
      },
      "execution_count": null,
      "outputs": [
        {
          "output_type": "execute_result",
          "data": {
            "text/plain": [
              "0.5816141729397774"
            ]
          },
          "metadata": {},
          "execution_count": 101
        }
      ]
    },
    {
      "cell_type": "code",
      "source": [
        "pca3 = PCA(n_components=7)\n",
        "principalComponents = pca3.fit_transform(final_feature_matrix)\n",
        "sum(pca3.explained_variance_ratio_)"
      ],
      "metadata": {
        "colab": {
          "base_uri": "https://localhost:8080/"
        },
        "id": "XPSgfGkAmg-W",
        "outputId": "f733a326-7f26-47bb-b824-c2ae488b5c33"
      },
      "execution_count": null,
      "outputs": [
        {
          "output_type": "execute_result",
          "data": {
            "text/plain": [
              "0.6782653323079375"
            ]
          },
          "metadata": {},
          "execution_count": 102
        }
      ]
    },
    {
      "cell_type": "code",
      "source": [
        "pca4 = PCA(n_components=10)\n",
        "principalComponents = pca4.fit_transform(final_feature_matrix)\n",
        "print(sum(pca4.explained_variance_ratio_))\n",
        "print(pca4.explained_variance_ratio_)"
      ],
      "metadata": {
        "colab": {
          "base_uri": "https://localhost:8080/"
        },
        "id": "WUc1g3P5mr_O",
        "outputId": "27c9b1dd-7371-403c-facc-6b272b0e30f3"
      },
      "execution_count": null,
      "outputs": [
        {
          "output_type": "stream",
          "name": "stdout",
          "text": [
            "0.7820586346554859\n",
            "[0.20928012 0.13950756 0.09487358 0.07661564 0.06133728 0.05086519\n",
            " 0.04578597 0.04016379 0.03293265 0.03069685]\n"
          ]
        }
      ]
    },
    {
      "cell_type": "markdown",
      "source": [
        "Com esta análises adicionais, podemos observar que a partir de uma certa quantidade de componentes, eles acrescentam muito pouco a explicação da variação. Portanto, utilizar algo em torno de 4 ou 5 componentes estaria de bom tamanho."
      ],
      "metadata": {
        "id": "UQUdYRTVn2T8"
      }
    },
    {
      "cell_type": "markdown",
      "source": [
        "Agora, somente por questões educacionais (\"curiosidade\"), vamos adicionar mais componentes ao MDS."
      ],
      "metadata": {
        "id": "7Qq98r1roRGb"
      }
    },
    {
      "cell_type": "code",
      "source": [
        "mds2 = MDS(n_components=5, metric=False, normalized_stress=True)\n",
        "transformed = mds2.fit_transform(final_feature_matrix)\n",
        "mds2.stress_"
      ],
      "metadata": {
        "colab": {
          "base_uri": "https://localhost:8080/"
        },
        "id": "Lo4WgkHHpBwz",
        "outputId": "5850c550-4263-490a-863a-e9b33703f515"
      },
      "execution_count": null,
      "outputs": [
        {
          "output_type": "execute_result",
          "data": {
            "text/plain": [
              "0.17295932124707697"
            ]
          },
          "metadata": {},
          "execution_count": 110
        }
      ]
    },
    {
      "cell_type": "code",
      "source": [
        "mds3 = MDS(n_components=7, metric=False, normalized_stress=True)\n",
        "transformed = mds3.fit_transform(final_feature_matrix)\n",
        "mds3.stress_"
      ],
      "metadata": {
        "colab": {
          "base_uri": "https://localhost:8080/"
        },
        "id": "HYGMLgatpEUz",
        "outputId": "3d5e1e94-f3f0-4767-bea7-ee568eadd887"
      },
      "execution_count": null,
      "outputs": [
        {
          "output_type": "execute_result",
          "data": {
            "text/plain": [
              "0.14152067759425074"
            ]
          },
          "metadata": {},
          "execution_count": 111
        }
      ]
    },
    {
      "cell_type": "code",
      "source": [
        "mds4 = MDS(n_components=10, metric=False, normalized_stress=True)\n",
        "transformed = mds4.fit_transform(final_feature_matrix)\n",
        "mds4.stress_"
      ],
      "metadata": {
        "colab": {
          "base_uri": "https://localhost:8080/"
        },
        "id": "B370U3DGmywi",
        "outputId": "cfdb1e09-40f1-4f6d-b759-93cb20bbf7de"
      },
      "execution_count": null,
      "outputs": [
        {
          "output_type": "execute_result",
          "data": {
            "text/plain": [
              "0.10900342816925157"
            ]
          },
          "metadata": {},
          "execution_count": 112
        }
      ]
    },
    {
      "cell_type": "markdown",
      "source": [
        "Já com o MDS, não conseguimos um bom resultado com 5 componentes, precisaríamos de no mínimo 10 para atingir um stress_ de 0.1 (que é considerado justo)."
      ],
      "metadata": {
        "id": "drZOJP6KpNgU"
      }
    },
    {
      "cell_type": "markdown",
      "source": [
        "# Conclusão<br>\n",
        "Os dois métodos utilizados tem a mesma finalidade e conseguem obter bons resultados se parametrizados de acordo."
      ],
      "metadata": {
        "id": "HAv9c0NCpjpT"
      }
    },
    {
      "cell_type": "code",
      "source": [],
      "metadata": {
        "id": "uVLBw2C_o2Ep"
      },
      "execution_count": null,
      "outputs": []
    }
  ]
}