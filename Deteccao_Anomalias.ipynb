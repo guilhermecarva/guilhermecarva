{
  "cells": [
    {
      "cell_type": "markdown",
      "metadata": {
        "id": "view-in-github",
        "colab_type": "text"
      },
      "source": [
        "<a href=\"https://colab.research.google.com/github/guilhermecarva/guilhermecarva/blob/main/Deteccao_Anomalias.ipynb\" target=\"_parent\"><img src=\"https://colab.research.google.com/assets/colab-badge.svg\" alt=\"Open In Colab\"/></a>"
      ]
    },
    {
      "cell_type": "markdown",
      "metadata": {
        "id": "R4chl2z0qGtA"
      },
      "source": [
        "<br>\n",
        "\n",
        "## __Exercício: Detecção de Anomalias__\n",
        "\n",
        "<br>\n",
        "\n",
        "__1:__\n",
        "\n",
        "Utilizando a classe DetectorAnomalias criada ao longo do módulo, __vamos avaliar um detector de anomalias.__\n",
        "\n",
        "O dataset utilizado pode ser importado através da função getData.\n",
        "\n",
        "Nesse conjunto de dados, possuímos 6 variáveis explicativas, $X_1, .., X_6$ e uma variável com a marcação se a instância é uma anomalia ou não.\n",
        "\n",
        "Utilizando a __metodolodia__ discutida ao longo do módulo, __teste diferentes modelos (variando o limiar $\\epsilon$)__ a fim de encontrar o que __melhor fita os dados.__\n",
        "\n",
        "Justifique as escolhas do $\\epsilon$, bem como quais as métricas de performance abordadas.\n",
        "\n",
        "<br>\n",
        "\n",
        "__2:__\n",
        "\n",
        "Aborde o problema num contexto de aprendizado supervisionado, ou seja, treine modelos de classificação binária com o objetivo de detectar anomalias.\n",
        "\n",
        "Compare os resultados entre as metodologias."
      ]
    },
    {
      "cell_type": "code",
      "execution_count": null,
      "metadata": {
        "id": "d42udSZBqGtE"
      },
      "outputs": [],
      "source": [
        "import pandas as pd\n",
        "import numpy as np\n",
        "import scipy.stats as st\n",
        "import matplotlib.pyplot as plt"
      ]
    },
    {
      "cell_type": "code",
      "execution_count": null,
      "metadata": {
        "id": "rpyeTsAoqGtF"
      },
      "outputs": [],
      "source": [
        "class DetectorAnomalias():\n",
        "\n",
        "    def __init__(self, epsilon):\n",
        "        self.epsilon = epsilon\n",
        "\n",
        "    def fit(self, X):\n",
        "        medias = X.mean(axis = 0)\n",
        "        desvios = X.std(axis = 0)\n",
        "        gaussianas = [st.norm(loc = m, scale = d) for m, d in zip(medias, desvios)]\n",
        "        self.gaussianas = gaussianas\n",
        "        self.X = X\n",
        "\n",
        "    def prob(self, x):\n",
        "        p = 1\n",
        "        for i in range(self.X.shape[1]):\n",
        "            gaussiana_i = self.gaussianas[i]\n",
        "            x_i = x[i]\n",
        "            p *= gaussiana_i.pdf(x_i)\n",
        "        return p\n",
        "\n",
        "    def isAnomaly(self, x):\n",
        "        return int(np.where(self.prob(x) < self.epsilon, 1, 0))"
      ]
    },
    {
      "cell_type": "code",
      "execution_count": null,
      "metadata": {
        "id": "4nfLzS1CqGtF"
      },
      "outputs": [],
      "source": [
        "def getData():\n",
        "    return pd.read_csv(\"dataframe_anomalias_exercicio.csv\")"
      ]
    },
    {
      "cell_type": "code",
      "execution_count": null,
      "metadata": {
        "id": "ClBnKP6eqGtF",
        "outputId": "005c79ee-c3c4-4380-8435-0cc51d9f44d7"
      },
      "outputs": [
        {
          "data": {
            "text/html": [
              "<div>\n",
              "<style scoped>\n",
              "    .dataframe tbody tr th:only-of-type {\n",
              "        vertical-align: middle;\n",
              "    }\n",
              "\n",
              "    .dataframe tbody tr th {\n",
              "        vertical-align: top;\n",
              "    }\n",
              "\n",
              "    .dataframe thead th {\n",
              "        text-align: right;\n",
              "    }\n",
              "</style>\n",
              "<table border=\"1\" class=\"dataframe\">\n",
              "  <thead>\n",
              "    <tr style=\"text-align: right;\">\n",
              "      <th></th>\n",
              "      <th>x1</th>\n",
              "      <th>x2</th>\n",
              "      <th>x3</th>\n",
              "      <th>x4</th>\n",
              "      <th>x5</th>\n",
              "      <th>x6</th>\n",
              "      <th>anomalia</th>\n",
              "    </tr>\n",
              "  </thead>\n",
              "  <tbody>\n",
              "    <tr>\n",
              "      <th>0</th>\n",
              "      <td>7.731153</td>\n",
              "      <td>23.299155</td>\n",
              "      <td>-0.367453</td>\n",
              "      <td>4.715372</td>\n",
              "      <td>9.306179</td>\n",
              "      <td>16.780965</td>\n",
              "      <td>0.0</td>\n",
              "    </tr>\n",
              "    <tr>\n",
              "      <th>1</th>\n",
              "      <td>11.466833</td>\n",
              "      <td>16.943695</td>\n",
              "      <td>-0.245131</td>\n",
              "      <td>7.060311</td>\n",
              "      <td>10.462826</td>\n",
              "      <td>19.821289</td>\n",
              "      <td>0.0</td>\n",
              "    </tr>\n",
              "    <tr>\n",
              "      <th>2</th>\n",
              "      <td>11.501272</td>\n",
              "      <td>20.196011</td>\n",
              "      <td>1.206049</td>\n",
              "      <td>-4.957189</td>\n",
              "      <td>7.771262</td>\n",
              "      <td>19.100079</td>\n",
              "      <td>0.0</td>\n",
              "    </tr>\n",
              "    <tr>\n",
              "      <th>3</th>\n",
              "      <td>10.893921</td>\n",
              "      <td>16.072385</td>\n",
              "      <td>2.738045</td>\n",
              "      <td>-3.684228</td>\n",
              "      <td>7.373334</td>\n",
              "      <td>23.225524</td>\n",
              "      <td>0.0</td>\n",
              "    </tr>\n",
              "    <tr>\n",
              "      <th>4</th>\n",
              "      <td>10.091706</td>\n",
              "      <td>19.253894</td>\n",
              "      <td>0.996895</td>\n",
              "      <td>-9.504052</td>\n",
              "      <td>8.883988</td>\n",
              "      <td>17.903298</td>\n",
              "      <td>0.0</td>\n",
              "    </tr>\n",
              "    <tr>\n",
              "      <th>...</th>\n",
              "      <td>...</td>\n",
              "      <td>...</td>\n",
              "      <td>...</td>\n",
              "      <td>...</td>\n",
              "      <td>...</td>\n",
              "      <td>...</td>\n",
              "      <td>...</td>\n",
              "    </tr>\n",
              "    <tr>\n",
              "      <th>10095</th>\n",
              "      <td>11.192286</td>\n",
              "      <td>18.451987</td>\n",
              "      <td>-0.953650</td>\n",
              "      <td>-14.362996</td>\n",
              "      <td>10.875826</td>\n",
              "      <td>17.056541</td>\n",
              "      <td>0.0</td>\n",
              "    </tr>\n",
              "    <tr>\n",
              "      <th>10096</th>\n",
              "      <td>12.014177</td>\n",
              "      <td>19.461815</td>\n",
              "      <td>1.985099</td>\n",
              "      <td>-7.119190</td>\n",
              "      <td>11.079922</td>\n",
              "      <td>17.582755</td>\n",
              "      <td>0.0</td>\n",
              "    </tr>\n",
              "    <tr>\n",
              "      <th>10097</th>\n",
              "      <td>10.745460</td>\n",
              "      <td>18.175951</td>\n",
              "      <td>0.206037</td>\n",
              "      <td>-1.897015</td>\n",
              "      <td>9.888329</td>\n",
              "      <td>17.963324</td>\n",
              "      <td>0.0</td>\n",
              "    </tr>\n",
              "    <tr>\n",
              "      <th>10098</th>\n",
              "      <td>9.893969</td>\n",
              "      <td>22.333270</td>\n",
              "      <td>-1.465981</td>\n",
              "      <td>4.137382</td>\n",
              "      <td>7.690620</td>\n",
              "      <td>21.570097</td>\n",
              "      <td>0.0</td>\n",
              "    </tr>\n",
              "    <tr>\n",
              "      <th>10099</th>\n",
              "      <td>11.563246</td>\n",
              "      <td>20.777121</td>\n",
              "      <td>-1.145317</td>\n",
              "      <td>-4.650515</td>\n",
              "      <td>11.857622</td>\n",
              "      <td>19.424881</td>\n",
              "      <td>0.0</td>\n",
              "    </tr>\n",
              "  </tbody>\n",
              "</table>\n",
              "<p>10100 rows × 7 columns</p>\n",
              "</div>"
            ],
            "text/plain": [
              "              x1         x2        x3         x4         x5         x6  \\\n",
              "0       7.731153  23.299155 -0.367453   4.715372   9.306179  16.780965   \n",
              "1      11.466833  16.943695 -0.245131   7.060311  10.462826  19.821289   \n",
              "2      11.501272  20.196011  1.206049  -4.957189   7.771262  19.100079   \n",
              "3      10.893921  16.072385  2.738045  -3.684228   7.373334  23.225524   \n",
              "4      10.091706  19.253894  0.996895  -9.504052   8.883988  17.903298   \n",
              "...          ...        ...       ...        ...        ...        ...   \n",
              "10095  11.192286  18.451987 -0.953650 -14.362996  10.875826  17.056541   \n",
              "10096  12.014177  19.461815  1.985099  -7.119190  11.079922  17.582755   \n",
              "10097  10.745460  18.175951  0.206037  -1.897015   9.888329  17.963324   \n",
              "10098   9.893969  22.333270 -1.465981   4.137382   7.690620  21.570097   \n",
              "10099  11.563246  20.777121 -1.145317  -4.650515  11.857622  19.424881   \n",
              "\n",
              "       anomalia  \n",
              "0           0.0  \n",
              "1           0.0  \n",
              "2           0.0  \n",
              "3           0.0  \n",
              "4           0.0  \n",
              "...         ...  \n",
              "10095       0.0  \n",
              "10096       0.0  \n",
              "10097       0.0  \n",
              "10098       0.0  \n",
              "10099       0.0  \n",
              "\n",
              "[10100 rows x 7 columns]"
            ]
          },
          "execution_count": 110,
          "metadata": {},
          "output_type": "execute_result"
        }
      ],
      "source": [
        "df = getData()\n",
        "df"
      ]
    },
    {
      "cell_type": "code",
      "execution_count": null,
      "metadata": {
        "id": "pZlLKCmqqGtG",
        "outputId": "8ff22d95-d4dd-47aa-b0ad-5721dfc2ad0a"
      },
      "outputs": [
        {
          "data": {
            "text/plain": [
              "0.0    10046\n",
              "1.0       54\n",
              "Name: anomalia, dtype: int64"
            ]
          },
          "execution_count": 111,
          "metadata": {},
          "output_type": "execute_result"
        }
      ],
      "source": [
        "df.anomalia.value_counts()"
      ]
    },
    {
      "cell_type": "markdown",
      "metadata": {
        "id": "El9-dY5FqGtG"
      },
      "source": [
        "### Vamos primeiramente criar um dataset sem a coluna anomalia para ser utilizado no detector de anomalias com diferentes limiares"
      ]
    },
    {
      "cell_type": "code",
      "execution_count": null,
      "metadata": {
        "id": "h_-zeFhTqGtH",
        "outputId": "71adc45a-e836-409d-a4e3-453166c63ab2"
      },
      "outputs": [
        {
          "data": {
            "text/plain": [
              "(10100, 6)"
            ]
          },
          "execution_count": 112,
          "metadata": {},
          "output_type": "execute_result"
        }
      ],
      "source": [
        "# criando um df para X  (variáveis explicativas)\n",
        "df_x = df.iloc[:,:6]\n",
        "df_x.shape"
      ]
    },
    {
      "cell_type": "code",
      "execution_count": null,
      "metadata": {
        "id": "zBd4JGYSqGtH",
        "outputId": "1b9bfa3a-d9c7-44ad-cd25-b93cb28b30e1"
      },
      "outputs": [
        {
          "data": {
            "text/plain": [
              "(10100,)"
            ]
          },
          "execution_count": 113,
          "metadata": {},
          "output_type": "execute_result"
        }
      ],
      "source": [
        "# criando um df para y (variável com marcação)\n",
        "df_y = df.anomalia\n",
        "df_y.shape"
      ]
    },
    {
      "cell_type": "code",
      "execution_count": null,
      "metadata": {
        "id": "stsAMYGRqGtI",
        "outputId": "a1ebe2a6-bb85-4cd3-f7bf-8dd572ad7015"
      },
      "outputs": [
        {
          "data": {
            "text/html": [
              "<div>\n",
              "<style scoped>\n",
              "    .dataframe tbody tr th:only-of-type {\n",
              "        vertical-align: middle;\n",
              "    }\n",
              "\n",
              "    .dataframe tbody tr th {\n",
              "        vertical-align: top;\n",
              "    }\n",
              "\n",
              "    .dataframe thead th {\n",
              "        text-align: right;\n",
              "    }\n",
              "</style>\n",
              "<table border=\"1\" class=\"dataframe\">\n",
              "  <thead>\n",
              "    <tr style=\"text-align: right;\">\n",
              "      <th></th>\n",
              "      <th>x1</th>\n",
              "      <th>x2</th>\n",
              "      <th>x3</th>\n",
              "      <th>x4</th>\n",
              "      <th>x5</th>\n",
              "      <th>x6</th>\n",
              "    </tr>\n",
              "  </thead>\n",
              "  <tbody>\n",
              "    <tr>\n",
              "      <th>0</th>\n",
              "      <td>7.731153</td>\n",
              "      <td>23.299155</td>\n",
              "      <td>-0.367453</td>\n",
              "      <td>4.715372</td>\n",
              "      <td>9.306179</td>\n",
              "      <td>16.780965</td>\n",
              "    </tr>\n",
              "    <tr>\n",
              "      <th>1</th>\n",
              "      <td>11.466833</td>\n",
              "      <td>16.943695</td>\n",
              "      <td>-0.245131</td>\n",
              "      <td>7.060311</td>\n",
              "      <td>10.462826</td>\n",
              "      <td>19.821289</td>\n",
              "    </tr>\n",
              "    <tr>\n",
              "      <th>2</th>\n",
              "      <td>11.501272</td>\n",
              "      <td>20.196011</td>\n",
              "      <td>1.206049</td>\n",
              "      <td>-4.957189</td>\n",
              "      <td>7.771262</td>\n",
              "      <td>19.100079</td>\n",
              "    </tr>\n",
              "    <tr>\n",
              "      <th>3</th>\n",
              "      <td>10.893921</td>\n",
              "      <td>16.072385</td>\n",
              "      <td>2.738045</td>\n",
              "      <td>-3.684228</td>\n",
              "      <td>7.373334</td>\n",
              "      <td>23.225524</td>\n",
              "    </tr>\n",
              "    <tr>\n",
              "      <th>4</th>\n",
              "      <td>10.091706</td>\n",
              "      <td>19.253894</td>\n",
              "      <td>0.996895</td>\n",
              "      <td>-9.504052</td>\n",
              "      <td>8.883988</td>\n",
              "      <td>17.903298</td>\n",
              "    </tr>\n",
              "  </tbody>\n",
              "</table>\n",
              "</div>"
            ],
            "text/plain": [
              "          x1         x2        x3        x4         x5         x6\n",
              "0   7.731153  23.299155 -0.367453  4.715372   9.306179  16.780965\n",
              "1  11.466833  16.943695 -0.245131  7.060311  10.462826  19.821289\n",
              "2  11.501272  20.196011  1.206049 -4.957189   7.771262  19.100079\n",
              "3  10.893921  16.072385  2.738045 -3.684228   7.373334  23.225524\n",
              "4  10.091706  19.253894  0.996895 -9.504052   8.883988  17.903298"
            ]
          },
          "execution_count": 114,
          "metadata": {},
          "output_type": "execute_result"
        }
      ],
      "source": [
        "df_x.head()"
      ]
    },
    {
      "cell_type": "code",
      "execution_count": null,
      "metadata": {
        "id": "EHHRIO-9qGtI",
        "outputId": "048600a4-18ee-4e75-824b-345834809a6f"
      },
      "outputs": [
        {
          "data": {
            "text/plain": [
              "0    0.0\n",
              "1    0.0\n",
              "2    0.0\n",
              "3    0.0\n",
              "4    0.0\n",
              "Name: anomalia, dtype: float64"
            ]
          },
          "execution_count": 115,
          "metadata": {},
          "output_type": "execute_result"
        }
      ],
      "source": [
        "df_y.head()"
      ]
    },
    {
      "cell_type": "markdown",
      "metadata": {
        "id": "GvYibn7EqGtJ"
      },
      "source": [
        "### Vamos utilizar a classe detector de anomalias"
      ]
    },
    {
      "cell_type": "code",
      "execution_count": null,
      "metadata": {
        "id": "9DzwR2OAqGtJ"
      },
      "outputs": [],
      "source": [
        "# definindo valores para X\n",
        "X = df_x.values"
      ]
    },
    {
      "cell_type": "code",
      "execution_count": null,
      "metadata": {
        "id": "hnnsVeLHqGtJ"
      },
      "outputs": [],
      "source": [
        "# definindo valores para y\n",
        "y = df_y.values"
      ]
    },
    {
      "cell_type": "code",
      "execution_count": null,
      "metadata": {
        "id": "wctbuaE4qGtJ"
      },
      "outputs": [],
      "source": [
        "#instanciando o algoritmo\n",
        "ann = DetectorAnomalias(epsilon = 0.001)\n",
        "ann.fit(X)"
      ]
    },
    {
      "cell_type": "code",
      "execution_count": null,
      "metadata": {
        "id": "mIx9s78_qGtK",
        "outputId": "67c1a7da-a6fc-4a25-dfc7-cc1bfd450b67"
      },
      "outputs": [
        {
          "name": "stdout",
          "output_type": "stream",
          "text": [
            "marcação:  0.0 probabilidade:  4.1448586959619875e-07 classificação:  1\n"
          ]
        }
      ],
      "source": [
        "#fazendo testes\n",
        "print('marcação: ', y[0], 'probabilidade: ', ann.prob(X[0]), 'classificação: ', ann.isAnomaly(X[0]))"
      ]
    },
    {
      "cell_type": "markdown",
      "metadata": {
        "id": "iu6MYS88qGtK"
      },
      "source": [
        "### Vamos agora utilizar difrentes limiares para descobrir qual obtem a melhor nota com a métrica AUC ( já que temos uma classificação binária e é uma métrica interessante para tarefas com classes desproporcionais )"
      ]
    },
    {
      "cell_type": "code",
      "execution_count": null,
      "metadata": {
        "id": "LqnLSuj4qGtK"
      },
      "outputs": [],
      "source": [
        "from sklearn import metrics"
      ]
    },
    {
      "cell_type": "code",
      "execution_count": null,
      "metadata": {
        "id": "kjhG26x7qGtK",
        "outputId": "a43a1909-a192-4517-a6b1-358da3bc9785"
      },
      "outputs": [
        {
          "name": "stdout",
          "output_type": "stream",
          "text": [
            "O score utilizando o epsilon ( 0.01 ) foi de : 0.5\n",
            "O score utilizando o epsilon ( 0.001 ) foi de : 0.5\n",
            "O score utilizando o epsilon ( 0.0001 ) foi de : 0.5\n",
            "O score utilizando o epsilon ( 1e-05 ) foi de : 0.6675293649213617\n",
            "O score utilizando o epsilon ( 1e-06 ) foi de : 0.908222177981286\n",
            "O score utilizando o epsilon ( 1e-07 ) foi de : 0.9837248656181564\n",
            "O score utilizando o epsilon ( 1e-08 ) foi de : 0.9996018315747561\n",
            "O score utilizando o epsilon ( 1e-09 ) foi de : 0.5925925925925926\n"
          ]
        }
      ],
      "source": [
        "auc_score=[]\n",
        "ep = [10**-2, 10**-3, 10**-4, 10**-5, 10**-6, 10**-7, 10**-8, 10**-9]\n",
        "for eps in ep:\n",
        "    ann = DetectorAnomalias(epsilon = eps)\n",
        "    ann.fit(X)\n",
        "    pred=[]\n",
        "    for i in range(len(X)):\n",
        "        pred.append(ann.isAnomaly(X[i,]))\n",
        "    fpr, tpr, thresholds = metrics.roc_curve(y, pred)\n",
        "    auc_score.append(metrics.auc(fpr, tpr))\n",
        "    print('O score utilizando o epsilon (',eps,') foi de :', metrics.auc(fpr, tpr))"
      ]
    },
    {
      "cell_type": "markdown",
      "metadata": {
        "id": "zr3bdgvXqGtK"
      },
      "source": [
        "### Dentre os limiares testados, o epsilon com maior score foi o 10**-8. então vamos utilizá-lo para treinar o modelo / detector de anomalia. E aplicar algumas métricas de classificação binária nos datasets de validação e teste.\n",
        "### Vamos começar dividindo no dataset em treino , teste e validação."
      ]
    },
    {
      "cell_type": "code",
      "execution_count": null,
      "metadata": {
        "id": "3dbePDEIqGtK",
        "outputId": "8472510e-5658-438d-e260-b56cf8f01f72"
      },
      "outputs": [
        {
          "data": {
            "text/plain": [
              "(10046, 7)"
            ]
          },
          "execution_count": 122,
          "metadata": {},
          "output_type": "execute_result"
        }
      ],
      "source": [
        "#dataframe sem marcação\n",
        "df_nan = df[df.anomalia==0]\n",
        "df_nan.shape"
      ]
    },
    {
      "cell_type": "code",
      "execution_count": null,
      "metadata": {
        "id": "1xKJZvT7qGtK",
        "outputId": "00bc5c90-c058-486a-e501-2302666534b2"
      },
      "outputs": [
        {
          "data": {
            "text/plain": [
              "(54, 7)"
            ]
          },
          "execution_count": 123,
          "metadata": {},
          "output_type": "execute_result"
        }
      ],
      "source": [
        "#dataframe somente da marcação\n",
        "df_an = df[df.anomalia==1]\n",
        "df_an.shape"
      ]
    },
    {
      "cell_type": "code",
      "execution_count": null,
      "metadata": {
        "id": "bBSaLpqYqGtL",
        "outputId": "d8643e1f-fe31-41ff-965e-2d5781e8f3a6"
      },
      "outputs": [
        {
          "data": {
            "text/plain": [
              "((6046, 7), (2027, 7), (2027, 7))"
            ]
          },
          "execution_count": 127,
          "metadata": {},
          "output_type": "execute_result"
        }
      ],
      "source": [
        "treino = df_nan[:6046] #vamos utilizar 6000 linhas sem marcação para o treino\n",
        "valida = pd.concat([df_nan[6046:8046],df_an[:27]]) #2000 linhas com marcação para validação\n",
        "teste = pd.concat([df_nan[8046:],df_an[27:]]) #2000 linhas com marcação para teste\n",
        "treino.shape, valida.shape, teste.shape"
      ]
    },
    {
      "cell_type": "code",
      "execution_count": null,
      "metadata": {
        "id": "QNgjgyVNqGtL"
      },
      "outputs": [],
      "source": [
        "x_treino = treino.drop('anomalia', axis=1).values\n",
        "y_treino = treino.anomalia.values\n",
        "\n",
        "x_valida = valida.drop('anomalia', axis=1).values\n",
        "y_valida = valida.anomalia.values\n",
        "\n",
        "x_teste = teste.drop('anomalia', axis=1).values\n",
        "y_teste = teste.anomalia.values"
      ]
    },
    {
      "cell_type": "markdown",
      "metadata": {
        "id": "one4cE_pqGtL"
      },
      "source": [
        "### Tendo os datasets já separados vamos ver se obtemos um bom score nos dataset de validação e teste"
      ]
    },
    {
      "cell_type": "code",
      "execution_count": null,
      "metadata": {
        "id": "ytlfQ4OhqGtL",
        "outputId": "cbfe9256-e5dc-442c-bff2-ba0520cf503b"
      },
      "outputs": [
        {
          "name": "stdout",
          "output_type": "stream",
          "text": [
            "AUC Score no dataset de validação  99.95 %\n"
          ]
        }
      ],
      "source": [
        "ann = DetectorAnomalias(epsilon=10**-8)\n",
        "ann.fit(x_treino)\n",
        "y_pred=[]\n",
        "for i in range(len(y_valida)):\n",
        "    y_pred.append(ann.isAnomaly(x_valida[i, ]))\n",
        "\n",
        "fpr, tpr, thresholds = metrics.roc_curve(y_valida, y_pred)\n",
        "print('AUC Score no dataset de validação ',round(metrics.auc(fpr, tpr),5)*100,'%')"
      ]
    },
    {
      "cell_type": "code",
      "execution_count": null,
      "metadata": {
        "id": "ZnArg9gUqGtL",
        "outputId": "f347d46f-cceb-41d4-dfa8-246c4216f7a2"
      },
      "outputs": [
        {
          "name": "stdout",
          "output_type": "stream",
          "text": [
            "AUC Score no dataset de teste  99.9 %\n"
          ]
        }
      ],
      "source": [
        "ann = DetectorAnomalias(epsilon=10**-8)\n",
        "ann.fit(x_treino)\n",
        "y_pred=[]\n",
        "for i in range(len(y_teste)):\n",
        "    y_pred.append(ann.isAnomaly(x_teste[i, ]))\n",
        "\n",
        "fpr, tpr, thresholds = metrics.roc_curve(y_teste, y_pred)\n",
        "print('AUC Score no dataset de teste ',round(metrics.auc(fpr, tpr),5)*100,'%')"
      ]
    },
    {
      "cell_type": "markdown",
      "metadata": {
        "id": "iI3ieBAgqGtL"
      },
      "source": [
        "### Em ambos datasets obtivemos um score bem alto <br> Vamos agora testar outras métricas"
      ]
    },
    {
      "cell_type": "code",
      "execution_count": null,
      "metadata": {
        "id": "DvHwQlfSqGtL"
      },
      "outputs": [],
      "source": [
        "from sklearn.metrics import accuracy_score #número de previsões corretas pelo número total de previsões\n",
        "from sklearn.metrics import f1_score #média harmônica entre a precisão e o recall\n",
        "from sklearn.metrics import precision_score #mede o quanto podemos confiar num modelo , mede a quantidade de vezes que o seu modelo acerta em relação ao total de vezes que ele tenta acertar\n",
        "from sklearn.metrics import recall_score #quantidade de vezes que o seu modelo acerta em relação ao total de vezes que ele deveria ter acertado"
      ]
    },
    {
      "cell_type": "code",
      "execution_count": null,
      "metadata": {
        "id": "Gw2Awa7xqGtM",
        "outputId": "c9352a25-fc69-4b3d-a805-cf1c2b4e72fd"
      },
      "outputs": [
        {
          "name": "stdout",
          "output_type": "stream",
          "text": [
            "Accuracy Score no dataset de teste  99.803 %\n",
            "F1 Score no dataset de teste  93.0 %\n",
            "Precision Score no dataset de teste  87.0 %\n",
            "Recall Score no dataset de teste  100.0 %\n"
          ]
        }
      ],
      "source": [
        "print('Accuracy Score no dataset de teste ',round(accuracy_score(y_teste, y_pred),5)*100,'%')\n",
        "print('F1 Score no dataset de teste ',round(f1_score(y_teste, y_pred),2)*100,'%')\n",
        "print('Precision Score no dataset de teste ',round(precision_score(y_teste, y_pred),2)*100,'%')\n",
        "print('Recall Score no dataset de teste ',round(recall_score(y_teste, y_pred),2)*100,'%')"
      ]
    },
    {
      "cell_type": "markdown",
      "metadata": {
        "id": "xlLlRXt9qGtM"
      },
      "source": [
        "### Com uma acurácia de 99,8%. A precisão embora seja alta, não acompanha o score dos demais talvez or não termos classes muito balanceadas, ou seja, a representatividade de amostras anômalas é muito pequena em relação as normais."
      ]
    },
    {
      "cell_type": "code",
      "execution_count": null,
      "metadata": {
        "id": "bPtTrNOEqGtM"
      },
      "outputs": [],
      "source": []
    }
  ],
  "metadata": {
    "kernelspec": {
      "display_name": "Python 3 (ipykernel)",
      "language": "python",
      "name": "python3"
    },
    "language_info": {
      "codemirror_mode": {
        "name": "ipython",
        "version": 3
      },
      "file_extension": ".py",
      "mimetype": "text/x-python",
      "name": "python",
      "nbconvert_exporter": "python",
      "pygments_lexer": "ipython3",
      "version": "3.9.13"
    },
    "colab": {
      "provenance": [],
      "include_colab_link": true
    }
  },
  "nbformat": 4,
  "nbformat_minor": 0
}